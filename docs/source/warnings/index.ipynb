{
 "cells": [
  {
   "cell_type": "markdown",
   "id": "b4da3f13-4383-4c86-a582-e9a28c05e433",
   "metadata": {
    "pycharm": {
     "name": "#%% md\n"
    }
   },
   "source": [
    "# warnings - Warning control\n",
    "\n",
    "- Doc: https://docs.python.org/3/library/warnings.html\n",
    "\n",
    "Warnings 是 Python 中负责警告的模块. 它通常是发出一些警告信息, 但不会阻止程序运行."
   ]
  },
  {
   "cell_type": "code",
   "execution_count": 3,
   "id": "f07213ec-267e-42b5-ba06-be8c682713d6",
   "metadata": {
    "pycharm": {
     "name": "#%%\n"
    }
   },
   "outputs": [],
   "source": [
    "import warnings"
   ]
  },
  {
   "cell_type": "markdown",
   "id": "a851484a-9805-4823-afc9-52259822d38d",
   "metadata": {
    "pycharm": {
     "name": "#%% md\n"
    }
   },
   "source": [
    "## Define Custom Warning"
   ]
  },
  {
   "cell_type": "code",
   "execution_count": 13,
   "id": "e0241704-2c7e-411e-a6e4-d5541abbbdcd",
   "metadata": {
    "pycharm": {
     "name": "#%%\n"
    }
   },
   "outputs": [],
   "source": [
    "class MyWarning(Warning):\n",
    "    pass"
   ]
  },
  {
   "cell_type": "markdown",
   "id": "fae8c32f-70c9-468c-8544-2603aa4c9d2e",
   "metadata": {
    "pycharm": {
     "name": "#%% md\n"
    }
   },
   "source": [
    "## Raise Warning"
   ]
  },
  {
   "cell_type": "code",
   "execution_count": 16,
   "id": "d00c42ad-35d6-47b6-af9b-38caddc0ccad",
   "metadata": {
    "pycharm": {
     "name": "#%%\n"
    }
   },
   "outputs": [],
   "source": [
    "def my_func():\n",
    "    warnings.warn(\"My warning in my_func()!\", MyWarning)\n",
    "    print(\"run my_func()\")"
   ]
  },
  {
   "cell_type": "code",
   "execution_count": 18,
   "id": "42aa01a4-7c61-4856-9f0a-8f5544355a7b",
   "metadata": {
    "pycharm": {
     "name": "#%%\n"
    }
   },
   "outputs": [
    {
     "name": "stdout",
     "output_type": "stream",
     "text": [
      "before\n",
      "run my_func()\n",
      "after\n"
     ]
    },
    {
     "name": "stderr",
     "output_type": "stream",
     "text": [
      "/var/folders/3y/7t5ll4sn6x76g8rhfqlc36dw0000gn/T/ipykernel_58584/1986793376.py:2: MyWarning: My warning in my_func()!\n",
      "  warnings.warn(\"My warning in my_func()!\", MyWarning)\n"
     ]
    }
   ],
   "source": [
    "print(\"before\")\n",
    "my_func()\n",
    "print(\"after\")"
   ]
  },
  {
   "cell_type": "markdown",
   "id": "0abe9a5f-765b-4453-8965-9e8d52d6b056",
   "metadata": {
    "pycharm": {
     "name": "#%% md\n"
    }
   },
   "source": [
    "## Temporarily Suppressing Warnings\n",
    "\n",
    "有的时候你知道一段代码会抛出 warning, 而且你很清楚这个 warning 是可以被忽略的, 你不希望打印出 warning 信息. 但是你又不希望因为禁用了全部的 warning 导致在这一段代码外应该抛出 warning 的地方没有抛出. 你希望用类似 ``try ... except ExpectedException`` 这样的方式不仅精确控制忽略 warning 的代码块, 并且还能清晰的指定只忽略特定 的 warning 类型.\n",
    "\n",
    "warning 模块提供了两个 API 可以做到这一点:\n",
    "\n",
    "- [warnings.catch_warnings](https://docs.python.org/3/library/warnings.html#warnings.catch_warnings): 它是一个 context manager, 能够暂时的修改全局的 warning 的设置并在推出 context 后自动恢复原有设置.\n",
    "- [warnings.simplefilter](https://docs.python.org/3/library/warnings.html#warnings.simplefilter): 它是一个函数, 能修改全局的 warning filter 的设置. 其中它有两个关键参数, ``action`` 和 ``category``. ``action`` 定义了 match 到特定 warning 后应该怎么处理 (请参考 [Warning Filter](https://docs.python.org/3/library/warnings.html#the-warnings-filter)), 例如有: \"ignore\" 表示不打印 warning, \"error\" 表示将其转化为 Exception. 等等. 而 ``category`` 则定义了要过滤的 warning 类. 所有指定类的子类都会被过滤掉. 这根 try, except 机制一样. 其中 ``Warning`` 是所有 warning 类的基类.\n",
    "\n",
    "值得注意的是在 3.11 中 ``catch_warnings`` 加入了 ``action``, ``category`` 参数. 也就是说 3.11 之前你需要两个 API 配合使用, 而 3.11 后则只需要 ``catch_warnings`` 即可.\n",
    "\n",
    "Reference:\n",
    "\n",
    "- https://docs.python.org/3/library/warnings.html#temporarily-suppressing-warnings"
   ]
  },
  {
   "cell_type": "markdown",
   "id": "6c3b4c9f-cb22-4475-8f4b-b4557d1c3868",
   "metadata": {
    "pycharm": {
     "name": "#%% md\n"
    }
   },
   "source": [
    "You won't see the warning."
   ]
  },
  {
   "cell_type": "code",
   "execution_count": 21,
   "id": "d8392cb1-ca67-4c37-b40d-bc739394942d",
   "metadata": {
    "pycharm": {
     "name": "#%%\n"
    }
   },
   "outputs": [
    {
     "name": "stdout",
     "output_type": "stream",
     "text": [
      "run my_func()\n"
     ]
    }
   ],
   "source": [
    "with warnings.catch_warnings():\n",
    "    # ignore it\n",
    "    warnings.simplefilter(\"ignore\", MyWarning)\n",
    "    my_func()"
   ]
  },
  {
   "cell_type": "markdown",
   "id": "0644a89f-dbca-4cf2-9e01-8849242fbbf8",
   "metadata": {
    "pycharm": {
     "name": "#%% md\n"
    }
   },
   "source": [
    "Without context manager, you still see the warning."
   ]
  },
  {
   "cell_type": "code",
   "execution_count": 22,
   "id": "929f12d4-76e7-419f-8af5-52b2dfcb26ab",
   "metadata": {
    "pycharm": {
     "name": "#%%\n"
    }
   },
   "outputs": [
    {
     "name": "stdout",
     "output_type": "stream",
     "text": [
      "run my_func()\n"
     ]
    },
    {
     "name": "stderr",
     "output_type": "stream",
     "text": [
      "/var/folders/3y/7t5ll4sn6x76g8rhfqlc36dw0000gn/T/ipykernel_58584/1986793376.py:2: MyWarning: My warning in my_func()!\n",
      "  warnings.warn(\"My warning in my_func()!\", MyWarning)\n"
     ]
    }
   ],
   "source": [
    "my_func()"
   ]
  },
  {
   "cell_type": "markdown",
   "id": "003e3a45-7ab7-4575-94e3-ca2175aef5a9",
   "metadata": {
    "pycharm": {
     "name": "#%% md\n"
    }
   },
   "source": [
    "You still see the warning, because the category is wrong."
   ]
  },
  {
   "cell_type": "code",
   "execution_count": 23,
   "id": "403aa687-3151-4c3c-b803-08401b64b3ff",
   "metadata": {
    "pycharm": {
     "name": "#%%\n"
    }
   },
   "outputs": [
    {
     "name": "stdout",
     "output_type": "stream",
     "text": [
      "run my_func()\n"
     ]
    },
    {
     "name": "stderr",
     "output_type": "stream",
     "text": [
      "/var/folders/3y/7t5ll4sn6x76g8rhfqlc36dw0000gn/T/ipykernel_58584/1986793376.py:2: MyWarning: My warning in my_func()!\n",
      "  warnings.warn(\"My warning in my_func()!\", MyWarning)\n"
     ]
    }
   ],
   "source": [
    "with warnings.catch_warnings():\n",
    "    # wrong Warning type\n",
    "    warnings.simplefilter(\"ignore\", category=DeprecationWarning)\n",
    "    my_func()"
   ]
  },
  {
   "cell_type": "markdown",
   "id": "153d209c-0a8d-445a-9027-11cb8876ab77",
   "metadata": {
    "pycharm": {
     "name": "#%% md\n"
    }
   },
   "source": [
    "## Testing Warnings\n",
    "\n",
    "有的时候你需要测试你的代码, 看看 warning 是不是真的被抛出了. 在 pytest 框架中有一个 ``with pytest.raises(YourException)`` 的 API 可以做到测试指定异常是不是被抛出了. 类似地, [warnings.catch_warnings](https://docs.python.org/3/library/warnings.html#warnings.catch_warnings) 也能做到这一点.\n",
    "\n",
    "Reference:\n",
    "\n",
    "- https://docs.python.org/3/library/warnings.html#testing-warnings"
   ]
  },
  {
   "cell_type": "code",
   "execution_count": 24,
   "id": "407024a1-3275-4ba8-8ff2-4ebad215b49d",
   "metadata": {
    "pycharm": {
     "name": "#%%\n"
    }
   },
   "outputs": [
    {
     "name": "stdout",
     "output_type": "stream",
     "text": [
      "run my_func()\n"
     ]
    }
   ],
   "source": [
    "with warnings.catch_warnings(record=True) as w:\n",
    "    # Cause all warnings always to be triggered.\n",
    "    warnings.simplefilter(\"always\", category=MyWarning)\n",
    "    # Trigger a warning.\n",
    "    my_func()\n",
    "    # Verify some things\n",
    "    assert len(w) == 1"
   ]
  },
  {
   "cell_type": "code",
   "execution_count": null,
   "id": "eba53b01-7568-4efb-a760-0f3cd3181cd3",
   "metadata": {
    "pycharm": {
     "name": "#%%\n"
    }
   },
   "outputs": [],
   "source": []
  }
 ],
 "metadata": {
  "kernelspec": {
   "display_name": "Python 3 (ipykernel)",
   "language": "python",
   "name": "python3"
  },
  "language_info": {
   "codemirror_mode": {
    "name": "ipython",
    "version": 3
   },
   "file_extension": ".py",
   "mimetype": "text/x-python",
   "name": "python",
   "nbconvert_exporter": "python",
   "pygments_lexer": "ipython3",
   "version": "3.8.13"
  }
 },
 "nbformat": 4,
 "nbformat_minor": 5
}