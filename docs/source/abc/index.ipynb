{
 "cells": [
  {
   "cell_type": "markdown",
   "id": "7bb2f440-6118-4b3f-bbc9-d5fd1d931247",
   "metadata": {},
   "source": [
    "# Abstract Base Class\n",
    "\n",
    "- [Python official doc](https://docs.python.org/3/library/abc.html)\n",
    "\n",
    "\n",
    "## Overview\n",
    "\n",
    "Abstract class (还有 abstract method) 是一种实现抽象类, 并让用户去继承, 然后自己实现特定方法的设计模式. Python 中的 ``abc`` 库能让你在尝试实例化一个抽象方法没有被实现的抽象类的情况下报错. 防止用户继承了这个类但是忘记实现了某些方法.\n",
    "\n",
    "\n",
    "## Basic Usage\n",
    "\n",
    "You can't instantiate abstract class with abstract methods."
   ]
  },
  {
   "cell_type": "code",
   "execution_count": 1,
   "id": "42797bbb-0a70-4f97-b875-5bea95bd10c2",
   "metadata": {},
   "outputs": [],
   "source": [
    "import abc"
   ]
  },
  {
   "cell_type": "code",
   "execution_count": 2,
   "id": "10660f7a-10af-4382-a37c-fecbb89239eb",
   "metadata": {},
   "outputs": [],
   "source": [
    "class Animal(abc.ABC):\n",
    "    @abc.abstractmethod\n",
    "    def bark(self):\n",
    "        raise NotImplementedError"
   ]
  },
  {
   "cell_type": "code",
   "execution_count": 3,
   "id": "d9e8c3a0-8fac-4159-ae08-34bdf780946f",
   "metadata": {},
   "outputs": [
    {
     "ename": "TypeError",
     "evalue": "Can't instantiate abstract class Animal with abstract methods bark",
     "output_type": "error",
     "traceback": [
      "\u001b[0;31m---------------------------------------------------------------------------\u001b[0m",
      "\u001b[0;31mTypeError\u001b[0m                                 Traceback (most recent call last)",
      "Cell \u001b[0;32mIn[3], line 1\u001b[0m\n\u001b[0;32m----> 1\u001b[0m animal \u001b[38;5;241m=\u001b[39m \u001b[43mAnimal\u001b[49m\u001b[43m(\u001b[49m\u001b[43m)\u001b[49m\n",
      "\u001b[0;31mTypeError\u001b[0m: Can't instantiate abstract class Animal with abstract methods bark"
     ]
    }
   ],
   "source": [
    "animal = Animal()"
   ]
  },
  {
   "cell_type": "code",
   "execution_count": 5,
   "id": "53a86f60-9b2a-4c16-ae28-9141606ca47b",
   "metadata": {},
   "outputs": [
    {
     "name": "stdout",
     "output_type": "stream",
     "text": [
      "woof!\n"
     ]
    }
   ],
   "source": [
    "class Dog(Animal):\n",
    "    def bark(self):\n",
    "        print(\"woof!\")\n",
    "\n",
    "dog = Dog()\n",
    "dog.bark()"
   ]
  },
  {
   "cell_type": "markdown",
   "id": "bd89c8ff-c98c-4cce-aee4-b47d7fec051d",
   "metadata": {},
   "source": [
    "## Use dataclasses with ABC"
   ]
  },
  {
   "cell_type": "code",
   "execution_count": 7,
   "id": "2b061c10-9ff7-4431-b342-2caf1f521cea",
   "metadata": {},
   "outputs": [
    {
     "ename": "TypeError",
     "evalue": "Can't instantiate abstract class Car with abstract methods start",
     "output_type": "error",
     "traceback": [
      "\u001b[0;31m---------------------------------------------------------------------------\u001b[0m",
      "\u001b[0;31mTypeError\u001b[0m                                 Traceback (most recent call last)",
      "Cell \u001b[0;32mIn[7], line 9\u001b[0m\n\u001b[1;32m      5\u001b[0m     \u001b[38;5;129m@abc\u001b[39m\u001b[38;5;241m.\u001b[39mabstractmethod\n\u001b[1;32m      6\u001b[0m     \u001b[38;5;28;01mdef\u001b[39;00m \u001b[38;5;21mstart\u001b[39m(\u001b[38;5;28mself\u001b[39m):\n\u001b[1;32m      7\u001b[0m         \u001b[38;5;28;01mraise\u001b[39;00m \u001b[38;5;167;01mNotImplementedError\u001b[39;00m\n\u001b[0;32m----> 9\u001b[0m car \u001b[38;5;241m=\u001b[39m \u001b[43mCar\u001b[49m\u001b[43m(\u001b[49m\u001b[43m)\u001b[49m\n",
      "\u001b[0;31mTypeError\u001b[0m: Can't instantiate abstract class Car with abstract methods start"
     ]
    }
   ],
   "source": [
    "import dataclasses\n",
    "\n",
    "@dataclasses.dataclass\n",
    "class Car(abc.ABC):\n",
    "    @abc.abstractmethod\n",
    "    def start(self):\n",
    "        raise NotImplementedError\n",
    "\n",
    "car = Car()"
   ]
  },
  {
   "cell_type": "code",
   "execution_count": 9,
   "id": "3fad76df-b1d6-4ef0-aba2-bd647ced9ccd",
   "metadata": {},
   "outputs": [
    {
     "name": "stdout",
     "output_type": "stream",
     "text": [
      "telsa engine start!\n"
     ]
    }
   ],
   "source": [
    "@dataclasses.dataclass\n",
    "class Tesla(Car):\n",
    "    def start(self):\n",
    "        print(\"telsa engine start!\")\n",
    "\n",
    "telsa = Tesla()\n",
    "telsa.start()"
   ]
  },
  {
   "cell_type": "markdown",
   "id": "f9d00d17-e8e3-47c7-9a73-69fe915fbb11",
   "metadata": {},
   "source": [
    "## Subclass from ABC and other Base Class\n",
    "\n",
    "Note: subclass from other base class first, then abstract class"
   ]
  },
  {
   "cell_type": "code",
   "execution_count": 10,
   "id": "b74bc5e1-3dfd-4e11-b0c6-43a349853c5f",
   "metadata": {},
   "outputs": [
    {
     "ename": "TypeError",
     "evalue": "Can't instantiate abstract class Bird with abstract methods fly",
     "output_type": "error",
     "traceback": [
      "\u001b[0;31m---------------------------------------------------------------------------\u001b[0m",
      "\u001b[0;31mTypeError\u001b[0m                                 Traceback (most recent call last)",
      "Cell \u001b[0;32mIn[10], line 12\u001b[0m\n\u001b[1;32m      8\u001b[0m     \u001b[38;5;129m@abc\u001b[39m\u001b[38;5;241m.\u001b[39mabstractmethod\n\u001b[1;32m      9\u001b[0m     \u001b[38;5;28;01mdef\u001b[39;00m \u001b[38;5;21mfly\u001b[39m(\u001b[38;5;28mself\u001b[39m):\n\u001b[1;32m     10\u001b[0m         \u001b[38;5;28;01mraise\u001b[39;00m \u001b[38;5;167;01mNotImplementedError\u001b[39;00m\n\u001b[0;32m---> 12\u001b[0m bird \u001b[38;5;241m=\u001b[39m \u001b[43mBird\u001b[49m\u001b[43m(\u001b[49m\u001b[43m)\u001b[49m\n\u001b[1;32m     13\u001b[0m car \u001b[38;5;241m=\u001b[39m Car()\n",
      "\u001b[0;31mTypeError\u001b[0m: Can't instantiate abstract class Bird with abstract methods fly"
     ]
    }
   ],
   "source": [
    "@dataclasses.dataclass\n",
    "class Base:\n",
    "    name: str\n",
    "    \n",
    "\n",
    "@dataclasses.dataclass\n",
    "class Bird(Base, abc.ABC):\n",
    "    @abc.abstractmethod\n",
    "    def fly(self):\n",
    "        raise NotImplementedError\n",
    "\n",
    "bird = Bird()\n",
    "car = Car()"
   ]
  },
  {
   "cell_type": "code",
   "execution_count": 11,
   "id": "e27bc6ad-ade1-47b2-b37e-8b99c8f9c14f",
   "metadata": {},
   "outputs": [
    {
     "name": "stdout",
     "output_type": "stream",
     "text": [
      "Hedwig is flying!\n"
     ]
    }
   ],
   "source": [
    "@dataclasses.dataclass\n",
    "class Owl(Base, abc.ABC):\n",
    "    def fly(self):\n",
    "        print(f\"{self.name} is flying!\")\n",
    "\n",
    "\n",
    "owl = Owl(\"Hedwig\")\n",
    "owl.fly()"
   ]
  },
  {
   "cell_type": "code",
   "execution_count": 12,
   "id": "db4c6be3-bb31-4e71-8558-8fa67368bd95",
   "metadata": {},
   "outputs": [
    {
     "name": "stdout",
     "output_type": "stream",
     "text": [
      "Owl(name='Hedwig')\n"
     ]
    }
   ],
   "source": [
    "print(owl)"
   ]
  },
  {
   "cell_type": "markdown",
   "id": "b0cd59db-bfdf-4eb7-b8c1-18c5e34f1a77",
   "metadata": {},
   "source": [
    "## Abstract method can have logic"
   ]
  },
  {
   "cell_type": "code",
   "execution_count": 14,
   "id": "1ec71246-f1ab-499a-8d64-1fcaa23ee400",
   "metadata": {},
   "outputs": [
    {
     "name": "stdout",
     "output_type": "stream",
     "text": [
      "Hello\n",
      "My name is alice\n"
     ]
    }
   ],
   "source": [
    "class Person(abc.ABC):\n",
    "    @abc.abstractmethod\n",
    "    def say_hello(self):\n",
    "        print(\"Hello\")\n",
    "\n",
    "\n",
    "class Student(Person):\n",
    "    def say_hello(self, name: str):\n",
    "        super().say_hello()\n",
    "        print(f\"My name is {name}\")\n",
    "\n",
    "\n",
    "student = Student()\n",
    "student.say_hello(\"alice\")"
   ]
  },
  {
   "cell_type": "code",
   "execution_count": null,
   "id": "c5834624-3132-4315-9e1f-4552ddb19226",
   "metadata": {},
   "outputs": [],
   "source": []
  }
 ],
 "metadata": {
  "kernelspec": {
   "display_name": "Python 3 (ipykernel)",
   "language": "python",
   "name": "python3"
  },
  "language_info": {
   "codemirror_mode": {
    "name": "ipython",
    "version": 3
   },
   "file_extension": ".py",
   "mimetype": "text/x-python",
   "name": "python",
   "nbconvert_exporter": "python",
   "pygments_lexer": "ipython3",
   "version": "3.8.11"
  }
 },
 "nbformat": 4,
 "nbformat_minor": 5
}
