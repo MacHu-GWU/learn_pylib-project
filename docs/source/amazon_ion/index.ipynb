{
 "cells": [
  {
   "cell_type": "raw",
   "id": "c1903b91-cf6c-4cb5-b5ac-7d5339781d35",
   "metadata": {
    "editable": true,
    "raw_mimetype": "text/restructuredtext",
    "slideshow": {
     "slide_type": ""
    },
    "tags": []
   },
   "source": [
    ".. _py-amazon-ion:\n",
    "\n",
    "Amazon ION - Richly Typed Self Describing Data Serialization Format\n",
    "==============================================================================\n",
    "Library to record terminal session and playback.\n",
    "\n",
    "- PyPI: https://pypi.org/project/amazon.ion/\n",
    "- GitHub: https://github.com/amazon-ion/ion-python\n",
    "- Doc: https://amazon-ion.github.io/ion-docs/\n",
    "- Website: https://amazon-ion.github.io/ion-docs/"
   ]
  },
  {
   "cell_type": "code",
   "execution_count": 1,
   "id": "93d72440-865b-4df3-af16-cbeb1f95a4b3",
   "metadata": {
    "editable": true,
    "slideshow": {
     "slide_type": ""
    },
    "tags": []
   },
   "outputs": [],
   "source": [
    "from pathlib import Path\n",
    "import amazon.ion.simpleion as ion\n",
    "from amazon.ion.simple_types import IonPyDict\n",
    "from rich import print as rprint\n",
    "\n",
    "dir_here = Path.cwd()\n",
    "path = dir_here / \"data.ion\""
   ]
  },
  {
   "cell_type": "code",
   "execution_count": 2,
   "id": "52209830-b445-4e02-b7d8-77ecd3c394e2",
   "metadata": {
    "editable": true,
    "slideshow": {
     "slide_type": ""
    },
    "tags": []
   },
   "outputs": [],
   "source": [
    "py_data = {\n",
    "    \"id\": 1,\n",
    "    \"name\": \"Alice\",\n",
    "    \"age\": 25,\n",
    "    \"weight\": 94.7,\n",
    "    \"bio\": {\n",
    "        \"dob\": \"1990-01-01\",\n",
    "        \"address\": \"123 Main St.\",\n",
    "        \"hometown\": None,\n",
    "    },\n",
    "    \"relationships\": [\n",
    "        {\"name\": \"Bob\", \"relation\": \"friend\"},\n",
    "        {\"name\": \"Charlie\", \"relation\": \"father\"},\n",
    "    ],\n",
    "}"
   ]
  },
  {
   "cell_type": "markdown",
   "id": "549c758f-7f18-49c3-8ee5-a1631ce76669",
   "metadata": {
    "editable": true,
    "slideshow": {
     "slide_type": ""
    },
    "tags": []
   },
   "source": [
    "## Encode as Bytes"
   ]
  },
  {
   "cell_type": "code",
   "execution_count": 3,
   "id": "c73badc0-7df0-411c-b299-6c2dc919d3ce",
   "metadata": {
    "editable": true,
    "slideshow": {
     "slide_type": ""
    },
    "tags": []
   },
   "outputs": [
    {
     "name": "stdout",
     "output_type": "stream",
     "text": [
      "--- Dump one record to bytes ---\n",
      "b'\\xe0\\x01\\x00\\xea\\xee\\xc5\\x81\\x83\\xde\\xc1\\x87\\xbe\\xbe\\x82id\\x83age\\x86weight\\x83bio\\x83dob\\x87address\\x88hometown\\x8drelationships\\x88relation\\xde\\xdb\\x8a!\\x01\\x84\\x85Alice\\x8b!\\x19\\x8cH@W\\xac\\xcc\\xcc\\xcc\\xcc\\xcd\\x8d\\xde\\x9c\\x8e\\x8a1990-01-01\\x8f\\x8c123 Main St.\\x90\\x0f\\x91\\xbe\\xa2\\xde\\x8d\\x84\\x83Bob\\x92\\x86friend\\xde\\x91\\x84\\x87Charlie\\x92\\x86father'\n"
     ]
    }
   ],
   "source": [
    "print(\"--- Dump one record to bytes ---\")\n",
    "print(ion.dumps(py_data))"
   ]
  },
  {
   "cell_type": "code",
   "execution_count": 4,
   "id": "53a4b5b2-57df-4e2e-a9e9-0b7b5778273c",
   "metadata": {
    "editable": true,
    "slideshow": {
     "slide_type": ""
    },
    "tags": []
   },
   "outputs": [
    {
     "name": "stdout",
     "output_type": "stream",
     "text": [
      "--- Dump many records to bytes ---\n",
      "b'\\xe0\\x01\\x00\\xea\\xee\\xc5\\x81\\x83\\xde\\xc1\\x87\\xbe\\xbe\\x82id\\x83age\\x86weight\\x83bio\\x83dob\\x87address\\x88hometown\\x8drelationships\\x88relation\\xbe\\xdd\\xde\\xdb\\x8a!\\x01\\x84\\x85Alice\\x8b!\\x19\\x8cH@W\\xac\\xcc\\xcc\\xcc\\xcc\\xcd\\x8d\\xde\\x9c\\x8e\\x8a1990-01-01\\x8f\\x8c123 Main St.\\x90\\x0f\\x91\\xbe\\xa2\\xde\\x8d\\x84\\x83Bob\\x92\\x86friend\\xde\\x91\\x84\\x87Charlie\\x92\\x86father'\n"
     ]
    }
   ],
   "source": [
    "print(\"--- Dump many records to bytes ---\")\n",
    "print(ion.dumps([py_data]))"
   ]
  },
  {
   "cell_type": "code",
   "execution_count": 5,
   "id": "ee58cded-0f8d-4db4-9b68-07e760db4911",
   "metadata": {
    "editable": true,
    "slideshow": {
     "slide_type": ""
    },
    "tags": []
   },
   "outputs": [
    {
     "name": "stdout",
     "output_type": "stream",
     "text": [
      "--- Dump one record to file ---\n"
     ]
    }
   ],
   "source": [
    "print(\"--- Dump one record to file ---\")\n",
    "with path.open(\"wb\") as f:\n",
    "    ion.dump(py_data, f)"
   ]
  },
  {
   "cell_type": "code",
   "execution_count": 6,
   "id": "4c25824d-0a7b-42fa-b74a-75917392155e",
   "metadata": {
    "editable": true,
    "slideshow": {
     "slide_type": ""
    },
    "tags": []
   },
   "outputs": [
    {
     "name": "stdout",
     "output_type": "stream",
     "text": [
      "--- Load one record from file ---\n",
      "type(data) = <class 'amazon.ion.simple_types.IonPyDict'>\n"
     ]
    }
   ],
   "source": [
    "print(\"--- Load one record from file ---\")\n",
    "with path.open(\"rb\") as f:\n",
    "    data = ion.load(f)\n",
    "    print(f\"{type(data) = }\")"
   ]
  },
  {
   "cell_type": "code",
   "execution_count": 7,
   "id": "f1ab8f67-7614-4d9a-b0a4-5b1058d2daa9",
   "metadata": {
    "editable": true,
    "slideshow": {
     "slide_type": ""
    },
    "tags": []
   },
   "outputs": [
    {
     "name": "stdout",
     "output_type": "stream",
     "text": [
      "data = {'id': 1, 'name': 'Alice', 'age': 25, 'weight': 94.7, 'bio': {'dob': '1990-01-01', 'address': '123 Main St.', 'hometown': <amazon.ion.simple_types.IonPyNull object at 0x1043130a0>}, 'relationships': [{'name': 'Bob', 'relation': 'friend'}, {'name': 'Charlie', 'relation': 'father'}]}\n"
     ]
    }
   ],
   "source": [
    "print(f\"{data = }\")"
   ]
  },
  {
   "cell_type": "code",
   "execution_count": 8,
   "id": "f5cd0368-baf8-4f77-b91f-69a7399b0443",
   "metadata": {
    "editable": true,
    "slideshow": {
     "slide_type": ""
    },
    "tags": []
   },
   "outputs": [
    {
     "name": "stdout",
     "output_type": "stream",
     "text": [
      "--- Dump many records to file ---\n"
     ]
    }
   ],
   "source": [
    "print(\"--- Dump many records to file ---\")\n",
    "with path.open(\"wb\") as f:\n",
    "    ion.dump([py_data], f)"
   ]
  },
  {
   "cell_type": "code",
   "execution_count": 9,
   "id": "f4730b8a-a3e1-457a-9ad3-2383d59b0db4",
   "metadata": {
    "editable": true,
    "slideshow": {
     "slide_type": ""
    },
    "tags": []
   },
   "outputs": [
    {
     "name": "stdout",
     "output_type": "stream",
     "text": [
      "--- Load many records from file ---\n",
      "type(data) = <class 'amazon.ion.simple_types.IonPyList'>\n"
     ]
    }
   ],
   "source": [
    "print(\"--- Load many records from file ---\")\n",
    "with path.open(\"rb\") as f:\n",
    "    data = ion.load(f)\n",
    "    print(f\"{type(data) = }\")"
   ]
  },
  {
   "cell_type": "code",
   "execution_count": 10,
   "id": "f394567a-bf7b-4d4c-af9b-ec92b603406a",
   "metadata": {
    "editable": true,
    "slideshow": {
     "slide_type": ""
    },
    "tags": []
   },
   "outputs": [
    {
     "name": "stdout",
     "output_type": "stream",
     "text": [
      "data = [{'id': 1, 'name': 'Alice', 'age': 25, 'weight': 94.7, 'bio': {'dob': '1990-01-01', 'address': '123 Main St.', 'hometown': <amazon.ion.simple_types.IonPyNull object at 0x104308cd0>}, 'relationships': [{'name': 'Bob', 'relation': 'friend'}, {'name': 'Charlie', 'relation': 'father'}]}]\n"
     ]
    }
   ],
   "source": [
    "print(f\"{data = }\")"
   ]
  },
  {
   "cell_type": "markdown",
   "id": "52c079a5-3cf3-4aad-8e3b-50e2315d705a",
   "metadata": {
    "editable": true,
    "slideshow": {
     "slide_type": ""
    },
    "tags": []
   },
   "source": [
    "## Encode as String"
   ]
  },
  {
   "cell_type": "code",
   "execution_count": 11,
   "id": "59966451-b67e-44e8-a242-e40bb8020a38",
   "metadata": {
    "editable": true,
    "slideshow": {
     "slide_type": ""
    },
    "tags": []
   },
   "outputs": [
    {
     "name": "stdout",
     "output_type": "stream",
     "text": [
      "--- Dump one record to string ---\n",
      "$ion_1_0 {id:1,name:\"Alice\",age:25,weight:94.7e0,bio:{dob:\"1990-01-01\",address:\"123 Main St.\",hometown:null},relationships:[{name:\"Bob\",relation:\"friend\"},{name:\"Charlie\",relation:\"father\"}]}\n"
     ]
    }
   ],
   "source": [
    "print(\"--- Dump one record to string ---\")\n",
    "print(ion.dumps(py_data, binary=False))"
   ]
  },
  {
   "cell_type": "code",
   "execution_count": 12,
   "id": "19503708-7a89-457b-b491-774f04319b6a",
   "metadata": {
    "editable": true,
    "slideshow": {
     "slide_type": ""
    },
    "tags": []
   },
   "outputs": [
    {
     "name": "stdout",
     "output_type": "stream",
     "text": [
      "--- Dump many records to string ---\n",
      "$ion_1_0 [{id:1,name:\"Alice\",age:25,weight:94.7e0,bio:{dob:\"1990-01-01\",address:\"123 Main St.\",hometown:null},relationships:[{name:\"Bob\",relation:\"friend\"},{name:\"Charlie\",relation:\"father\"}]}]\n"
     ]
    }
   ],
   "source": [
    "print(\"--- Dump many records to string ---\")\n",
    "print(ion.dumps([py_data], binary=False))"
   ]
  },
  {
   "cell_type": "code",
   "execution_count": 13,
   "id": "a5b19503-3c31-4095-90cd-baf6300860c8",
   "metadata": {
    "editable": true,
    "slideshow": {
     "slide_type": ""
    },
    "tags": []
   },
   "outputs": [
    {
     "name": "stdout",
     "output_type": "stream",
     "text": [
      "--- Read one record from string ---\n",
      "type(data) = <class 'amazon.ion.simple_types.IonPyDict'>\n"
     ]
    }
   ],
   "source": [
    "print(\"--- Read one record from string ---\")\n",
    "text = ion.dumps(py_data, binary=False)\n",
    "data = ion.loads(text)\n",
    "print(f\"{type(data) = }\")"
   ]
  },
  {
   "cell_type": "code",
   "execution_count": 14,
   "id": "3a77f48e-0eaa-4441-af6e-4384131aeb45",
   "metadata": {
    "editable": true,
    "slideshow": {
     "slide_type": ""
    },
    "tags": []
   },
   "outputs": [
    {
     "name": "stdout",
     "output_type": "stream",
     "text": [
      "data = {'id': 1, 'name': 'Alice', 'age': 25, 'weight': 94.7, 'bio': {'dob': '1990-01-01', 'address': '123 Main St.', 'hometown': <amazon.ion.simple_types.IonPyNull object at 0x1043259a0>}, 'relationships': [{'name': 'Bob', 'relation': 'friend'}, {'name': 'Charlie', 'relation': 'father'}]}\n"
     ]
    }
   ],
   "source": [
    "print(f\"{data = }\")"
   ]
  },
  {
   "cell_type": "code",
   "execution_count": 15,
   "id": "27ecb0ab-d46a-481d-8d61-25dbcd24fbee",
   "metadata": {
    "editable": true,
    "slideshow": {
     "slide_type": ""
    },
    "tags": []
   },
   "outputs": [
    {
     "name": "stdout",
     "output_type": "stream",
     "text": [
      "id = 1\n",
      "name = Alice\n",
      "age = 25\n",
      "weight = 94.7\n",
      "bio = {'dob': '1990-01-01', 'address': '123 Main St.', 'hometown': <amazon.ion.simple_types.IonPyNull object at 0x1043259a0>}\n",
      "relationships = [{'name': 'Bob', 'relation': 'friend'}, {'name': 'Charlie', 'relation': 'father'}]\n"
     ]
    }
   ],
   "source": [
    "for k, v in data.items():\n",
    "    print(f\"{k} = {v}\")"
   ]
  },
  {
   "cell_type": "markdown",
   "id": "577e0027-45a4-4fa3-96fe-5942ce3d83ac",
   "metadata": {
    "editable": true,
    "slideshow": {
     "slide_type": ""
    },
    "tags": []
   },
   "source": [
    "## Ion Dict to Regular Python Dict"
   ]
  },
  {
   "cell_type": "code",
   "execution_count": 16,
   "id": "74f23e11-9fc8-430c-bbc7-3160ecdc3b0e",
   "metadata": {
    "editable": true,
    "slideshow": {
     "slide_type": ""
    },
    "tags": []
   },
   "outputs": [],
   "source": [
    "text = ion.dumps(py_data, binary=False)"
   ]
  },
  {
   "cell_type": "markdown",
   "id": "b18328d7-f059-456f-810a-8240120dd282",
   "metadata": {
    "editable": true,
    "slideshow": {
     "slide_type": ""
    },
    "tags": []
   },
   "source": [
    "### MAY_BE_BARE"
   ]
  },
  {
   "cell_type": "code",
   "execution_count": 17,
   "id": "8c9b65fb-9e60-4130-9ba3-7ec9ef411f82",
   "metadata": {
    "editable": true,
    "slideshow": {
     "slide_type": ""
    },
    "tags": []
   },
   "outputs": [
    {
     "name": "stdout",
     "output_type": "stream",
     "text": [
      "type(ion_dict) = <class 'amazon.ion.simple_types.IonPyDict'>\n"
     ]
    },
    {
     "data": {
      "text/html": [
       "<pre style=\"white-space:pre;overflow-x:auto;line-height:normal;font-family:Menlo,'DejaVu Sans Mono',consolas,'Courier New',monospace\"><span style=\"font-weight: bold\">{</span><span style=\"color: #008000; text-decoration-color: #008000\">'id'</span>: <span style=\"color: #008080; text-decoration-color: #008080; font-weight: bold\">1</span>, <span style=\"color: #008000; text-decoration-color: #008000\">'name'</span>: <span style=\"color: #008000; text-decoration-color: #008000\">'Alice'</span>, <span style=\"color: #008000; text-decoration-color: #008000\">'age'</span>: <span style=\"color: #008080; text-decoration-color: #008080; font-weight: bold\">25</span>, <span style=\"color: #008000; text-decoration-color: #008000\">'weight'</span>: <span style=\"color: #008080; text-decoration-color: #008080; font-weight: bold\">94.7</span>, <span style=\"color: #008000; text-decoration-color: #008000\">'bio'</span>: <span style=\"font-weight: bold\">{</span><span style=\"color: #008000; text-decoration-color: #008000\">'dob'</span>: <span style=\"color: #008000; text-decoration-color: #008000\">'1990-01-01'</span>, <span style=\"color: #008000; text-decoration-color: #008000\">'address'</span>: <span style=\"color: #008000; text-decoration-color: #008000\">'123 Main St.'</span>, \n",
       "<span style=\"color: #008000; text-decoration-color: #008000\">'hometown'</span>: <span style=\"font-weight: bold\">&lt;</span><span style=\"color: #ff00ff; text-decoration-color: #ff00ff; font-weight: bold\">amazon.ion.simple_types.IonPyNull</span><span style=\"color: #000000; text-decoration-color: #000000\"> object at </span><span style=\"color: #008080; text-decoration-color: #008080; font-weight: bold\">0x10432b430</span><span style=\"font-weight: bold\">&gt;}</span>, <span style=\"color: #008000; text-decoration-color: #008000\">'relationships'</span>: <span style=\"font-weight: bold\">[{</span><span style=\"color: #008000; text-decoration-color: #008000\">'name'</span>: <span style=\"color: #008000; text-decoration-color: #008000\">'Bob'</span>, \n",
       "<span style=\"color: #008000; text-decoration-color: #008000\">'relation'</span>: <span style=\"color: #008000; text-decoration-color: #008000\">'friend'</span><span style=\"font-weight: bold\">}</span>, <span style=\"font-weight: bold\">{</span><span style=\"color: #008000; text-decoration-color: #008000\">'name'</span>: <span style=\"color: #008000; text-decoration-color: #008000\">'Charlie'</span>, <span style=\"color: #008000; text-decoration-color: #008000\">'relation'</span>: <span style=\"color: #008000; text-decoration-color: #008000\">'father'</span><span style=\"font-weight: bold\">}]}</span>\n",
       "</pre>\n"
      ],
      "text/plain": [
       "\u001b[1m{\u001b[0m\u001b[32m'id'\u001b[0m: \u001b[1;36m1\u001b[0m, \u001b[32m'name'\u001b[0m: \u001b[32m'Alice'\u001b[0m, \u001b[32m'age'\u001b[0m: \u001b[1;36m25\u001b[0m, \u001b[32m'weight'\u001b[0m: \u001b[1;36m94.7\u001b[0m, \u001b[32m'bio'\u001b[0m: \u001b[1m{\u001b[0m\u001b[32m'dob'\u001b[0m: \u001b[32m'1990-01-01'\u001b[0m, \u001b[32m'address'\u001b[0m: \u001b[32m'123 Main St.'\u001b[0m, \n",
       "\u001b[32m'hometown'\u001b[0m: \u001b[1m<\u001b[0m\u001b[1;95mamazon.ion.simple_types.IonPyNull\u001b[0m\u001b[39m object at \u001b[0m\u001b[1;36m0x10432b430\u001b[0m\u001b[1m>\u001b[0m\u001b[1m}\u001b[0m, \u001b[32m'relationships'\u001b[0m: \u001b[1m[\u001b[0m\u001b[1m{\u001b[0m\u001b[32m'name'\u001b[0m: \u001b[32m'Bob'\u001b[0m, \n",
       "\u001b[32m'relation'\u001b[0m: \u001b[32m'friend'\u001b[0m\u001b[1m}\u001b[0m, \u001b[1m{\u001b[0m\u001b[32m'name'\u001b[0m: \u001b[32m'Charlie'\u001b[0m, \u001b[32m'relation'\u001b[0m: \u001b[32m'father'\u001b[0m\u001b[1m}\u001b[0m\u001b[1m]\u001b[0m\u001b[1m}\u001b[0m\n"
      ]
     },
     "metadata": {},
     "output_type": "display_data"
    }
   ],
   "source": [
    "ion_dict = ion.loads(text, value_model=ion.IonPyValueModel.MAY_BE_BARE)\n",
    "print(f\"{type(ion_dict) = }\")\n",
    "rprint(ion_dict)"
   ]
  },
  {
   "cell_type": "code",
   "execution_count": 18,
   "id": "524c70bf-ca17-415d-a2aa-fe9e1be7b9cf",
   "metadata": {
    "editable": true,
    "slideshow": {
     "slide_type": ""
    },
    "tags": []
   },
   "outputs": [
    {
     "data": {
      "text/html": [
       "<pre style=\"white-space:pre;overflow-x:auto;line-height:normal;font-family:Menlo,'DejaVu Sans Mono',consolas,'Courier New',monospace\"><span style=\"font-weight: bold\">{</span>\n",
       "    <span style=\"color: #008000; text-decoration-color: #008000\">'id'</span>: <span style=\"color: #008080; text-decoration-color: #008080; font-weight: bold\">1</span>,\n",
       "    <span style=\"color: #008000; text-decoration-color: #008000\">'name'</span>: <span style=\"color: #008000; text-decoration-color: #008000\">'Alice'</span>,\n",
       "    <span style=\"color: #008000; text-decoration-color: #008000\">'age'</span>: <span style=\"color: #008080; text-decoration-color: #008080; font-weight: bold\">25</span>,\n",
       "    <span style=\"color: #008000; text-decoration-color: #008000\">'weight'</span>: <span style=\"color: #008080; text-decoration-color: #008080; font-weight: bold\">94.7</span>,\n",
       "    <span style=\"color: #008000; text-decoration-color: #008000\">'bio'</span>: <span style=\"font-weight: bold\">{</span><span style=\"color: #008000; text-decoration-color: #008000\">'dob'</span>: <span style=\"color: #008000; text-decoration-color: #008000\">'1990-01-01'</span>, <span style=\"color: #008000; text-decoration-color: #008000\">'address'</span>: <span style=\"color: #008000; text-decoration-color: #008000\">'123 Main St.'</span>, <span style=\"color: #008000; text-decoration-color: #008000\">'hometown'</span>: <span style=\"font-weight: bold\">&lt;</span><span style=\"color: #ff00ff; text-decoration-color: #ff00ff; font-weight: bold\">amazon.ion.simple_types.IonPyNull</span><span style=\"color: #000000; text-decoration-color: #000000\"> object </span>\n",
       "<span style=\"color: #000000; text-decoration-color: #000000\">at </span><span style=\"color: #008080; text-decoration-color: #008080; font-weight: bold\">0x10432b430</span><span style=\"font-weight: bold\">&gt;}</span>,\n",
       "    <span style=\"color: #008000; text-decoration-color: #008000\">'relationships'</span>: <span style=\"font-weight: bold\">[{</span><span style=\"color: #008000; text-decoration-color: #008000\">'name'</span>: <span style=\"color: #008000; text-decoration-color: #008000\">'Bob'</span>, <span style=\"color: #008000; text-decoration-color: #008000\">'relation'</span>: <span style=\"color: #008000; text-decoration-color: #008000\">'friend'</span><span style=\"font-weight: bold\">}</span>, <span style=\"font-weight: bold\">{</span><span style=\"color: #008000; text-decoration-color: #008000\">'name'</span>: <span style=\"color: #008000; text-decoration-color: #008000\">'Charlie'</span>, <span style=\"color: #008000; text-decoration-color: #008000\">'relation'</span>: <span style=\"color: #008000; text-decoration-color: #008000\">'father'</span><span style=\"font-weight: bold\">}]</span>\n",
       "<span style=\"font-weight: bold\">}</span>\n",
       "</pre>\n"
      ],
      "text/plain": [
       "\u001b[1m{\u001b[0m\n",
       "    \u001b[32m'id'\u001b[0m: \u001b[1;36m1\u001b[0m,\n",
       "    \u001b[32m'name'\u001b[0m: \u001b[32m'Alice'\u001b[0m,\n",
       "    \u001b[32m'age'\u001b[0m: \u001b[1;36m25\u001b[0m,\n",
       "    \u001b[32m'weight'\u001b[0m: \u001b[1;36m94.7\u001b[0m,\n",
       "    \u001b[32m'bio'\u001b[0m: \u001b[1m{\u001b[0m\u001b[32m'dob'\u001b[0m: \u001b[32m'1990-01-01'\u001b[0m, \u001b[32m'address'\u001b[0m: \u001b[32m'123 Main St.'\u001b[0m, \u001b[32m'hometown'\u001b[0m: \u001b[1m<\u001b[0m\u001b[1;95mamazon.ion.simple_types.IonPyNull\u001b[0m\u001b[39m object \u001b[0m\n",
       "\u001b[39mat \u001b[0m\u001b[1;36m0x10432b430\u001b[0m\u001b[1m>\u001b[0m\u001b[1m}\u001b[0m,\n",
       "    \u001b[32m'relationships'\u001b[0m: \u001b[1m[\u001b[0m\u001b[1m{\u001b[0m\u001b[32m'name'\u001b[0m: \u001b[32m'Bob'\u001b[0m, \u001b[32m'relation'\u001b[0m: \u001b[32m'friend'\u001b[0m\u001b[1m}\u001b[0m, \u001b[1m{\u001b[0m\u001b[32m'name'\u001b[0m: \u001b[32m'Charlie'\u001b[0m, \u001b[32m'relation'\u001b[0m: \u001b[32m'father'\u001b[0m\u001b[1m}\u001b[0m\u001b[1m]\u001b[0m\n",
       "\u001b[1m}\u001b[0m\n"
      ]
     },
     "metadata": {},
     "output_type": "display_data"
    }
   ],
   "source": [
    "py_dict = dict(ion_dict)\n",
    "rprint(py_dict)"
   ]
  },
  {
   "cell_type": "code",
   "execution_count": 19,
   "id": "2b51acd7-42e7-4a0f-911b-c6b180339e10",
   "metadata": {
    "editable": true,
    "slideshow": {
     "slide_type": ""
    },
    "tags": []
   },
   "outputs": [
    {
     "name": "stdout",
     "output_type": "stream",
     "text": [
      "type(py_dict['age']) = <class 'amazon.ion.simple_types.IonPyInt'>\n"
     ]
    },
    {
     "data": {
      "text/html": [
       "<pre style=\"white-space:pre;overflow-x:auto;line-height:normal;font-family:Menlo,'DejaVu Sans Mono',consolas,'Courier New',monospace\"><span style=\"color: #008080; text-decoration-color: #008080; font-weight: bold\">25</span>\n",
       "</pre>\n"
      ],
      "text/plain": [
       "\u001b[1;36m25\u001b[0m\n"
      ]
     },
     "metadata": {},
     "output_type": "display_data"
    }
   ],
   "source": [
    "# Ion Int\n",
    "print(f\"{type(py_dict['age']) = }\")\n",
    "rprint(py_dict[\"age\"])"
   ]
  },
  {
   "cell_type": "code",
   "execution_count": 20,
   "id": "12698680-385c-4413-a9a3-4a7b74d44d63",
   "metadata": {
    "editable": true,
    "slideshow": {
     "slide_type": ""
    },
    "tags": []
   },
   "outputs": [
    {
     "name": "stdout",
     "output_type": "stream",
     "text": [
      "type(py_dict['weight']) = <class 'amazon.ion.simple_types.IonPyFloat'>\n"
     ]
    },
    {
     "data": {
      "text/html": [
       "<pre style=\"white-space:pre;overflow-x:auto;line-height:normal;font-family:Menlo,'DejaVu Sans Mono',consolas,'Courier New',monospace\"><span style=\"color: #008080; text-decoration-color: #008080; font-weight: bold\">94.7</span>\n",
       "</pre>\n"
      ],
      "text/plain": [
       "\u001b[1;36m94.7\u001b[0m\n"
      ]
     },
     "metadata": {},
     "output_type": "display_data"
    }
   ],
   "source": [
    "# Ion Float\n",
    "print(f\"{type(py_dict['weight']) = }\")\n",
    "rprint(py_dict[\"weight\"])"
   ]
  },
  {
   "cell_type": "code",
   "execution_count": 21,
   "id": "3c51c613-0b5c-4257-96db-645a16acd874",
   "metadata": {
    "editable": true,
    "slideshow": {
     "slide_type": ""
    },
    "tags": []
   },
   "outputs": [
    {
     "name": "stdout",
     "output_type": "stream",
     "text": [
      "type(py_dict['bio']) = <class 'amazon.ion.simple_types.IonPyDict'>\n"
     ]
    },
    {
     "data": {
      "text/html": [
       "<pre style=\"white-space:pre;overflow-x:auto;line-height:normal;font-family:Menlo,'DejaVu Sans Mono',consolas,'Courier New',monospace\"><span style=\"font-weight: bold\">{</span><span style=\"color: #008000; text-decoration-color: #008000\">'dob'</span>: <span style=\"color: #008000; text-decoration-color: #008000\">'1990-01-01'</span>, <span style=\"color: #008000; text-decoration-color: #008000\">'address'</span>: <span style=\"color: #008000; text-decoration-color: #008000\">'123 Main St.'</span>, <span style=\"color: #008000; text-decoration-color: #008000\">'hometown'</span>: <span style=\"font-weight: bold\">&lt;</span><span style=\"color: #ff00ff; text-decoration-color: #ff00ff; font-weight: bold\">amazon.ion.simple_types.IonPyNull</span><span style=\"color: #000000; text-decoration-color: #000000\"> object at </span>\n",
       "<span style=\"color: #008080; text-decoration-color: #008080; font-weight: bold\">0x10432b430</span><span style=\"font-weight: bold\">&gt;}</span>\n",
       "</pre>\n"
      ],
      "text/plain": [
       "\u001b[1m{\u001b[0m\u001b[32m'dob'\u001b[0m: \u001b[32m'1990-01-01'\u001b[0m, \u001b[32m'address'\u001b[0m: \u001b[32m'123 Main St.'\u001b[0m, \u001b[32m'hometown'\u001b[0m: \u001b[1m<\u001b[0m\u001b[1;95mamazon.ion.simple_types.IonPyNull\u001b[0m\u001b[39m object at \u001b[0m\n",
       "\u001b[1;36m0x10432b430\u001b[0m\u001b[1m>\u001b[0m\u001b[1m}\u001b[0m\n"
      ]
     },
     "metadata": {},
     "output_type": "display_data"
    }
   ],
   "source": [
    "# Nested attribute is still ION Dict\n",
    "print(f\"{type(py_dict['bio']) = }\")\n",
    "rprint(py_dict[\"bio\"])"
   ]
  },
  {
   "cell_type": "code",
   "execution_count": 22,
   "id": "35378aa4-a562-476b-ba47-3e7ec58dfa3a",
   "metadata": {
    "editable": true,
    "slideshow": {
     "slide_type": ""
    },
    "tags": []
   },
   "outputs": [
    {
     "name": "stdout",
     "output_type": "stream",
     "text": [
      "type(py_dict['relationships']) = <class 'amazon.ion.simple_types.IonPyList'>\n"
     ]
    },
    {
     "data": {
      "text/html": [
       "<pre style=\"white-space:pre;overflow-x:auto;line-height:normal;font-family:Menlo,'DejaVu Sans Mono',consolas,'Courier New',monospace\"><span style=\"font-weight: bold\">[{</span><span style=\"color: #008000; text-decoration-color: #008000\">'name'</span>: <span style=\"color: #008000; text-decoration-color: #008000\">'Bob'</span>, <span style=\"color: #008000; text-decoration-color: #008000\">'relation'</span>: <span style=\"color: #008000; text-decoration-color: #008000\">'friend'</span><span style=\"font-weight: bold\">}</span>, <span style=\"font-weight: bold\">{</span><span style=\"color: #008000; text-decoration-color: #008000\">'name'</span>: <span style=\"color: #008000; text-decoration-color: #008000\">'Charlie'</span>, <span style=\"color: #008000; text-decoration-color: #008000\">'relation'</span>: <span style=\"color: #008000; text-decoration-color: #008000\">'father'</span><span style=\"font-weight: bold\">}]</span>\n",
       "</pre>\n"
      ],
      "text/plain": [
       "\u001b[1m[\u001b[0m\u001b[1m{\u001b[0m\u001b[32m'name'\u001b[0m: \u001b[32m'Bob'\u001b[0m, \u001b[32m'relation'\u001b[0m: \u001b[32m'friend'\u001b[0m\u001b[1m}\u001b[0m, \u001b[1m{\u001b[0m\u001b[32m'name'\u001b[0m: \u001b[32m'Charlie'\u001b[0m, \u001b[32m'relation'\u001b[0m: \u001b[32m'father'\u001b[0m\u001b[1m}\u001b[0m\u001b[1m]\u001b[0m\n"
      ]
     },
     "metadata": {},
     "output_type": "display_data"
    }
   ],
   "source": [
    "# Same as ION List\n",
    "print(f\"{type(py_dict['relationships']) = }\")\n",
    "rprint(py_dict[\"relationships\"])"
   ]
  },
  {
   "cell_type": "markdown",
   "id": "57e3e372-9d8d-40ee-b0a9-0d30555bc0b1",
   "metadata": {
    "editable": true,
    "slideshow": {
     "slide_type": ""
    },
    "tags": []
   },
   "source": [
    "### SYMBOL_AS_TEXT"
   ]
  },
  {
   "cell_type": "code",
   "execution_count": 23,
   "id": "04147375-93d6-4eb0-9a27-2e0cbc6ced79",
   "metadata": {
    "editable": true,
    "slideshow": {
     "slide_type": ""
    },
    "tags": []
   },
   "outputs": [
    {
     "name": "stdout",
     "output_type": "stream",
     "text": [
      "type(ion_dict) = <class 'amazon.ion.simple_types.IonPyDict'>\n"
     ]
    },
    {
     "data": {
      "text/html": [
       "<pre style=\"white-space:pre;overflow-x:auto;line-height:normal;font-family:Menlo,'DejaVu Sans Mono',consolas,'Courier New',monospace\"><span style=\"font-weight: bold\">{</span><span style=\"color: #008000; text-decoration-color: #008000\">'id'</span>: <span style=\"color: #008080; text-decoration-color: #008080; font-weight: bold\">1</span>, <span style=\"color: #008000; text-decoration-color: #008000\">'name'</span>: <span style=\"color: #008000; text-decoration-color: #008000\">'Alice'</span>, <span style=\"color: #008000; text-decoration-color: #008000\">'age'</span>: <span style=\"color: #008080; text-decoration-color: #008080; font-weight: bold\">25</span>, <span style=\"color: #008000; text-decoration-color: #008000\">'weight'</span>: <span style=\"color: #008080; text-decoration-color: #008080; font-weight: bold\">94.7</span>, <span style=\"color: #008000; text-decoration-color: #008000\">'bio'</span>: <span style=\"font-weight: bold\">{</span><span style=\"color: #008000; text-decoration-color: #008000\">'dob'</span>: <span style=\"color: #008000; text-decoration-color: #008000\">'1990-01-01'</span>, <span style=\"color: #008000; text-decoration-color: #008000\">'address'</span>: <span style=\"color: #008000; text-decoration-color: #008000\">'123 Main St.'</span>, \n",
       "<span style=\"color: #008000; text-decoration-color: #008000\">'hometown'</span>: <span style=\"font-weight: bold\">&lt;</span><span style=\"color: #ff00ff; text-decoration-color: #ff00ff; font-weight: bold\">amazon.ion.simple_types.IonPyNull</span><span style=\"color: #000000; text-decoration-color: #000000\"> object at </span><span style=\"color: #008080; text-decoration-color: #008080; font-weight: bold\">0x1045a1d00</span><span style=\"font-weight: bold\">&gt;}</span>, <span style=\"color: #008000; text-decoration-color: #008000\">'relationships'</span>: <span style=\"font-weight: bold\">[{</span><span style=\"color: #008000; text-decoration-color: #008000\">'name'</span>: <span style=\"color: #008000; text-decoration-color: #008000\">'Bob'</span>, \n",
       "<span style=\"color: #008000; text-decoration-color: #008000\">'relation'</span>: <span style=\"color: #008000; text-decoration-color: #008000\">'friend'</span><span style=\"font-weight: bold\">}</span>, <span style=\"font-weight: bold\">{</span><span style=\"color: #008000; text-decoration-color: #008000\">'name'</span>: <span style=\"color: #008000; text-decoration-color: #008000\">'Charlie'</span>, <span style=\"color: #008000; text-decoration-color: #008000\">'relation'</span>: <span style=\"color: #008000; text-decoration-color: #008000\">'father'</span><span style=\"font-weight: bold\">}]}</span>\n",
       "</pre>\n"
      ],
      "text/plain": [
       "\u001b[1m{\u001b[0m\u001b[32m'id'\u001b[0m: \u001b[1;36m1\u001b[0m, \u001b[32m'name'\u001b[0m: \u001b[32m'Alice'\u001b[0m, \u001b[32m'age'\u001b[0m: \u001b[1;36m25\u001b[0m, \u001b[32m'weight'\u001b[0m: \u001b[1;36m94.7\u001b[0m, \u001b[32m'bio'\u001b[0m: \u001b[1m{\u001b[0m\u001b[32m'dob'\u001b[0m: \u001b[32m'1990-01-01'\u001b[0m, \u001b[32m'address'\u001b[0m: \u001b[32m'123 Main St.'\u001b[0m, \n",
       "\u001b[32m'hometown'\u001b[0m: \u001b[1m<\u001b[0m\u001b[1;95mamazon.ion.simple_types.IonPyNull\u001b[0m\u001b[39m object at \u001b[0m\u001b[1;36m0x1045a1d00\u001b[0m\u001b[1m>\u001b[0m\u001b[1m}\u001b[0m, \u001b[32m'relationships'\u001b[0m: \u001b[1m[\u001b[0m\u001b[1m{\u001b[0m\u001b[32m'name'\u001b[0m: \u001b[32m'Bob'\u001b[0m, \n",
       "\u001b[32m'relation'\u001b[0m: \u001b[32m'friend'\u001b[0m\u001b[1m}\u001b[0m, \u001b[1m{\u001b[0m\u001b[32m'name'\u001b[0m: \u001b[32m'Charlie'\u001b[0m, \u001b[32m'relation'\u001b[0m: \u001b[32m'father'\u001b[0m\u001b[1m}\u001b[0m\u001b[1m]\u001b[0m\u001b[1m}\u001b[0m\n"
      ]
     },
     "metadata": {},
     "output_type": "display_data"
    }
   ],
   "source": [
    "ion_dict = ion.loads(text, value_model=ion.IonPyValueModel.SYMBOL_AS_TEXT)\n",
    "print(f\"{type(ion_dict) = }\")\n",
    "rprint(ion_dict)"
   ]
  },
  {
   "cell_type": "code",
   "execution_count": 24,
   "id": "e37cad7e-d7e8-44cf-9f44-c9a230226e9c",
   "metadata": {
    "editable": true,
    "slideshow": {
     "slide_type": ""
    },
    "tags": []
   },
   "outputs": [
    {
     "data": {
      "text/html": [
       "<pre style=\"white-space:pre;overflow-x:auto;line-height:normal;font-family:Menlo,'DejaVu Sans Mono',consolas,'Courier New',monospace\"><span style=\"font-weight: bold\">{</span>\n",
       "    <span style=\"color: #008000; text-decoration-color: #008000\">'id'</span>: <span style=\"color: #008080; text-decoration-color: #008080; font-weight: bold\">1</span>,\n",
       "    <span style=\"color: #008000; text-decoration-color: #008000\">'name'</span>: <span style=\"color: #008000; text-decoration-color: #008000\">'Alice'</span>,\n",
       "    <span style=\"color: #008000; text-decoration-color: #008000\">'age'</span>: <span style=\"color: #008080; text-decoration-color: #008080; font-weight: bold\">25</span>,\n",
       "    <span style=\"color: #008000; text-decoration-color: #008000\">'weight'</span>: <span style=\"color: #008080; text-decoration-color: #008080; font-weight: bold\">94.7</span>,\n",
       "    <span style=\"color: #008000; text-decoration-color: #008000\">'bio'</span>: <span style=\"font-weight: bold\">{</span><span style=\"color: #008000; text-decoration-color: #008000\">'dob'</span>: <span style=\"color: #008000; text-decoration-color: #008000\">'1990-01-01'</span>, <span style=\"color: #008000; text-decoration-color: #008000\">'address'</span>: <span style=\"color: #008000; text-decoration-color: #008000\">'123 Main St.'</span>, <span style=\"color: #008000; text-decoration-color: #008000\">'hometown'</span>: <span style=\"font-weight: bold\">&lt;</span><span style=\"color: #ff00ff; text-decoration-color: #ff00ff; font-weight: bold\">amazon.ion.simple_types.IonPyNull</span><span style=\"color: #000000; text-decoration-color: #000000\"> object </span>\n",
       "<span style=\"color: #000000; text-decoration-color: #000000\">at </span><span style=\"color: #008080; text-decoration-color: #008080; font-weight: bold\">0x1045a1d00</span><span style=\"font-weight: bold\">&gt;}</span>,\n",
       "    <span style=\"color: #008000; text-decoration-color: #008000\">'relationships'</span>: <span style=\"font-weight: bold\">[{</span><span style=\"color: #008000; text-decoration-color: #008000\">'name'</span>: <span style=\"color: #008000; text-decoration-color: #008000\">'Bob'</span>, <span style=\"color: #008000; text-decoration-color: #008000\">'relation'</span>: <span style=\"color: #008000; text-decoration-color: #008000\">'friend'</span><span style=\"font-weight: bold\">}</span>, <span style=\"font-weight: bold\">{</span><span style=\"color: #008000; text-decoration-color: #008000\">'name'</span>: <span style=\"color: #008000; text-decoration-color: #008000\">'Charlie'</span>, <span style=\"color: #008000; text-decoration-color: #008000\">'relation'</span>: <span style=\"color: #008000; text-decoration-color: #008000\">'father'</span><span style=\"font-weight: bold\">}]</span>\n",
       "<span style=\"font-weight: bold\">}</span>\n",
       "</pre>\n"
      ],
      "text/plain": [
       "\u001b[1m{\u001b[0m\n",
       "    \u001b[32m'id'\u001b[0m: \u001b[1;36m1\u001b[0m,\n",
       "    \u001b[32m'name'\u001b[0m: \u001b[32m'Alice'\u001b[0m,\n",
       "    \u001b[32m'age'\u001b[0m: \u001b[1;36m25\u001b[0m,\n",
       "    \u001b[32m'weight'\u001b[0m: \u001b[1;36m94.7\u001b[0m,\n",
       "    \u001b[32m'bio'\u001b[0m: \u001b[1m{\u001b[0m\u001b[32m'dob'\u001b[0m: \u001b[32m'1990-01-01'\u001b[0m, \u001b[32m'address'\u001b[0m: \u001b[32m'123 Main St.'\u001b[0m, \u001b[32m'hometown'\u001b[0m: \u001b[1m<\u001b[0m\u001b[1;95mamazon.ion.simple_types.IonPyNull\u001b[0m\u001b[39m object \u001b[0m\n",
       "\u001b[39mat \u001b[0m\u001b[1;36m0x1045a1d00\u001b[0m\u001b[1m>\u001b[0m\u001b[1m}\u001b[0m,\n",
       "    \u001b[32m'relationships'\u001b[0m: \u001b[1m[\u001b[0m\u001b[1m{\u001b[0m\u001b[32m'name'\u001b[0m: \u001b[32m'Bob'\u001b[0m, \u001b[32m'relation'\u001b[0m: \u001b[32m'friend'\u001b[0m\u001b[1m}\u001b[0m, \u001b[1m{\u001b[0m\u001b[32m'name'\u001b[0m: \u001b[32m'Charlie'\u001b[0m, \u001b[32m'relation'\u001b[0m: \u001b[32m'father'\u001b[0m\u001b[1m}\u001b[0m\u001b[1m]\u001b[0m\n",
       "\u001b[1m}\u001b[0m\n"
      ]
     },
     "metadata": {},
     "output_type": "display_data"
    }
   ],
   "source": [
    "py_dict = dict(ion_dict)\n",
    "rprint(py_dict)"
   ]
  },
  {
   "cell_type": "code",
   "execution_count": 25,
   "id": "7706ba45-6016-43b1-b268-5c83fb3f0e91",
   "metadata": {
    "editable": true,
    "slideshow": {
     "slide_type": ""
    },
    "tags": []
   },
   "outputs": [
    {
     "name": "stdout",
     "output_type": "stream",
     "text": [
      "type(py_dict['age']) = <class 'amazon.ion.simple_types.IonPyInt'>\n"
     ]
    },
    {
     "data": {
      "text/html": [
       "<pre style=\"white-space:pre;overflow-x:auto;line-height:normal;font-family:Menlo,'DejaVu Sans Mono',consolas,'Courier New',monospace\"><span style=\"color: #008080; text-decoration-color: #008080; font-weight: bold\">25</span>\n",
       "</pre>\n"
      ],
      "text/plain": [
       "\u001b[1;36m25\u001b[0m\n"
      ]
     },
     "metadata": {},
     "output_type": "display_data"
    }
   ],
   "source": [
    "# Ion Int\n",
    "print(f\"{type(py_dict['age']) = }\")\n",
    "rprint(py_dict[\"age\"])"
   ]
  },
  {
   "cell_type": "code",
   "execution_count": 26,
   "id": "e673d933-4156-454f-97d7-d8074d10bb8b",
   "metadata": {
    "editable": true,
    "slideshow": {
     "slide_type": ""
    },
    "tags": []
   },
   "outputs": [
    {
     "name": "stdout",
     "output_type": "stream",
     "text": [
      "type(py_dict['weight']) = <class 'amazon.ion.simple_types.IonPyFloat'>\n"
     ]
    },
    {
     "data": {
      "text/html": [
       "<pre style=\"white-space:pre;overflow-x:auto;line-height:normal;font-family:Menlo,'DejaVu Sans Mono',consolas,'Courier New',monospace\"><span style=\"color: #008080; text-decoration-color: #008080; font-weight: bold\">94.7</span>\n",
       "</pre>\n"
      ],
      "text/plain": [
       "\u001b[1;36m94.7\u001b[0m\n"
      ]
     },
     "metadata": {},
     "output_type": "display_data"
    }
   ],
   "source": [
    "# Ion Float\n",
    "print(f\"{type(py_dict['weight']) = }\")\n",
    "rprint(py_dict[\"weight\"])"
   ]
  },
  {
   "cell_type": "code",
   "execution_count": 27,
   "id": "dd65baad-403f-4a7a-a533-3a28da7e7a63",
   "metadata": {
    "editable": true,
    "slideshow": {
     "slide_type": ""
    },
    "tags": []
   },
   "outputs": [
    {
     "name": "stdout",
     "output_type": "stream",
     "text": [
      "type(py_dict['bio']) = <class 'amazon.ion.simple_types.IonPyDict'>\n"
     ]
    },
    {
     "data": {
      "text/html": [
       "<pre style=\"white-space:pre;overflow-x:auto;line-height:normal;font-family:Menlo,'DejaVu Sans Mono',consolas,'Courier New',monospace\"><span style=\"font-weight: bold\">{</span><span style=\"color: #008000; text-decoration-color: #008000\">'dob'</span>: <span style=\"color: #008000; text-decoration-color: #008000\">'1990-01-01'</span>, <span style=\"color: #008000; text-decoration-color: #008000\">'address'</span>: <span style=\"color: #008000; text-decoration-color: #008000\">'123 Main St.'</span>, <span style=\"color: #008000; text-decoration-color: #008000\">'hometown'</span>: <span style=\"font-weight: bold\">&lt;</span><span style=\"color: #ff00ff; text-decoration-color: #ff00ff; font-weight: bold\">amazon.ion.simple_types.IonPyNull</span><span style=\"color: #000000; text-decoration-color: #000000\"> object at </span>\n",
       "<span style=\"color: #008080; text-decoration-color: #008080; font-weight: bold\">0x1045a1d00</span><span style=\"font-weight: bold\">&gt;}</span>\n",
       "</pre>\n"
      ],
      "text/plain": [
       "\u001b[1m{\u001b[0m\u001b[32m'dob'\u001b[0m: \u001b[32m'1990-01-01'\u001b[0m, \u001b[32m'address'\u001b[0m: \u001b[32m'123 Main St.'\u001b[0m, \u001b[32m'hometown'\u001b[0m: \u001b[1m<\u001b[0m\u001b[1;95mamazon.ion.simple_types.IonPyNull\u001b[0m\u001b[39m object at \u001b[0m\n",
       "\u001b[1;36m0x1045a1d00\u001b[0m\u001b[1m>\u001b[0m\u001b[1m}\u001b[0m\n"
      ]
     },
     "metadata": {},
     "output_type": "display_data"
    }
   ],
   "source": [
    "# Nested attribute is still ION Dict\n",
    "print(f\"{type(py_dict['bio']) = }\")\n",
    "rprint(py_dict[\"bio\"])"
   ]
  },
  {
   "cell_type": "code",
   "execution_count": 28,
   "id": "f7383ff1-3147-4b53-bff2-b3e68e81130d",
   "metadata": {
    "editable": true,
    "slideshow": {
     "slide_type": ""
    },
    "tags": []
   },
   "outputs": [
    {
     "name": "stdout",
     "output_type": "stream",
     "text": [
      "type(py_dict['relationships']) = <class 'amazon.ion.simple_types.IonPyList'>\n"
     ]
    },
    {
     "data": {
      "text/html": [
       "<pre style=\"white-space:pre;overflow-x:auto;line-height:normal;font-family:Menlo,'DejaVu Sans Mono',consolas,'Courier New',monospace\"><span style=\"font-weight: bold\">[{</span><span style=\"color: #008000; text-decoration-color: #008000\">'name'</span>: <span style=\"color: #008000; text-decoration-color: #008000\">'Bob'</span>, <span style=\"color: #008000; text-decoration-color: #008000\">'relation'</span>: <span style=\"color: #008000; text-decoration-color: #008000\">'friend'</span><span style=\"font-weight: bold\">}</span>, <span style=\"font-weight: bold\">{</span><span style=\"color: #008000; text-decoration-color: #008000\">'name'</span>: <span style=\"color: #008000; text-decoration-color: #008000\">'Charlie'</span>, <span style=\"color: #008000; text-decoration-color: #008000\">'relation'</span>: <span style=\"color: #008000; text-decoration-color: #008000\">'father'</span><span style=\"font-weight: bold\">}]</span>\n",
       "</pre>\n"
      ],
      "text/plain": [
       "\u001b[1m[\u001b[0m\u001b[1m{\u001b[0m\u001b[32m'name'\u001b[0m: \u001b[32m'Bob'\u001b[0m, \u001b[32m'relation'\u001b[0m: \u001b[32m'friend'\u001b[0m\u001b[1m}\u001b[0m, \u001b[1m{\u001b[0m\u001b[32m'name'\u001b[0m: \u001b[32m'Charlie'\u001b[0m, \u001b[32m'relation'\u001b[0m: \u001b[32m'father'\u001b[0m\u001b[1m}\u001b[0m\u001b[1m]\u001b[0m\n"
      ]
     },
     "metadata": {},
     "output_type": "display_data"
    }
   ],
   "source": [
    "# Same as ION List\n",
    "print(f\"{type(py_dict['relationships']) = }\")\n",
    "rprint(py_dict[\"relationships\"])"
   ]
  },
  {
   "cell_type": "markdown",
   "id": "aae57dac-e960-4602-b92c-e9e70b6cba9e",
   "metadata": {
    "editable": true,
    "slideshow": {
     "slide_type": ""
    },
    "tags": []
   },
   "source": [
    "### STRUCT_AS_STD_DICT"
   ]
  },
  {
   "cell_type": "code",
   "execution_count": 29,
   "id": "79bf47fa-7807-49fe-ba23-eae15a231aec",
   "metadata": {
    "editable": true,
    "slideshow": {
     "slide_type": ""
    },
    "tags": []
   },
   "outputs": [
    {
     "name": "stdout",
     "output_type": "stream",
     "text": [
      "type(ion_dict) = <class 'amazon.ion.simple_types.IonPyDict'>\n"
     ]
    },
    {
     "data": {
      "text/html": [
       "<pre style=\"white-space:pre;overflow-x:auto;line-height:normal;font-family:Menlo,'DejaVu Sans Mono',consolas,'Courier New',monospace\"><span style=\"font-weight: bold\">{</span><span style=\"color: #008000; text-decoration-color: #008000\">'id'</span>: <span style=\"color: #008080; text-decoration-color: #008080; font-weight: bold\">1</span>, <span style=\"color: #008000; text-decoration-color: #008000\">'name'</span>: <span style=\"color: #008000; text-decoration-color: #008000\">'Alice'</span>, <span style=\"color: #008000; text-decoration-color: #008000\">'age'</span>: <span style=\"color: #008080; text-decoration-color: #008080; font-weight: bold\">25</span>, <span style=\"color: #008000; text-decoration-color: #008000\">'weight'</span>: <span style=\"color: #008080; text-decoration-color: #008080; font-weight: bold\">94.7</span>, <span style=\"color: #008000; text-decoration-color: #008000\">'bio'</span>: <span style=\"font-weight: bold\">{</span><span style=\"color: #008000; text-decoration-color: #008000\">'dob'</span>: <span style=\"color: #008000; text-decoration-color: #008000\">'1990-01-01'</span>, <span style=\"color: #008000; text-decoration-color: #008000\">'address'</span>: <span style=\"color: #008000; text-decoration-color: #008000\">'123 Main St.'</span>, \n",
       "<span style=\"color: #008000; text-decoration-color: #008000\">'hometown'</span>: <span style=\"font-weight: bold\">&lt;</span><span style=\"color: #ff00ff; text-decoration-color: #ff00ff; font-weight: bold\">amazon.ion.simple_types.IonPyNull</span><span style=\"color: #000000; text-decoration-color: #000000\"> object at </span><span style=\"color: #008080; text-decoration-color: #008080; font-weight: bold\">0x1045b0100</span><span style=\"font-weight: bold\">&gt;}</span>, <span style=\"color: #008000; text-decoration-color: #008000\">'relationships'</span>: <span style=\"font-weight: bold\">[{</span><span style=\"color: #008000; text-decoration-color: #008000\">'name'</span>: <span style=\"color: #008000; text-decoration-color: #008000\">'Bob'</span>, \n",
       "<span style=\"color: #008000; text-decoration-color: #008000\">'relation'</span>: <span style=\"color: #008000; text-decoration-color: #008000\">'friend'</span><span style=\"font-weight: bold\">}</span>, <span style=\"font-weight: bold\">{</span><span style=\"color: #008000; text-decoration-color: #008000\">'name'</span>: <span style=\"color: #008000; text-decoration-color: #008000\">'Charlie'</span>, <span style=\"color: #008000; text-decoration-color: #008000\">'relation'</span>: <span style=\"color: #008000; text-decoration-color: #008000\">'father'</span><span style=\"font-weight: bold\">}]}</span>\n",
       "</pre>\n"
      ],
      "text/plain": [
       "\u001b[1m{\u001b[0m\u001b[32m'id'\u001b[0m: \u001b[1;36m1\u001b[0m, \u001b[32m'name'\u001b[0m: \u001b[32m'Alice'\u001b[0m, \u001b[32m'age'\u001b[0m: \u001b[1;36m25\u001b[0m, \u001b[32m'weight'\u001b[0m: \u001b[1;36m94.7\u001b[0m, \u001b[32m'bio'\u001b[0m: \u001b[1m{\u001b[0m\u001b[32m'dob'\u001b[0m: \u001b[32m'1990-01-01'\u001b[0m, \u001b[32m'address'\u001b[0m: \u001b[32m'123 Main St.'\u001b[0m, \n",
       "\u001b[32m'hometown'\u001b[0m: \u001b[1m<\u001b[0m\u001b[1;95mamazon.ion.simple_types.IonPyNull\u001b[0m\u001b[39m object at \u001b[0m\u001b[1;36m0x1045b0100\u001b[0m\u001b[1m>\u001b[0m\u001b[1m}\u001b[0m, \u001b[32m'relationships'\u001b[0m: \u001b[1m[\u001b[0m\u001b[1m{\u001b[0m\u001b[32m'name'\u001b[0m: \u001b[32m'Bob'\u001b[0m, \n",
       "\u001b[32m'relation'\u001b[0m: \u001b[32m'friend'\u001b[0m\u001b[1m}\u001b[0m, \u001b[1m{\u001b[0m\u001b[32m'name'\u001b[0m: \u001b[32m'Charlie'\u001b[0m, \u001b[32m'relation'\u001b[0m: \u001b[32m'father'\u001b[0m\u001b[1m}\u001b[0m\u001b[1m]\u001b[0m\u001b[1m}\u001b[0m\n"
      ]
     },
     "metadata": {},
     "output_type": "display_data"
    }
   ],
   "source": [
    "ion_dict = ion.loads(text, value_model=ion.IonPyValueModel.STRUCT_AS_STD_DICT)\n",
    "print(f\"{type(ion_dict) = }\")\n",
    "rprint(ion_dict)"
   ]
  },
  {
   "cell_type": "code",
   "execution_count": 30,
   "id": "710864ef-c0d6-4e80-a68a-651d5f79f1ce",
   "metadata": {},
   "outputs": [
    {
     "data": {
      "text/html": [
       "<pre style=\"white-space:pre;overflow-x:auto;line-height:normal;font-family:Menlo,'DejaVu Sans Mono',consolas,'Courier New',monospace\"><span style=\"font-weight: bold\">{</span>\n",
       "    <span style=\"color: #008000; text-decoration-color: #008000\">'id'</span>: <span style=\"color: #008080; text-decoration-color: #008080; font-weight: bold\">1</span>,\n",
       "    <span style=\"color: #008000; text-decoration-color: #008000\">'name'</span>: <span style=\"color: #008000; text-decoration-color: #008000\">'Alice'</span>,\n",
       "    <span style=\"color: #008000; text-decoration-color: #008000\">'age'</span>: <span style=\"color: #008080; text-decoration-color: #008080; font-weight: bold\">25</span>,\n",
       "    <span style=\"color: #008000; text-decoration-color: #008000\">'weight'</span>: <span style=\"color: #008080; text-decoration-color: #008080; font-weight: bold\">94.7</span>,\n",
       "    <span style=\"color: #008000; text-decoration-color: #008000\">'bio'</span>: <span style=\"font-weight: bold\">{</span><span style=\"color: #008000; text-decoration-color: #008000\">'dob'</span>: <span style=\"color: #008000; text-decoration-color: #008000\">'1990-01-01'</span>, <span style=\"color: #008000; text-decoration-color: #008000\">'address'</span>: <span style=\"color: #008000; text-decoration-color: #008000\">'123 Main St.'</span>, <span style=\"color: #008000; text-decoration-color: #008000\">'hometown'</span>: <span style=\"font-weight: bold\">&lt;</span><span style=\"color: #ff00ff; text-decoration-color: #ff00ff; font-weight: bold\">amazon.ion.simple_types.IonPyNull</span><span style=\"color: #000000; text-decoration-color: #000000\"> object </span>\n",
       "<span style=\"color: #000000; text-decoration-color: #000000\">at </span><span style=\"color: #008080; text-decoration-color: #008080; font-weight: bold\">0x1045b0100</span><span style=\"font-weight: bold\">&gt;}</span>,\n",
       "    <span style=\"color: #008000; text-decoration-color: #008000\">'relationships'</span>: <span style=\"font-weight: bold\">[{</span><span style=\"color: #008000; text-decoration-color: #008000\">'name'</span>: <span style=\"color: #008000; text-decoration-color: #008000\">'Bob'</span>, <span style=\"color: #008000; text-decoration-color: #008000\">'relation'</span>: <span style=\"color: #008000; text-decoration-color: #008000\">'friend'</span><span style=\"font-weight: bold\">}</span>, <span style=\"font-weight: bold\">{</span><span style=\"color: #008000; text-decoration-color: #008000\">'name'</span>: <span style=\"color: #008000; text-decoration-color: #008000\">'Charlie'</span>, <span style=\"color: #008000; text-decoration-color: #008000\">'relation'</span>: <span style=\"color: #008000; text-decoration-color: #008000\">'father'</span><span style=\"font-weight: bold\">}]</span>\n",
       "<span style=\"font-weight: bold\">}</span>\n",
       "</pre>\n"
      ],
      "text/plain": [
       "\u001b[1m{\u001b[0m\n",
       "    \u001b[32m'id'\u001b[0m: \u001b[1;36m1\u001b[0m,\n",
       "    \u001b[32m'name'\u001b[0m: \u001b[32m'Alice'\u001b[0m,\n",
       "    \u001b[32m'age'\u001b[0m: \u001b[1;36m25\u001b[0m,\n",
       "    \u001b[32m'weight'\u001b[0m: \u001b[1;36m94.7\u001b[0m,\n",
       "    \u001b[32m'bio'\u001b[0m: \u001b[1m{\u001b[0m\u001b[32m'dob'\u001b[0m: \u001b[32m'1990-01-01'\u001b[0m, \u001b[32m'address'\u001b[0m: \u001b[32m'123 Main St.'\u001b[0m, \u001b[32m'hometown'\u001b[0m: \u001b[1m<\u001b[0m\u001b[1;95mamazon.ion.simple_types.IonPyNull\u001b[0m\u001b[39m object \u001b[0m\n",
       "\u001b[39mat \u001b[0m\u001b[1;36m0x1045b0100\u001b[0m\u001b[1m>\u001b[0m\u001b[1m}\u001b[0m,\n",
       "    \u001b[32m'relationships'\u001b[0m: \u001b[1m[\u001b[0m\u001b[1m{\u001b[0m\u001b[32m'name'\u001b[0m: \u001b[32m'Bob'\u001b[0m, \u001b[32m'relation'\u001b[0m: \u001b[32m'friend'\u001b[0m\u001b[1m}\u001b[0m, \u001b[1m{\u001b[0m\u001b[32m'name'\u001b[0m: \u001b[32m'Charlie'\u001b[0m, \u001b[32m'relation'\u001b[0m: \u001b[32m'father'\u001b[0m\u001b[1m}\u001b[0m\u001b[1m]\u001b[0m\n",
       "\u001b[1m}\u001b[0m\n"
      ]
     },
     "metadata": {},
     "output_type": "display_data"
    }
   ],
   "source": [
    "py_dict = dict(ion_dict)\n",
    "rprint(py_dict)"
   ]
  },
  {
   "cell_type": "code",
   "execution_count": 31,
   "id": "5b075cfe-0f07-4619-b7b5-6071c710f79f",
   "metadata": {},
   "outputs": [
    {
     "name": "stdout",
     "output_type": "stream",
     "text": [
      "type(py_dict['age']) = <class 'amazon.ion.simple_types.IonPyInt'>\n"
     ]
    },
    {
     "data": {
      "text/html": [
       "<pre style=\"white-space:pre;overflow-x:auto;line-height:normal;font-family:Menlo,'DejaVu Sans Mono',consolas,'Courier New',monospace\"><span style=\"color: #008080; text-decoration-color: #008080; font-weight: bold\">25</span>\n",
       "</pre>\n"
      ],
      "text/plain": [
       "\u001b[1;36m25\u001b[0m\n"
      ]
     },
     "metadata": {},
     "output_type": "display_data"
    }
   ],
   "source": [
    "# Ion Int\n",
    "print(f\"{type(py_dict['age']) = }\")\n",
    "rprint(py_dict[\"age\"])"
   ]
  },
  {
   "cell_type": "code",
   "execution_count": 32,
   "id": "11eaaf76-d980-4805-9c80-de2027fa8e86",
   "metadata": {},
   "outputs": [
    {
     "name": "stdout",
     "output_type": "stream",
     "text": [
      "type(py_dict['weight']) = <class 'amazon.ion.simple_types.IonPyFloat'>\n"
     ]
    },
    {
     "data": {
      "text/html": [
       "<pre style=\"white-space:pre;overflow-x:auto;line-height:normal;font-family:Menlo,'DejaVu Sans Mono',consolas,'Courier New',monospace\"><span style=\"color: #008080; text-decoration-color: #008080; font-weight: bold\">94.7</span>\n",
       "</pre>\n"
      ],
      "text/plain": [
       "\u001b[1;36m94.7\u001b[0m\n"
      ]
     },
     "metadata": {},
     "output_type": "display_data"
    }
   ],
   "source": [
    "# Ion Float\n",
    "print(f\"{type(py_dict['weight']) = }\")\n",
    "rprint(py_dict[\"weight\"])"
   ]
  },
  {
   "cell_type": "code",
   "execution_count": 33,
   "id": "4abaa551-a02b-4c01-a46f-88d903978b0e",
   "metadata": {},
   "outputs": [
    {
     "name": "stdout",
     "output_type": "stream",
     "text": [
      "type(py_dict['bio']) = <class 'amazon.ion.simple_types.IonPyDict'>\n"
     ]
    },
    {
     "data": {
      "text/html": [
       "<pre style=\"white-space:pre;overflow-x:auto;line-height:normal;font-family:Menlo,'DejaVu Sans Mono',consolas,'Courier New',monospace\"><span style=\"font-weight: bold\">{</span><span style=\"color: #008000; text-decoration-color: #008000\">'dob'</span>: <span style=\"color: #008000; text-decoration-color: #008000\">'1990-01-01'</span>, <span style=\"color: #008000; text-decoration-color: #008000\">'address'</span>: <span style=\"color: #008000; text-decoration-color: #008000\">'123 Main St.'</span>, <span style=\"color: #008000; text-decoration-color: #008000\">'hometown'</span>: <span style=\"font-weight: bold\">&lt;</span><span style=\"color: #ff00ff; text-decoration-color: #ff00ff; font-weight: bold\">amazon.ion.simple_types.IonPyNull</span><span style=\"color: #000000; text-decoration-color: #000000\"> object at </span>\n",
       "<span style=\"color: #008080; text-decoration-color: #008080; font-weight: bold\">0x1045b0100</span><span style=\"font-weight: bold\">&gt;}</span>\n",
       "</pre>\n"
      ],
      "text/plain": [
       "\u001b[1m{\u001b[0m\u001b[32m'dob'\u001b[0m: \u001b[32m'1990-01-01'\u001b[0m, \u001b[32m'address'\u001b[0m: \u001b[32m'123 Main St.'\u001b[0m, \u001b[32m'hometown'\u001b[0m: \u001b[1m<\u001b[0m\u001b[1;95mamazon.ion.simple_types.IonPyNull\u001b[0m\u001b[39m object at \u001b[0m\n",
       "\u001b[1;36m0x1045b0100\u001b[0m\u001b[1m>\u001b[0m\u001b[1m}\u001b[0m\n"
      ]
     },
     "metadata": {},
     "output_type": "display_data"
    }
   ],
   "source": [
    "# Nested attribute is still ION Dict\n",
    "print(f\"{type(py_dict['bio']) = }\")\n",
    "rprint(py_dict[\"bio\"])"
   ]
  },
  {
   "cell_type": "code",
   "execution_count": 34,
   "id": "efac5c4c-d299-498d-befd-90e5553bdc48",
   "metadata": {},
   "outputs": [
    {
     "name": "stdout",
     "output_type": "stream",
     "text": [
      "type(py_dict['relationships']) = <class 'amazon.ion.simple_types.IonPyList'>\n"
     ]
    },
    {
     "data": {
      "text/html": [
       "<pre style=\"white-space:pre;overflow-x:auto;line-height:normal;font-family:Menlo,'DejaVu Sans Mono',consolas,'Courier New',monospace\"><span style=\"font-weight: bold\">[{</span><span style=\"color: #008000; text-decoration-color: #008000\">'name'</span>: <span style=\"color: #008000; text-decoration-color: #008000\">'Bob'</span>, <span style=\"color: #008000; text-decoration-color: #008000\">'relation'</span>: <span style=\"color: #008000; text-decoration-color: #008000\">'friend'</span><span style=\"font-weight: bold\">}</span>, <span style=\"font-weight: bold\">{</span><span style=\"color: #008000; text-decoration-color: #008000\">'name'</span>: <span style=\"color: #008000; text-decoration-color: #008000\">'Charlie'</span>, <span style=\"color: #008000; text-decoration-color: #008000\">'relation'</span>: <span style=\"color: #008000; text-decoration-color: #008000\">'father'</span><span style=\"font-weight: bold\">}]</span>\n",
       "</pre>\n"
      ],
      "text/plain": [
       "\u001b[1m[\u001b[0m\u001b[1m{\u001b[0m\u001b[32m'name'\u001b[0m: \u001b[32m'Bob'\u001b[0m, \u001b[32m'relation'\u001b[0m: \u001b[32m'friend'\u001b[0m\u001b[1m}\u001b[0m, \u001b[1m{\u001b[0m\u001b[32m'name'\u001b[0m: \u001b[32m'Charlie'\u001b[0m, \u001b[32m'relation'\u001b[0m: \u001b[32m'father'\u001b[0m\u001b[1m}\u001b[0m\u001b[1m]\u001b[0m\n"
      ]
     },
     "metadata": {},
     "output_type": "display_data"
    }
   ],
   "source": [
    "# Same as ION List\n",
    "print(f\"{type(py_dict['relationships']) = }\")\n",
    "rprint(py_dict[\"relationships\"])"
   ]
  },
  {
   "cell_type": "markdown",
   "id": "5de9db81-319f-40a5-9e84-0ad2df695f04",
   "metadata": {},
   "source": [
    "## Ion Type with Nativ Python Type"
   ]
  },
  {
   "cell_type": "code",
   "execution_count": 35,
   "id": "841e2142-90ce-4d2c-a095-f346ab16a031",
   "metadata": {},
   "outputs": [],
   "source": [
    "text = ion.dumps(py_data, binary=False)\n",
    "ion_dict = ion.loads(text, value_model=ion.IonPyValueModel.STRUCT_AS_STD_DICT)"
   ]
  },
  {
   "cell_type": "code",
   "execution_count": 36,
   "id": "a2e06399-af5c-4d26-b4e7-968cebe6b72a",
   "metadata": {},
   "outputs": [
    {
     "data": {
      "text/plain": [
       "125"
      ]
     },
     "execution_count": 36,
     "metadata": {},
     "output_type": "execute_result"
    }
   ],
   "source": [
    "ion_dict[\"age\"] + 100"
   ]
  },
  {
   "cell_type": "code",
   "execution_count": 37,
   "id": "ab16f05c-2193-4205-b870-0a7fce310a4f",
   "metadata": {},
   "outputs": [
    {
     "data": {
      "text/plain": [
       "{'dob': '1990-01-01', 'address': '123 Main St.', 'hometown': <amazon.ion.simple_types.IonPyNull object at 0x1045a1d00>, 'hobby': 'Swim'}"
      ]
     },
     "execution_count": 37,
     "metadata": {},
     "output_type": "execute_result"
    }
   ],
   "source": [
    "ion_dict[\"bio\"][\"hobby\"] = \"Swim\"\n",
    "ion_dict[\"bio\"]"
   ]
  },
  {
   "cell_type": "markdown",
   "id": "bd7961aa-7740-4a8a-b99f-64cd30658245",
   "metadata": {},
   "source": [
    "## ION with Polars"
   ]
  },
  {
   "cell_type": "code",
   "execution_count": 52,
   "id": "44384745-508b-421d-bf82-48a48ee802af",
   "metadata": {},
   "outputs": [],
   "source": [
    "import polars as pl\n",
    "\n",
    "text = ion.dumps(py_data, binary=False)\n",
    "ion_dict = ion.loads(text, value_model=ion.IonPyValueModel.MAY_BE_BARE)"
   ]
  },
  {
   "cell_type": "code",
   "execution_count": 53,
   "id": "e08d9e83-3d79-40b7-9709-2168c933e453",
   "metadata": {},
   "outputs": [],
   "source": [
    "schema = {\n",
    "    \"id\": pl.Int64(),\n",
    "    \"name\": pl.Utf8(),\n",
    "    \"age\": pl.Int8(),\n",
    "    \"weight\": pl.Float64(),\n",
    "    \"bio\": pl.Struct({\n",
    "        \"dob\": pl.Utf8(),\n",
    "        \"address\": pl.Utf8(),\n",
    "        \"hometown\": pl.Utf8(),\n",
    "    }),\n",
    "    \"relationships\": pl.List(\n",
    "        pl.Struct({\"name\": pl.Utf8(), \"relation\": pl.Utf8()}),\n",
    "    ),\n",
    "}"
   ]
  },
  {
   "cell_type": "code",
   "execution_count": 54,
   "id": "4ab998a7-0567-46b0-9f07-dce2925c62d0",
   "metadata": {},
   "outputs": [
    {
     "name": "stdout",
     "output_type": "stream",
     "text": [
      "Error: ShapeError('data does not match the number of columns')\n"
     ]
    }
   ],
   "source": [
    "# This won't work\n",
    "try:\n",
    "    df = pl.DataFrame([ion_dict], schema=schema)\n",
    "except Exception as e:\n",
    "    print(f\"Error: {e!r}\")"
   ]
  },
  {
   "cell_type": "code",
   "execution_count": 64,
   "id": "e5b52c3c-7818-4238-8a26-10f895646491",
   "metadata": {},
   "outputs": [
    {
     "data": {
      "text/html": [
       "<div><style>\n",
       ".dataframe > thead > tr,\n",
       ".dataframe > tbody > tr {\n",
       "  text-align: right;\n",
       "  white-space: pre-wrap;\n",
       "}\n",
       "</style>\n",
       "<small>shape: (1, 6)</small><table border=\"1\" class=\"dataframe\"><thead><tr><th>id</th><th>name</th><th>age</th><th>weight</th><th>bio</th><th>relationships</th></tr><tr><td>i64</td><td>str</td><td>i8</td><td>f64</td><td>struct[3]</td><td>list[struct[2]]</td></tr></thead><tbody><tr><td>1</td><td>&quot;Alice&quot;</td><td>25</td><td>94.7</td><td>{&quot;1990-01-01&quot;,&quot;123 Main St.&quot;,&quot;&lt;amazon.ion.simple_types.IonPyNull object at 0x105dd83d0&gt;&quot;}</td><td>[{&quot;Bob&quot;,&quot;friend&quot;}, {&quot;Charlie&quot;,&quot;father&quot;}]</td></tr></tbody></table></div>"
      ],
      "text/plain": [
       "shape: (1, 6)\n",
       "┌─────┬───────┬─────┬────────┬─────────────────────────────────┬─────────────────────────────────┐\n",
       "│ id  ┆ name  ┆ age ┆ weight ┆ bio                             ┆ relationships                   │\n",
       "│ --- ┆ ---   ┆ --- ┆ ---    ┆ ---                             ┆ ---                             │\n",
       "│ i64 ┆ str   ┆ i8  ┆ f64    ┆ struct[3]                       ┆ list[struct[2]]                 │\n",
       "╞═════╪═══════╪═════╪════════╪═════════════════════════════════╪═════════════════════════════════╡\n",
       "│ 1   ┆ Alice ┆ 25  ┆ 94.7   ┆ {\"1990-01-01\",\"123 Main St.\",\"… ┆ [{\"Bob\",\"friend\"}, {\"Charlie\",… │\n",
       "└─────┴───────┴─────┴────────┴─────────────────────────────────┴─────────────────────────────────┘"
      ]
     },
     "execution_count": 64,
     "metadata": {},
     "output_type": "execute_result"
    }
   ],
   "source": [
    "def converter(ion_dict):\n",
    "    py_dict = dict(ion_dict)\n",
    "    py_dict[\"bio\"] = dict(py_dict[\"bio\"])\n",
    "    py_dict[\"relationships\"] = [\n",
    "        dict(dct)\n",
    "        for dct in py_dict[\"relationships\"]\n",
    "    ]\n",
    "    return py_dict\n",
    "\n",
    "df = pl.DataFrame([converter(ion_dict)], schema=schema)\n",
    "df"
   ]
  },
  {
   "cell_type": "code",
   "execution_count": 61,
   "id": "99ed96ce-1e0b-415e-9422-75fff0c172ec",
   "metadata": {},
   "outputs": [
    {
     "data": {
      "text/html": [
       "<div><style>\n",
       ".dataframe > thead > tr,\n",
       ".dataframe > tbody > tr {\n",
       "  text-align: right;\n",
       "  white-space: pre-wrap;\n",
       "}\n",
       "</style>\n",
       "<small>shape: (1, 6)</small><table border=\"1\" class=\"dataframe\"><thead><tr><th>id</th><th>name</th><th>age</th><th>weight</th><th>bio</th><th>relationships</th></tr><tr><td>i64</td><td>str</td><td>i8</td><td>f64</td><td>struct[3]</td><td>list[struct[2]]</td></tr></thead><tbody><tr><td>1</td><td>&quot;Alice&quot;</td><td>25</td><td>94.7</td><td>{&quot;1990-01-01&quot;,&quot;123 Main St.&quot;,&quot;&lt;amazon.ion.simple_types.IonPyNull object at 0x105dd83d0&gt;&quot;}</td><td>[{&quot;Bob&quot;,&quot;friend&quot;}, {&quot;Charlie&quot;,&quot;father&quot;}]</td></tr></tbody></table></div>"
      ],
      "text/plain": [
       "shape: (1, 6)\n",
       "┌─────┬───────┬─────┬────────┬─────────────────────────────────┬─────────────────────────────────┐\n",
       "│ id  ┆ name  ┆ age ┆ weight ┆ bio                             ┆ relationships                   │\n",
       "│ --- ┆ ---   ┆ --- ┆ ---    ┆ ---                             ┆ ---                             │\n",
       "│ i64 ┆ str   ┆ i8  ┆ f64    ┆ struct[3]                       ┆ list[struct[2]]                 │\n",
       "╞═════╪═══════╪═════╪════════╪═════════════════════════════════╪═════════════════════════════════╡\n",
       "│ 1   ┆ Alice ┆ 25  ┆ 94.7   ┆ {\"1990-01-01\",\"123 Main St.\",\"… ┆ [{\"Bob\",\"friend\"}, {\"Charlie\",… │\n",
       "└─────┴───────┴─────┴────────┴─────────────────────────────────┴─────────────────────────────────┘"
      ]
     },
     "execution_count": 61,
     "metadata": {},
     "output_type": "execute_result"
    }
   ],
   "source": [
    "import io\n",
    "\n",
    "buffer = io.BytesIO()\n",
    "df.write_parquet(buffer)\n",
    "df1 = pl.read_parquet(buffer.getvalue())\n",
    "df1"
   ]
  },
  {
   "cell_type": "code",
   "execution_count": null,
   "id": "067e4ca2-e3bc-4361-8448-9c274fc68a04",
   "metadata": {},
   "outputs": [],
   "source": []
  }
 ],
 "metadata": {
  "kernelspec": {
   "display_name": "Python 3 (ipykernel)",
   "language": "python",
   "name": "python3"
  },
  "language_info": {
   "codemirror_mode": {
    "name": "ipython",
    "version": 3
   },
   "file_extension": ".py",
   "mimetype": "text/x-python",
   "name": "python",
   "nbconvert_exporter": "python",
   "pygments_lexer": "ipython3",
   "version": "3.8.13"
  }
 },
 "nbformat": 4,
 "nbformat_minor": 5
}
