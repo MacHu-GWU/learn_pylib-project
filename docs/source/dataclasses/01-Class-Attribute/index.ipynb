{
 "cells": [
  {
   "cell_type": "markdown",
   "id": "475be034-b75f-4a92-bf27-5ccc53aeb91f",
   "metadata": {},
   "source": [
    "# DataClasses - Class Attribute\n",
    "\n",
    "有的时候你需要给你的类一个常数的属性. 这个属性可以通过 ``self.attr_name`` 来访问.\n",
    "虽然说你可以直接在 Class 下面定义属性, 但是很多 ORM 框架 (例如 dataclasses, attrs, sqlalchemy)\n",
    "会将其视为一个实例的属性定义, 而不是类的属性定义. 并且你再继承类的时候, 这个属性如果是 mutable 的话,\n",
    "很容易会犯错误.\n",
    "\n",
    "正确的做法是, 即使这个属性是一个 class attribute, 你也应该创建一个 ``@classmethod`` 来访问它.\n",
    "这样可以避免很多错误, 并且显式滴在父类中定义 ``raise NotImplementedError`` 能提醒你在子类中实现这个方法."
   ]
  },
  {
   "cell_type": "code",
   "execution_count": 15,
   "id": "4a915c7d-f97f-4ed0-9247-996469ff4b5e",
   "metadata": {},
   "outputs": [],
   "source": [
    "import dataclasses\n",
    "from rich import print as rprint\n",
    "\n",
    "@dataclasses.dataclass\n",
    "class FirstModel:\n",
    "    attr1: int = dataclasses.field()\n",
    "\n",
    "    @classmethod\n",
    "    def class_attr(cls) -> str:\n",
    "        return\"this is first model\"\n",
    "\n",
    "\n",
    "@dataclasses.dataclass\n",
    "class SecondModel(FirstModel):\n",
    "    attr1: int = dataclasses.field(default=None)\n",
    "    \n",
    "    @classmethod\n",
    "    def class_attr(cls) -> str:\n",
    "        return\"this is second model\""
   ]
  },
  {
   "cell_type": "code",
   "execution_count": 16,
   "id": "d73e4a49-bc51-43eb-8e02-a7bc27492b04",
   "metadata": {},
   "outputs": [
    {
     "data": {
      "text/html": [
       "<pre style=\"white-space:pre;overflow-x:auto;line-height:normal;font-family:Menlo,'DejaVu Sans Mono',consolas,'Courier New',monospace\"><span style=\"color: #800080; text-decoration-color: #800080; font-weight: bold\">SecondModel</span><span style=\"font-weight: bold\">(</span><span style=\"color: #808000; text-decoration-color: #808000\">attr1</span>=<span style=\"color: #008080; text-decoration-color: #008080; font-weight: bold\">1</span><span style=\"font-weight: bold\">)</span>\n",
       "</pre>\n"
      ],
      "text/plain": [
       "\u001B[1;35mSecondModel\u001B[0m\u001B[1m(\u001B[0m\u001B[33mattr1\u001B[0m=\u001B[1;36m1\u001B[0m\u001B[1m)\u001B[0m\n"
      ]
     },
     "metadata": {},
     "output_type": "display_data"
    }
   ],
   "source": [
    "second_model = SecondModel(attr1=1)\n",
    "rprint(second_model)"
   ]
  },
  {
   "cell_type": "code",
   "execution_count": 17,
   "id": "34a9ce2b-c893-4511-88f3-441717a78c47",
   "metadata": {},
   "outputs": [
    {
     "data": {
      "text/html": [
       "<pre style=\"white-space:pre;overflow-x:auto;line-height:normal;font-family:Menlo,'DejaVu Sans Mono',consolas,'Courier New',monospace\"><span style=\"font-weight: bold\">{</span><span style=\"color: #008000; text-decoration-color: #008000\">'attr1'</span>: <span style=\"color: #008080; text-decoration-color: #008080; font-weight: bold\">1</span><span style=\"font-weight: bold\">}</span>\n",
       "</pre>\n"
      ],
      "text/plain": [
       "\u001B[1m{\u001B[0m\u001B[32m'attr1'\u001B[0m: \u001B[1;36m1\u001B[0m\u001B[1m}\u001B[0m\n"
      ]
     },
     "metadata": {},
     "output_type": "display_data"
    }
   ],
   "source": [
    "rprint(dataclasses.asdict(second_model))"
   ]
  },
  {
   "cell_type": "code",
   "execution_count": 18,
   "id": "7c650896-675c-4bba-829a-9e7017b10df0",
   "metadata": {},
   "outputs": [
    {
     "data": {
      "text/plain": [
       "'this is second model'"
      ]
     },
     "execution_count": 18,
     "metadata": {},
     "output_type": "execute_result"
    }
   ],
   "source": [
    "second_model.class_attr()"
   ]
  },
  {
   "cell_type": "code",
   "execution_count": 19,
   "id": "d2176fc1-aac4-4267-b189-be5acb5a5852",
   "metadata": {},
   "outputs": [
    {
     "data": {
      "text/html": [
       "<pre style=\"white-space:pre;overflow-x:auto;line-height:normal;font-family:Menlo,'DejaVu Sans Mono',consolas,'Courier New',monospace\"><span style=\"font-weight: bold\">(</span>\n",
       "    <span style=\"color: #800080; text-decoration-color: #800080; font-weight: bold\">Field</span><span style=\"font-weight: bold\">(</span><span style=\"color: #808000; text-decoration-color: #808000\">name</span>=<span style=\"color: #008000; text-decoration-color: #008000\">'attr1'</span>,<span style=\"color: #808000; text-decoration-color: #808000\">type</span>=<span style=\"font-weight: bold\">&lt;</span><span style=\"color: #ff00ff; text-decoration-color: #ff00ff; font-weight: bold\">class</span><span style=\"color: #000000; text-decoration-color: #000000\"> </span><span style=\"color: #008000; text-decoration-color: #008000\">'int'</span><span style=\"color: #000000; text-decoration-color: #000000\">&gt;,</span><span style=\"color: #808000; text-decoration-color: #808000\">default</span><span style=\"color: #000000; text-decoration-color: #000000\">=</span><span style=\"color: #800080; text-decoration-color: #800080; font-style: italic\">None</span><span style=\"color: #000000; text-decoration-color: #000000\">,</span><span style=\"color: #808000; text-decoration-color: #808000\">default_factory</span><span style=\"color: #000000; text-decoration-color: #000000\">=&lt;dataclasses._MISSING_TYPE object at </span>\n",
       "<span style=\"color: #008080; text-decoration-color: #008080; font-weight: bold\">0x104309bb0</span><span style=\"font-weight: bold\">&gt;</span>,<span style=\"color: #808000; text-decoration-color: #808000\">init</span>=<span style=\"color: #00ff00; text-decoration-color: #00ff00; font-style: italic\">True</span>,<span style=\"color: #808000; text-decoration-color: #808000\">repr</span>=<span style=\"color: #00ff00; text-decoration-color: #00ff00; font-style: italic\">True</span>,<span style=\"color: #808000; text-decoration-color: #808000\">hash</span>=<span style=\"color: #800080; text-decoration-color: #800080; font-style: italic\">None</span>,<span style=\"color: #808000; text-decoration-color: #808000\">compare</span>=<span style=\"color: #00ff00; text-decoration-color: #00ff00; font-style: italic\">True</span>,<span style=\"color: #808000; text-decoration-color: #808000\">metadata</span>=<span style=\"color: #800080; text-decoration-color: #800080; font-weight: bold\">mappingproxy</span><span style=\"font-weight: bold\">({})</span>,<span style=\"color: #808000; text-decoration-color: #808000\">_field_type</span>=<span style=\"color: #800080; text-decoration-color: #800080\">_FIELD</span><span style=\"font-weight: bold\">)</span>,\n",
       "<span style=\"font-weight: bold\">)</span>\n",
       "</pre>\n"
      ],
      "text/plain": [
       "\u001B[1m(\u001B[0m\n",
       "    \u001B[1;35mField\u001B[0m\u001B[1m(\u001B[0m\u001B[33mname\u001B[0m=\u001B[32m'attr1'\u001B[0m,\u001B[33mtype\u001B[0m=\u001B[1m<\u001B[0m\u001B[1;95mclass\u001B[0m\u001B[39m \u001B[0m\u001B[32m'int'\u001B[0m\u001B[39m>,\u001B[0m\u001B[33mdefault\u001B[0m\u001B[39m=\u001B[0m\u001B[3;35mNone\u001B[0m\u001B[39m,\u001B[0m\u001B[33mdefault_factory\u001B[0m\u001B[39m=<dataclasses._MISSING_TYPE object at \u001B[0m\n",
       "\u001B[1;36m0x104309bb0\u001B[0m\u001B[1m>\u001B[0m,\u001B[33minit\u001B[0m=\u001B[3;92mTrue\u001B[0m,\u001B[33mrepr\u001B[0m=\u001B[3;92mTrue\u001B[0m,\u001B[33mhash\u001B[0m=\u001B[3;35mNone\u001B[0m,\u001B[33mcompare\u001B[0m=\u001B[3;92mTrue\u001B[0m,\u001B[33mmetadata\u001B[0m=\u001B[1;35mmappingproxy\u001B[0m\u001B[1m(\u001B[0m\u001B[1m{\u001B[0m\u001B[1m}\u001B[0m\u001B[1m)\u001B[0m,\u001B[33m_field_type\u001B[0m=\u001B[35m_FIELD\u001B[0m\u001B[1m)\u001B[0m,\n",
       "\u001B[1m)\u001B[0m\n"
      ]
     },
     "metadata": {},
     "output_type": "display_data"
    }
   ],
   "source": [
    "rprint(dataclasses.fields(SecondModel))"
   ]
  },
  {
   "cell_type": "code",
   "execution_count": null,
   "id": "38988ace-74bf-4c9e-ab78-72dda3f4e6c0",
   "metadata": {},
   "outputs": [],
   "source": []
  }
 ],
 "metadata": {
  "kernelspec": {
   "display_name": "Python 3 (ipykernel)",
   "language": "python",
   "name": "python3"
  },
  "language_info": {
   "codemirror_mode": {
    "name": "ipython",
    "version": 3
   },
   "file_extension": ".py",
   "mimetype": "text/x-python",
   "name": "python",
   "nbconvert_exporter": "python",
   "pygments_lexer": "ipython3",
   "version": "3.8.13"
  }
 },
 "nbformat": 4,
 "nbformat_minor": 5
}