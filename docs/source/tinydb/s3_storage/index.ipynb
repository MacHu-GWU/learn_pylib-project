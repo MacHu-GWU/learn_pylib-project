{
 "cells": [
  {
   "cell_type": "markdown",
   "id": "2429c827-e672-4a47-8c3b-c290114bde4d",
   "metadata": {},
   "source": [
    "# Use S3 Storage for TinyDB\n",
    "\n",
    "TinyDb support to extend the storage layer. In this example, we use a JSON file on S3 as the backend.\n",
    "\n",
    "Reference:\n",
    "\n",
    "- [Storage & Middleware](https://tinydb.readthedocs.io/en/latest/usage.html#storage-middleware)"
   ]
  },
  {
   "cell_type": "code",
   "execution_count": 8,
   "id": "c2b615cc-6879-473e-8f98-3678c0a00bd4",
   "metadata": {},
   "outputs": [],
   "source": [
    "import json\n",
    "\n",
    "import tinydb\n",
    "from s3pathlib import S3Path, context\n",
    "from boto_session_manager import BotoSesManager\n",
    "from rich import print as rprint\n",
    "\n",
    "\n",
    "class S3Storage(tinydb.Storage):\n",
    "    def __init__(\n",
    "        self,\n",
    "        s3path: S3Path,\n",
    "        bsm: BotoSesManager,\n",
    "    ):\n",
    "        self.s3path = s3path\n",
    "        self.bsm = bsm\n",
    "\n",
    "    def read(self):\n",
    "        try:\n",
    "            return json.loads(self.s3path.read_text(bsm=bsm))\n",
    "        except Exception as e:\n",
    "            if \"does not exist\" in str(e):\n",
    "                self.write({})\n",
    "            else:\n",
    "                raise e\n",
    "\n",
    "    def write(self, data):\n",
    "        self.s3path.write_text(\n",
    "            json.dumps(data, indent=4),\n",
    "            content_type=\"application/json\",\n",
    "            bsm=self.bsm,\n",
    "        )"
   ]
  },
  {
   "cell_type": "code",
   "execution_count": 9,
   "id": "23e3f09a-b239-427f-b19d-095b1e8a5f32",
   "metadata": {},
   "outputs": [
    {
     "name": "stdout",
     "output_type": "stream",
     "text": [
      "use s3://807388292768-us-east-1-data/projects/tinydb/db.json as tinydb storage\n",
      "preview at: https://console.aws.amazon.com/s3/object/807388292768-us-east-1-data?prefix=projects/tinydb/db.json\n"
     ]
    }
   ],
   "source": [
    "bsm = BotoSesManager(profile_name=\"awshsh_app_dev_us_east_1\")\n",
    "context.attach_boto_session(bsm.boto_ses)\n",
    "bucket = f\"{bsm.aws_account_id}-{bsm.aws_region}-data\"\n",
    "s3path = S3Path(f\"s3://{bucket}/projects/tinydb/db.json\")\n",
    "print(f\"use {s3path.uri} as tinydb storage\")\n",
    "print(f\"preview at: {s3path.console_url}\")\n",
    "\n",
    "_ = s3path.delete()"
   ]
  },
  {
   "cell_type": "code",
   "execution_count": 10,
   "id": "88931e31-d6e0-44b3-9954-607be0381f12",
   "metadata": {},
   "outputs": [
    {
     "name": "stdout",
     "output_type": "stream",
     "text": [
      "--- Query | User.name == Alice ---\n"
     ]
    },
    {
     "data": {
      "text/html": [
       "<pre style=\"white-space:pre;overflow-x:auto;line-height:normal;font-family:Menlo,'DejaVu Sans Mono',consolas,'Courier New',monospace\"><span style=\"font-weight: bold\">[{</span><span style=\"color: #008000; text-decoration-color: #008000\">'name'</span>: <span style=\"color: #008000; text-decoration-color: #008000\">'Alice'</span>, <span style=\"color: #008000; text-decoration-color: #008000\">'age'</span>: <span style=\"color: #008080; text-decoration-color: #008080; font-weight: bold\">30</span><span style=\"font-weight: bold\">}]</span>\n",
       "</pre>\n"
      ],
      "text/plain": [
       "\u001b[1m[\u001b[0m\u001b[1m{\u001b[0m\u001b[32m'name'\u001b[0m: \u001b[32m'Alice'\u001b[0m, \u001b[32m'age'\u001b[0m: \u001b[1;36m30\u001b[0m\u001b[1m}\u001b[0m\u001b[1m]\u001b[0m\n"
      ]
     },
     "metadata": {},
     "output_type": "display_data"
    },
    {
     "name": "stdout",
     "output_type": "stream",
     "text": [
      "--- Query | User.age >= 18 ---\n"
     ]
    },
    {
     "data": {
      "text/html": [
       "<pre style=\"white-space:pre;overflow-x:auto;line-height:normal;font-family:Menlo,'DejaVu Sans Mono',consolas,'Courier New',monospace\"><span style=\"font-weight: bold\">[{</span><span style=\"color: #008000; text-decoration-color: #008000\">'name'</span>: <span style=\"color: #008000; text-decoration-color: #008000\">'Alice'</span>, <span style=\"color: #008000; text-decoration-color: #008000\">'age'</span>: <span style=\"color: #008080; text-decoration-color: #008080; font-weight: bold\">30</span><span style=\"font-weight: bold\">}</span>, <span style=\"font-weight: bold\">{</span><span style=\"color: #008000; text-decoration-color: #008000\">'name'</span>: <span style=\"color: #008000; text-decoration-color: #008000\">'Cathy'</span>, <span style=\"color: #008000; text-decoration-color: #008000\">'age'</span>: <span style=\"color: #008080; text-decoration-color: #008080; font-weight: bold\">56</span><span style=\"font-weight: bold\">}]</span>\n",
       "</pre>\n"
      ],
      "text/plain": [
       "\u001b[1m[\u001b[0m\u001b[1m{\u001b[0m\u001b[32m'name'\u001b[0m: \u001b[32m'Alice'\u001b[0m, \u001b[32m'age'\u001b[0m: \u001b[1;36m30\u001b[0m\u001b[1m}\u001b[0m, \u001b[1m{\u001b[0m\u001b[32m'name'\u001b[0m: \u001b[32m'Cathy'\u001b[0m, \u001b[32m'age'\u001b[0m: \u001b[1;36m56\u001b[0m\u001b[1m}\u001b[0m\u001b[1m]\u001b[0m\n"
      ]
     },
     "metadata": {},
     "output_type": "display_data"
    }
   ],
   "source": [
    "with tinydb.TinyDB(\n",
    "    s3path=s3path,\n",
    "    bsm=bsm,\n",
    "    storage=S3Storage,\n",
    ") as db:\n",
    "    t_user = db.table(\"users\")\n",
    "    t_user.insert({\"name\": \"Alice\", \"age\": 30})\n",
    "    t_user.insert({\"name\": \"Bob\", \"age\": 12})\n",
    "    t_user.insert({\"name\": \"Cathy\", \"age\": 56})\n",
    "\n",
    "    User = tinydb.Query()\n",
    "\n",
    "    print(\"--- Query | User.name == Alice ---\")\n",
    "    rprint(t_user.search(User.name == \"Alice\"))\n",
    "\n",
    "    print(\"--- Query | User.age >= 18 ---\")\n",
    "    rprint(t_user.search(User.age >= 18))"
   ]
  },
  {
   "cell_type": "code",
   "execution_count": null,
   "id": "ef4cacc7-7c08-4c4d-9549-eef9fe4c25d9",
   "metadata": {},
   "outputs": [],
   "source": []
  }
 ],
 "metadata": {
  "kernelspec": {
   "display_name": "Python 3 (ipykernel)",
   "language": "python",
   "name": "python3"
  },
  "language_info": {
   "codemirror_mode": {
    "name": "ipython",
    "version": 3
   },
   "file_extension": ".py",
   "mimetype": "text/x-python",
   "name": "python",
   "nbconvert_exporter": "python",
   "pygments_lexer": "ipython3",
   "version": "3.8.13"
  }
 },
 "nbformat": 4,
 "nbformat_minor": 5
}
