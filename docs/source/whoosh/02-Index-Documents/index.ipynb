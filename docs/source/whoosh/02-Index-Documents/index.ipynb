{
 "cells": [
  {
   "cell_type": "markdown",
   "metadata": {},
   "source": [
    "# Index Documents"
   ]
  },
  {
   "cell_type": "code",
   "execution_count": 11,
   "metadata": {
    "ExecuteTime": {
     "end_time": "2023-09-25T19:34:26.130905Z",
     "start_time": "2023-09-25T19:34:26.128739Z"
    }
   },
   "outputs": [],
   "source": [
    "import typing as T\n",
    "import os\n",
    "import shutil\n",
    "from datetime import datetime, timezone, timedelta\n",
    "from pathlib import Path\n",
    "\n",
    "from whoosh import fields as F\n",
    "from whoosh.index import exists_in, create_in, open_dir, Index\n",
    "from whoosh import qparser, query, sorting\n",
    "\n",
    "from rich import print as rprint\n",
    "from rich.console import Console"
   ]
  },
  {
   "cell_type": "code",
   "execution_count": 2,
   "metadata": {
    "ExecuteTime": {
     "end_time": "2023-09-25T19:34:35.943931Z",
     "start_time": "2023-09-25T19:34:35.936991Z"
    },
    "collapsed": false,
    "jupyter": {
     "outputs_hidden": false
    }
   },
   "outputs": [],
   "source": [
    "console = Console()\n",
    "\n",
    "dir_index = Path(os.getcwd()).joinpath(\".whoosh_index\")\n",
    "\n",
    "dir_index.mkdir(parents=True, exist_ok=True)\n",
    "\n",
    "\n",
    "def clear_index():\n",
    "    shutil.rmtree(dir_index, ignore_errors=True)\n",
    "\n",
    "\n",
    "def get_index(schema: F.SchemaClass):\n",
    "    if exists_in(str(dir_index)):\n",
    "        idx = open_dir(str(dir_index))\n",
    "    else:\n",
    "        dir_index.mkdir(parents=True, exist_ok=True)\n",
    "        idx = create_in(\n",
    "            dirname=str(dir_index),\n",
    "            schema=schema,\n",
    "        )\n",
    "    return idx\n",
    "\n",
    "\n",
    "def result_to_docs(res) -> T.List[T.Dict[str, T.Any]]:\n",
    "    return [hit.fields() for hit in res]\n",
    "\n",
    "\n",
    "def search(idx: Index, q: query.Query):\n",
    "    console.rule(\"Query\", characters=\"=\")\n",
    "    console.rule(\"equivalent query string\", characters=\"-\")\n",
    "    print(q)\n",
    "\n",
    "    console.rule(\"equivalent query object\", characters=\"-\")\n",
    "    rprint(repr(q))\n",
    "\n",
    "    console.rule(\"Result\", characters=\"=\")\n",
    "    with idx.searcher() as sr:\n",
    "        docs = result_to_docs(sr.search(q))\n",
    "        rprint(docs)"
   ]
  },
  {
   "cell_type": "markdown",
   "metadata": {},
   "source": [
    "## Store Arbitary\n",
    "\n",
    "Whoosh can store arbitrary dict with int, float, string, binary, datetime data."
   ]
  },
  {
   "cell_type": "code",
   "execution_count": 25,
   "metadata": {
    "ExecuteTime": {
     "end_time": "2023-09-25T19:37:42.119860Z",
     "start_time": "2023-09-25T19:37:42.115063Z"
    },
    "collapsed": false,
    "jupyter": {
     "outputs_hidden": false
    }
   },
   "outputs": [],
   "source": [
    "class DocumentSchema(F.SchemaClass):\n",
    "    doc_id = F.ID(stored=True, unique=True)\n",
    "    data = F.STORED()\n",
    "\n",
    "\n",
    "schema = DocumentSchema()\n",
    "\n",
    "est = timezone(timedelta(hours=-4))\n",
    "\n",
    "data = [\n",
    "    dict(doc_id=\"id-1\", data=dict(name=\"alice\", birthday=datetime(1995, 1, 1, tzinfo=est), blob=b\"hello\")),\n",
    "]\n",
    "\n",
    "clear_index()\n",
    "idx = get_index(schema)\n",
    "writer = idx.writer()\n",
    "for doc in data:\n",
    "    writer.add_document(**doc)\n",
    "writer.commit()"
   ]
  },
  {
   "cell_type": "code",
   "execution_count": 26,
   "metadata": {
    "ExecuteTime": {
     "end_time": "2023-09-25T19:37:43.110784Z",
     "start_time": "2023-09-25T19:37:43.072391Z"
    },
    "collapsed": false,
    "jupyter": {
     "outputs_hidden": false
    }
   },
   "outputs": [
    {
     "data": {
      "text/html": [
       "<pre style=\"white-space:pre;overflow-x:auto;line-height:normal;font-family:Menlo,'DejaVu Sans Mono',consolas,'Courier New',monospace\"><span style=\"color: #00ff00; text-decoration-color: #00ff00\">====================================================== </span>Query<span style=\"color: #00ff00; text-decoration-color: #00ff00\"> ======================================================</span>\n",
       "</pre>\n"
      ],
      "text/plain": [
       "\u001B[92m====================================================== \u001B[0mQuery\u001B[92m ======================================================\u001B[0m\n"
      ]
     },
     "metadata": {},
     "output_type": "display_data"
    },
    {
     "data": {
      "text/html": [
       "<pre style=\"white-space:pre;overflow-x:auto;line-height:normal;font-family:Menlo,'DejaVu Sans Mono',consolas,'Courier New',monospace\"><span style=\"color: #00ff00; text-decoration-color: #00ff00\">--------------------------------------------- </span>equivalent query string<span style=\"color: #00ff00; text-decoration-color: #00ff00\"> ---------------------------------------------</span>\n",
       "</pre>\n"
      ],
      "text/plain": [
       "\u001B[92m--------------------------------------------- \u001B[0mequivalent query string\u001B[92m ---------------------------------------------\u001B[0m\n"
      ]
     },
     "metadata": {},
     "output_type": "display_data"
    },
    {
     "name": "stdout",
     "output_type": "stream",
     "text": [
      "doc_id:id-1\n"
     ]
    },
    {
     "data": {
      "text/html": [
       "<pre style=\"white-space:pre;overflow-x:auto;line-height:normal;font-family:Menlo,'DejaVu Sans Mono',consolas,'Courier New',monospace\"><span style=\"color: #00ff00; text-decoration-color: #00ff00\">--------------------------------------------- </span>equivalent query object<span style=\"color: #00ff00; text-decoration-color: #00ff00\"> ---------------------------------------------</span>\n",
       "</pre>\n"
      ],
      "text/plain": [
       "\u001B[92m--------------------------------------------- \u001B[0mequivalent query object\u001B[92m ---------------------------------------------\u001B[0m\n"
      ]
     },
     "metadata": {},
     "output_type": "display_data"
    },
    {
     "data": {
      "text/html": [
       "<pre style=\"white-space:pre;overflow-x:auto;line-height:normal;font-family:Menlo,'DejaVu Sans Mono',consolas,'Courier New',monospace\"><span style=\"color: #800080; text-decoration-color: #800080; font-weight: bold\">Term</span><span style=\"font-weight: bold\">(</span><span style=\"color: #008000; text-decoration-color: #008000\">'doc_id'</span>, <span style=\"color: #008000; text-decoration-color: #008000\">'id-1'</span><span style=\"font-weight: bold\">)</span>\n",
       "</pre>\n"
      ],
      "text/plain": [
       "\u001B[1;35mTerm\u001B[0m\u001B[1m(\u001B[0m\u001B[32m'doc_id'\u001B[0m, \u001B[32m'id-1'\u001B[0m\u001B[1m)\u001B[0m\n"
      ]
     },
     "metadata": {},
     "output_type": "display_data"
    },
    {
     "data": {
      "text/html": [
       "<pre style=\"white-space:pre;overflow-x:auto;line-height:normal;font-family:Menlo,'DejaVu Sans Mono',consolas,'Courier New',monospace\"><span style=\"color: #00ff00; text-decoration-color: #00ff00\">===================================================== </span>Result<span style=\"color: #00ff00; text-decoration-color: #00ff00\"> ======================================================</span>\n",
       "</pre>\n"
      ],
      "text/plain": [
       "\u001B[92m===================================================== \u001B[0mResult\u001B[92m ======================================================\u001B[0m\n"
      ]
     },
     "metadata": {},
     "output_type": "display_data"
    },
    {
     "data": {
      "text/html": [
       "<pre style=\"white-space:pre;overflow-x:auto;line-height:normal;font-family:Menlo,'DejaVu Sans Mono',consolas,'Courier New',monospace\"><span style=\"font-weight: bold\">[</span>\n",
       "    <span style=\"font-weight: bold\">{</span>\n",
       "        <span style=\"color: #008000; text-decoration-color: #008000\">'data'</span>: <span style=\"font-weight: bold\">{</span>\n",
       "            <span style=\"color: #008000; text-decoration-color: #008000\">'name'</span>: <span style=\"color: #008000; text-decoration-color: #008000\">'alice'</span>,\n",
       "            <span style=\"color: #008000; text-decoration-color: #008000\">'birthday'</span>: <span style=\"color: #800080; text-decoration-color: #800080; font-weight: bold\">datetime.datetime</span><span style=\"font-weight: bold\">(</span><span style=\"color: #008080; text-decoration-color: #008080; font-weight: bold\">1995</span>, <span style=\"color: #008080; text-decoration-color: #008080; font-weight: bold\">1</span>, <span style=\"color: #008080; text-decoration-color: #008080; font-weight: bold\">1</span>, <span style=\"color: #008080; text-decoration-color: #008080; font-weight: bold\">0</span>, <span style=\"color: #008080; text-decoration-color: #008080; font-weight: bold\">0</span>, <span style=\"color: #808000; text-decoration-color: #808000\">tzinfo</span>=<span style=\"color: #800080; text-decoration-color: #800080; font-weight: bold\">datetime</span><span style=\"color: #800080; text-decoration-color: #800080; font-weight: bold\">.timezone</span><span style=\"font-weight: bold\">(</span><span style=\"color: #800080; text-decoration-color: #800080; font-weight: bold\">datetime.timedelta</span><span style=\"font-weight: bold\">(</span><span style=\"color: #808000; text-decoration-color: #808000\">days</span>=<span style=\"color: #008080; text-decoration-color: #008080; font-weight: bold\">-1</span>, \n",
       "<span style=\"color: #808000; text-decoration-color: #808000\">seconds</span>=<span style=\"color: #008080; text-decoration-color: #008080; font-weight: bold\">72000</span><span style=\"font-weight: bold\">)))</span>,\n",
       "            <span style=\"color: #008000; text-decoration-color: #008000\">'blob'</span>: <span style=\"color: #008000; text-decoration-color: #008000\">b'hello'</span>\n",
       "        <span style=\"font-weight: bold\">}</span>,\n",
       "        <span style=\"color: #008000; text-decoration-color: #008000\">'doc_id'</span>: <span style=\"color: #008000; text-decoration-color: #008000\">'id-1'</span>\n",
       "    <span style=\"font-weight: bold\">}</span>\n",
       "<span style=\"font-weight: bold\">]</span>\n",
       "</pre>\n"
      ],
      "text/plain": [
       "\u001B[1m[\u001B[0m\n",
       "    \u001B[1m{\u001B[0m\n",
       "        \u001B[32m'data'\u001B[0m: \u001B[1m{\u001B[0m\n",
       "            \u001B[32m'name'\u001B[0m: \u001B[32m'alice'\u001B[0m,\n",
       "            \u001B[32m'birthday'\u001B[0m: \u001B[1;35mdatetime.datetime\u001B[0m\u001B[1m(\u001B[0m\u001B[1;36m1995\u001B[0m, \u001B[1;36m1\u001B[0m, \u001B[1;36m1\u001B[0m, \u001B[1;36m0\u001B[0m, \u001B[1;36m0\u001B[0m, \u001B[33mtzinfo\u001B[0m=\u001B[1;35mdatetime\u001B[0m\u001B[1;35m.timezone\u001B[0m\u001B[1m(\u001B[0m\u001B[1;35mdatetime.timedelta\u001B[0m\u001B[1m(\u001B[0m\u001B[33mdays\u001B[0m=\u001B[1;36m-1\u001B[0m, \n",
       "\u001B[33mseconds\u001B[0m=\u001B[1;36m72000\u001B[0m\u001B[1m)\u001B[0m\u001B[1m)\u001B[0m\u001B[1m)\u001B[0m,\n",
       "            \u001B[32m'blob'\u001B[0m: \u001B[32mb'hello'\u001B[0m\n",
       "        \u001B[1m}\u001B[0m,\n",
       "        \u001B[32m'doc_id'\u001B[0m: \u001B[32m'id-1'\u001B[0m\n",
       "    \u001B[1m}\u001B[0m\n",
       "\u001B[1m]\u001B[0m\n"
      ]
     },
     "metadata": {},
     "output_type": "display_data"
    }
   ],
   "source": [
    "q_str = \"doc_id:id-1\"\n",
    "q = qparser.MultifieldParser([\"id\"], schema=schema).parse(q_str)\n",
    "search(idx, q)"
   ]
  },
  {
   "cell_type": "code",
   "execution_count": null,
   "metadata": {
    "collapsed": false,
    "jupyter": {
     "outputs_hidden": false
    }
   },
   "outputs": [],
   "source": []
  }
 ],
 "metadata": {
  "kernelspec": {
   "display_name": "Python 3 (ipykernel)",
   "language": "python",
   "name": "python3"
  },
  "language_info": {
   "codemirror_mode": {
    "name": "ipython",
    "version": 3
   },
   "file_extension": ".py",
   "mimetype": "text/x-python",
   "name": "python",
   "nbconvert_exporter": "python",
   "pygments_lexer": "ipython3",
   "version": "3.8.11"
  }
 },
 "nbformat": 4,
 "nbformat_minor": 4
}
