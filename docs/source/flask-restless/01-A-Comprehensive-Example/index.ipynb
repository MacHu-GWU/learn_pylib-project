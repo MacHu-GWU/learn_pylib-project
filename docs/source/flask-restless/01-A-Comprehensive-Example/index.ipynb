{
 "cells": [
  {
   "cell_type": "markdown",
   "id": "de4861fa-7956-40b5-bb3e-34c4d703d0d6",
   "metadata": {
    "editable": true,
    "slideshow": {
     "slide_type": ""
    },
    "tags": []
   },
   "source": [
    "# A Comprehensive Example"
   ]
  },
  {
   "cell_type": "markdown",
   "id": "16d64828-146f-4771-8425-ad46bce9cc2d",
   "metadata": {
    "editable": true,
    "slideshow": {
     "slide_type": ""
    },
    "tags": []
   },
   "source": [
    "## Flask API Server Code"
   ]
  },
  {
   "cell_type": "raw",
   "id": "e8e2d62d-3f60-4e65-ab89-3d8fee5af3e9",
   "metadata": {
    "editable": true,
    "raw_mimetype": "text/restructuredtext",
    "slideshow": {
     "slide_type": ""
    },
    "tags": []
   },
   "source": [
    ".. dropdown:: app.py\n",
    "\n",
    "    .. literalinclude:: ./app.py\n",
    "       :language: python\n",
    "       :linenos:"
   ]
  },
  {
   "cell_type": "markdown",
   "id": "ea656749-2474-4f74-ba14-738364f0f91a",
   "metadata": {
    "editable": true,
    "slideshow": {
     "slide_type": ""
    },
    "tags": []
   },
   "source": [
    "## Import Dependencies and ORM Model"
   ]
  },
  {
   "cell_type": "code",
   "execution_count": 1,
   "id": "827124e3-ad18-4d59-a521-3e6f9c87a6b4",
   "metadata": {},
   "outputs": [],
   "source": [
    "import typing as T\n",
    "import json\n",
    "import uuid\n",
    "import requests\n",
    "from datetime import datetime\n",
    "\n",
    "import sqlalchemy as sa\n",
    "import sqlalchemy.orm as orm\n",
    "\n",
    "from rich import print as rprint\n",
    "from rich.console import Console\n",
    "from rich.panel import Panel\n",
    "\n",
    "from app import path_db, User, Video, Playlist, playlist_video, ETE"
   ]
  },
  {
   "cell_type": "markdown",
   "id": "961f4897-eeca-421c-956c-c94ad0adf135",
   "metadata": {},
   "source": [
    "## Define Some Variables and Helper Functions"
   ]
  },
  {
   "cell_type": "code",
   "execution_count": 2,
   "id": "89a33bd7-6380-4cf5-bd74-890f1a0260eb",
   "metadata": {},
   "outputs": [],
   "source": [
    "engine = sa.create_engine(f\"sqlite:///{path_db}\")\n",
    "\n",
    "host = \"http://127.0.0.1:5000\"\n",
    "post_headers = {\n",
    "    \"Content-Type\": \"application/vnd.api+json\",\n",
    "    \"Accept\": \"application/vnd.api+json\",\n",
    "}\n",
    "get_headers = {\n",
    "    \"Accept\": \"application/vnd.api+json\",\n",
    "}\n",
    "console = Console()\n",
    "\n",
    "\n",
    "def get_utc_now():\n",
    "    return datetime.utcnow()\n",
    "\n",
    "\n",
    "def clear_data():\n",
    "    with engine.connect() as conn:\n",
    "        conn.execute(Video.__table__.delete())\n",
    "        conn.execute(User.__table__.delete())\n",
    "        conn.execute(Playlist.__table__.delete())\n",
    "        conn.execute(playlist_video.delete())\n",
    "        conn.commit()\n",
    "\n",
    "\n",
    "def make_request(meth: T.Callable, kwargs: T.Dict[str, T.Any]) -> requests.Response:\n",
    "    \"\"\"\n",
    "    A helper function that make HTTP request, and automatically print request and response.\n",
    "    \"\"\"\n",
    "    console.rule(\"API Request\")\n",
    "    rprint(kwargs)\n",
    "\n",
    "    response: requests.Response = meth(**kwargs)\n",
    "    console.rule(\"API Response status code\")\n",
    "    rprint(f\"{response.status_code = }\")\n",
    "    console.rule(\"API Response headers\")\n",
    "    rprint(dict(response.headers))\n",
    "    console.rule(\"API Response data\")\n",
    "    if response.status_code in [200, 201]:\n",
    "        rprint(json.loads(response.text))\n",
    "    elif response.status_code == 204:\n",
    "        print(\"No content\")\n",
    "    else:\n",
    "        rprint(response.text)\n",
    "    return response"
   ]
  },
  {
   "cell_type": "markdown",
   "id": "e1193247-455a-43fe-ba96-e2258919f974",
   "metadata": {},
   "source": [
    "## Clear Data for a Fresh Start"
   ]
  },
  {
   "cell_type": "code",
   "execution_count": 3,
   "id": "806c5458-dd29-45c5-b6f5-35fe5242d34c",
   "metadata": {},
   "outputs": [],
   "source": [
    "clear_data()"
   ]
  },
  {
   "cell_type": "markdown",
   "id": "d2ddfa42-caf7-4703-ac54-1b2c91b2a1ae",
   "metadata": {},
   "source": [
    "## Create User"
   ]
  },
  {
   "cell_type": "code",
   "execution_count": 4,
   "id": "5c82a501-068c-4b27-a149-b3bfa3f1d245",
   "metadata": {},
   "outputs": [
    {
     "data": {
      "text/html": [
       "<pre style=\"white-space:pre;overflow-x:auto;line-height:normal;font-family:Menlo,'DejaVu Sans Mono',consolas,'Courier New',monospace\">╭─────────────────────────────────────────────────────────────────────────────────────────────────────────────────╮\n",
       "│ Create a user                                                                                                   │\n",
       "╰─────────────────────────────────────────────────────────────────────────────────────────────────────────────────╯\n",
       "</pre>\n"
      ],
      "text/plain": [
       "╭─────────────────────────────────────────────────────────────────────────────────────────────────────────────────╮\n",
       "│ Create a user                                                                                                   │\n",
       "╰─────────────────────────────────────────────────────────────────────────────────────────────────────────────────╯\n"
      ]
     },
     "metadata": {},
     "output_type": "display_data"
    },
    {
     "data": {
      "text/html": [
       "<pre style=\"white-space:pre;overflow-x:auto;line-height:normal;font-family:Menlo,'DejaVu Sans Mono',consolas,'Courier New',monospace\"><span style=\"color: #00ff00; text-decoration-color: #00ff00\">─────────────────────────────────────────────────── </span>API Request<span style=\"color: #00ff00; text-decoration-color: #00ff00\"> ───────────────────────────────────────────────────</span>\n",
       "</pre>\n"
      ],
      "text/plain": [
       "\u001b[92m─────────────────────────────────────────────────── \u001b[0mAPI Request\u001b[92m ───────────────────────────────────────────────────\u001b[0m\n"
      ]
     },
     "metadata": {},
     "output_type": "display_data"
    },
    {
     "data": {
      "text/html": [
       "<pre style=\"white-space:pre;overflow-x:auto;line-height:normal;font-family:Menlo,'DejaVu Sans Mono',consolas,'Courier New',monospace\"><span style=\"font-weight: bold\">{</span>\n",
       "    <span style=\"color: #008000; text-decoration-color: #008000\">'url'</span>: <span style=\"color: #008000; text-decoration-color: #008000\">'http://127.0.0.1:5000/api/user'</span>,\n",
       "    <span style=\"color: #008000; text-decoration-color: #008000\">'headers'</span>: <span style=\"font-weight: bold\">{</span><span style=\"color: #008000; text-decoration-color: #008000\">'Content-Type'</span>: <span style=\"color: #008000; text-decoration-color: #008000\">'application/vnd.api+json'</span>, <span style=\"color: #008000; text-decoration-color: #008000\">'Accept'</span>: <span style=\"color: #008000; text-decoration-color: #008000\">'application/vnd.api+json'</span><span style=\"font-weight: bold\">}</span>,\n",
       "    <span style=\"color: #008000; text-decoration-color: #008000\">'json'</span>: <span style=\"font-weight: bold\">{</span>\n",
       "        <span style=\"color: #008000; text-decoration-color: #008000\">'data'</span>: <span style=\"font-weight: bold\">{</span>\n",
       "            <span style=\"color: #008000; text-decoration-color: #008000\">'type'</span>: <span style=\"color: #008000; text-decoration-color: #008000\">'user'</span>,\n",
       "            <span style=\"color: #008000; text-decoration-color: #008000\">'id'</span>: <span style=\"color: #008000; text-decoration-color: #008000\">'62608ecc-5809-4534-a97e-246185f8e876'</span>,\n",
       "            <span style=\"color: #008000; text-decoration-color: #008000\">'attributes'</span>: <span style=\"font-weight: bold\">{</span>\n",
       "                <span style=\"color: #008000; text-decoration-color: #008000\">'name'</span>: <span style=\"color: #008000; text-decoration-color: #008000\">'Alice'</span>,\n",
       "                <span style=\"color: #008000; text-decoration-color: #008000\">'create_at'</span>: <span style=\"color: #008000; text-decoration-color: #008000\">'2024-06-02T04:44:04.906714'</span>,\n",
       "                <span style=\"color: #008000; text-decoration-color: #008000\">'update_at'</span>: <span style=\"color: #008000; text-decoration-color: #008000\">'2024-06-02T04:44:04.906714'</span>,\n",
       "                <span style=\"color: #008000; text-decoration-color: #008000\">'deleted'</span>: <span style=\"color: #008080; text-decoration-color: #008080; font-weight: bold\">0</span>\n",
       "            <span style=\"font-weight: bold\">}</span>\n",
       "        <span style=\"font-weight: bold\">}</span>\n",
       "    <span style=\"font-weight: bold\">}</span>\n",
       "<span style=\"font-weight: bold\">}</span>\n",
       "</pre>\n"
      ],
      "text/plain": [
       "\u001b[1m{\u001b[0m\n",
       "    \u001b[32m'url'\u001b[0m: \u001b[32m'http://127.0.0.1:5000/api/user'\u001b[0m,\n",
       "    \u001b[32m'headers'\u001b[0m: \u001b[1m{\u001b[0m\u001b[32m'Content-Type'\u001b[0m: \u001b[32m'application/vnd.api+json'\u001b[0m, \u001b[32m'Accept'\u001b[0m: \u001b[32m'application/vnd.api+json'\u001b[0m\u001b[1m}\u001b[0m,\n",
       "    \u001b[32m'json'\u001b[0m: \u001b[1m{\u001b[0m\n",
       "        \u001b[32m'data'\u001b[0m: \u001b[1m{\u001b[0m\n",
       "            \u001b[32m'type'\u001b[0m: \u001b[32m'user'\u001b[0m,\n",
       "            \u001b[32m'id'\u001b[0m: \u001b[32m'62608ecc-5809-4534-a97e-246185f8e876'\u001b[0m,\n",
       "            \u001b[32m'attributes'\u001b[0m: \u001b[1m{\u001b[0m\n",
       "                \u001b[32m'name'\u001b[0m: \u001b[32m'Alice'\u001b[0m,\n",
       "                \u001b[32m'create_at'\u001b[0m: \u001b[32m'2024-06-02T04:44:04.906714'\u001b[0m,\n",
       "                \u001b[32m'update_at'\u001b[0m: \u001b[32m'2024-06-02T04:44:04.906714'\u001b[0m,\n",
       "                \u001b[32m'deleted'\u001b[0m: \u001b[1;36m0\u001b[0m\n",
       "            \u001b[1m}\u001b[0m\n",
       "        \u001b[1m}\u001b[0m\n",
       "    \u001b[1m}\u001b[0m\n",
       "\u001b[1m}\u001b[0m\n"
      ]
     },
     "metadata": {},
     "output_type": "display_data"
    },
    {
     "data": {
      "text/html": [
       "<pre style=\"white-space:pre;overflow-x:auto;line-height:normal;font-family:Menlo,'DejaVu Sans Mono',consolas,'Courier New',monospace\"><span style=\"color: #00ff00; text-decoration-color: #00ff00\">──────────────────────────────────────────── </span>API Response status code<span style=\"color: #00ff00; text-decoration-color: #00ff00\"> ─────────────────────────────────────────────</span>\n",
       "</pre>\n"
      ],
      "text/plain": [
       "\u001b[92m──────────────────────────────────────────── \u001b[0mAPI Response status code\u001b[92m ─────────────────────────────────────────────\u001b[0m\n"
      ]
     },
     "metadata": {},
     "output_type": "display_data"
    },
    {
     "data": {
      "text/html": [
       "<pre style=\"white-space:pre;overflow-x:auto;line-height:normal;font-family:Menlo,'DejaVu Sans Mono',consolas,'Courier New',monospace\">response.status_code = <span style=\"color: #008080; text-decoration-color: #008080; font-weight: bold\">201</span>\n",
       "</pre>\n"
      ],
      "text/plain": [
       "response.status_code = \u001b[1;36m201\u001b[0m\n"
      ]
     },
     "metadata": {},
     "output_type": "display_data"
    },
    {
     "data": {
      "text/html": [
       "<pre style=\"white-space:pre;overflow-x:auto;line-height:normal;font-family:Menlo,'DejaVu Sans Mono',consolas,'Courier New',monospace\"><span style=\"color: #00ff00; text-decoration-color: #00ff00\">────────────────────────────────────────────── </span>API Response headers<span style=\"color: #00ff00; text-decoration-color: #00ff00\"> ───────────────────────────────────────────────</span>\n",
       "</pre>\n"
      ],
      "text/plain": [
       "\u001b[92m────────────────────────────────────────────── \u001b[0mAPI Response headers\u001b[92m ───────────────────────────────────────────────\u001b[0m\n"
      ]
     },
     "metadata": {},
     "output_type": "display_data"
    },
    {
     "data": {
      "text/html": [
       "<pre style=\"white-space:pre;overflow-x:auto;line-height:normal;font-family:Menlo,'DejaVu Sans Mono',consolas,'Courier New',monospace\"><span style=\"font-weight: bold\">{</span>\n",
       "    <span style=\"color: #008000; text-decoration-color: #008000\">'Server'</span>: <span style=\"color: #008000; text-decoration-color: #008000\">'Werkzeug/3.0.3 Python/3.8.13'</span>,\n",
       "    <span style=\"color: #008000; text-decoration-color: #008000\">'Date'</span>: <span style=\"color: #008000; text-decoration-color: #008000\">'Sun, 02 Jun 2024 04:44:04 GMT'</span>,\n",
       "    <span style=\"color: #008000; text-decoration-color: #008000\">'Location'</span>: <span style=\"color: #008000; text-decoration-color: #008000\">'http://127.0.0.1:5000/api/user/62608ecc-5809-4534-a97e-246185f8e876'</span>,\n",
       "    <span style=\"color: #008000; text-decoration-color: #008000\">'Content-Type'</span>: <span style=\"color: #008000; text-decoration-color: #008000\">'application/vnd.api+json'</span>,\n",
       "    <span style=\"color: #008000; text-decoration-color: #008000\">'Content-Length'</span>: <span style=\"color: #008000; text-decoration-color: #008000\">'318'</span>,\n",
       "    <span style=\"color: #008000; text-decoration-color: #008000\">'Connection'</span>: <span style=\"color: #008000; text-decoration-color: #008000\">'close'</span>\n",
       "<span style=\"font-weight: bold\">}</span>\n",
       "</pre>\n"
      ],
      "text/plain": [
       "\u001b[1m{\u001b[0m\n",
       "    \u001b[32m'Server'\u001b[0m: \u001b[32m'Werkzeug/3.0.3 Python/3.8.13'\u001b[0m,\n",
       "    \u001b[32m'Date'\u001b[0m: \u001b[32m'Sun, 02 Jun 2024 04:44:04 GMT'\u001b[0m,\n",
       "    \u001b[32m'Location'\u001b[0m: \u001b[32m'http://127.0.0.1:5000/api/user/62608ecc-5809-4534-a97e-246185f8e876'\u001b[0m,\n",
       "    \u001b[32m'Content-Type'\u001b[0m: \u001b[32m'application/vnd.api+json'\u001b[0m,\n",
       "    \u001b[32m'Content-Length'\u001b[0m: \u001b[32m'318'\u001b[0m,\n",
       "    \u001b[32m'Connection'\u001b[0m: \u001b[32m'close'\u001b[0m\n",
       "\u001b[1m}\u001b[0m\n"
      ]
     },
     "metadata": {},
     "output_type": "display_data"
    },
    {
     "data": {
      "text/html": [
       "<pre style=\"white-space:pre;overflow-x:auto;line-height:normal;font-family:Menlo,'DejaVu Sans Mono',consolas,'Courier New',monospace\"><span style=\"color: #00ff00; text-decoration-color: #00ff00\">──────────────────────────────────────────────── </span>API Response data<span style=\"color: #00ff00; text-decoration-color: #00ff00\"> ────────────────────────────────────────────────</span>\n",
       "</pre>\n"
      ],
      "text/plain": [
       "\u001b[92m──────────────────────────────────────────────── \u001b[0mAPI Response data\u001b[92m ────────────────────────────────────────────────\u001b[0m\n"
      ]
     },
     "metadata": {},
     "output_type": "display_data"
    },
    {
     "data": {
      "text/html": [
       "<pre style=\"white-space:pre;overflow-x:auto;line-height:normal;font-family:Menlo,'DejaVu Sans Mono',consolas,'Courier New',monospace\"><span style=\"font-weight: bold\">{</span>\n",
       "    <span style=\"color: #008000; text-decoration-color: #008000\">'data'</span>: <span style=\"font-weight: bold\">{</span>\n",
       "        <span style=\"color: #008000; text-decoration-color: #008000\">'attributes'</span>: <span style=\"font-weight: bold\">{</span>\n",
       "            <span style=\"color: #008000; text-decoration-color: #008000\">'create_at'</span>: <span style=\"color: #008000; text-decoration-color: #008000\">'2024-06-02T04:44:04.906714'</span>,\n",
       "            <span style=\"color: #008000; text-decoration-color: #008000\">'deleted'</span>: <span style=\"color: #008080; text-decoration-color: #008080; font-weight: bold\">0</span>,\n",
       "            <span style=\"color: #008000; text-decoration-color: #008000\">'name'</span>: <span style=\"color: #008000; text-decoration-color: #008000\">'Alice'</span>,\n",
       "            <span style=\"color: #008000; text-decoration-color: #008000\">'update_at'</span>: <span style=\"color: #008000; text-decoration-color: #008000\">'2024-06-02T04:44:04.906714'</span>\n",
       "        <span style=\"font-weight: bold\">}</span>,\n",
       "        <span style=\"color: #008000; text-decoration-color: #008000\">'id'</span>: <span style=\"color: #008000; text-decoration-color: #008000\">'62608ecc-5809-4534-a97e-246185f8e876'</span>,\n",
       "        <span style=\"color: #008000; text-decoration-color: #008000\">'relationships'</span>: <span style=\"font-weight: bold\">{</span><span style=\"color: #008000; text-decoration-color: #008000\">'owned_playlists'</span>: <span style=\"font-weight: bold\">{</span><span style=\"color: #008000; text-decoration-color: #008000\">'data'</span>: <span style=\"font-weight: bold\">[]}</span>, <span style=\"color: #008000; text-decoration-color: #008000\">'owned_videos'</span>: <span style=\"font-weight: bold\">{</span><span style=\"color: #008000; text-decoration-color: #008000\">'data'</span>: <span style=\"font-weight: bold\">[]}}</span>,\n",
       "        <span style=\"color: #008000; text-decoration-color: #008000\">'type'</span>: <span style=\"color: #008000; text-decoration-color: #008000\">'user'</span>\n",
       "    <span style=\"font-weight: bold\">}</span>,\n",
       "    <span style=\"color: #008000; text-decoration-color: #008000\">'jsonapi'</span>: <span style=\"font-weight: bold\">{</span><span style=\"color: #008000; text-decoration-color: #008000\">'version'</span>: <span style=\"color: #008000; text-decoration-color: #008000\">'1.0'</span><span style=\"font-weight: bold\">}</span>\n",
       "<span style=\"font-weight: bold\">}</span>\n",
       "</pre>\n"
      ],
      "text/plain": [
       "\u001b[1m{\u001b[0m\n",
       "    \u001b[32m'data'\u001b[0m: \u001b[1m{\u001b[0m\n",
       "        \u001b[32m'attributes'\u001b[0m: \u001b[1m{\u001b[0m\n",
       "            \u001b[32m'create_at'\u001b[0m: \u001b[32m'2024-06-02T04:44:04.906714'\u001b[0m,\n",
       "            \u001b[32m'deleted'\u001b[0m: \u001b[1;36m0\u001b[0m,\n",
       "            \u001b[32m'name'\u001b[0m: \u001b[32m'Alice'\u001b[0m,\n",
       "            \u001b[32m'update_at'\u001b[0m: \u001b[32m'2024-06-02T04:44:04.906714'\u001b[0m\n",
       "        \u001b[1m}\u001b[0m,\n",
       "        \u001b[32m'id'\u001b[0m: \u001b[32m'62608ecc-5809-4534-a97e-246185f8e876'\u001b[0m,\n",
       "        \u001b[32m'relationships'\u001b[0m: \u001b[1m{\u001b[0m\u001b[32m'owned_playlists'\u001b[0m: \u001b[1m{\u001b[0m\u001b[32m'data'\u001b[0m: \u001b[1m[\u001b[0m\u001b[1m]\u001b[0m\u001b[1m}\u001b[0m, \u001b[32m'owned_videos'\u001b[0m: \u001b[1m{\u001b[0m\u001b[32m'data'\u001b[0m: \u001b[1m[\u001b[0m\u001b[1m]\u001b[0m\u001b[1m}\u001b[0m\u001b[1m}\u001b[0m,\n",
       "        \u001b[32m'type'\u001b[0m: \u001b[32m'user'\u001b[0m\n",
       "    \u001b[1m}\u001b[0m,\n",
       "    \u001b[32m'jsonapi'\u001b[0m: \u001b[1m{\u001b[0m\u001b[32m'version'\u001b[0m: \u001b[32m'1.0'\u001b[0m\u001b[1m}\u001b[0m\n",
       "\u001b[1m}\u001b[0m\n"
      ]
     },
     "metadata": {},
     "output_type": "display_data"
    }
   ],
   "source": [
    "rprint(Panel(\"Create a user\"))\n",
    "user_id_1 = str(uuid.uuid4())\n",
    "user_id_1_create_at = get_utc_now()\n",
    "\n",
    "url = f\"{host}/api/{ETE.user.value}\"\n",
    "data = {\n",
    "    \"data\": {\n",
    "        \"type\": ETE.user.value,\n",
    "        \"id\": user_id_1,\n",
    "        \"attributes\": {\n",
    "            \"name\": \"Alice\",\n",
    "            \"create_at\": user_id_1_create_at.isoformat(),\n",
    "            \"update_at\": user_id_1_create_at.isoformat(),\n",
    "            \"deleted\": 0,\n",
    "        },\n",
    "    },\n",
    "}\n",
    "kwargs = dict(\n",
    "    url=url,\n",
    "    headers=post_headers,\n",
    "    json=data,\n",
    ")\n",
    "response = make_request(requests.post, kwargs)\n",
    "\n",
    "# verify the data in the database\n",
    "with orm.Session(engine) as ses:\n",
    "    user = ses.get(User, user_id_1)\n",
    "    assert user.id == user_id_1\n",
    "    assert user.name == \"Alice\"\n",
    "    assert user.create_at == user_id_1_create_at\n",
    "    assert user.update_at == user_id_1_create_at\n",
    "    assert user.deleted == 0"
   ]
  },
  {
   "cell_type": "markdown",
   "id": "5916edb8-1e2f-4d81-80fb-79f0053a5efe",
   "metadata": {},
   "source": [
    "## Get user 1"
   ]
  },
  {
   "cell_type": "code",
   "execution_count": 5,
   "id": "7a53d0c2-e544-4d6a-846e-d2912952b82d",
   "metadata": {},
   "outputs": [
    {
     "data": {
      "text/html": [
       "<pre style=\"white-space:pre;overflow-x:auto;line-height:normal;font-family:Menlo,'DejaVu Sans Mono',consolas,'Courier New',monospace\">╭─────────────────────────────────────────────────────────────────────────────────────────────────────────────────╮\n",
       "│ Get user 1                                                                                                      │\n",
       "╰─────────────────────────────────────────────────────────────────────────────────────────────────────────────────╯\n",
       "</pre>\n"
      ],
      "text/plain": [
       "╭─────────────────────────────────────────────────────────────────────────────────────────────────────────────────╮\n",
       "│ Get user 1                                                                                                      │\n",
       "╰─────────────────────────────────────────────────────────────────────────────────────────────────────────────────╯\n"
      ]
     },
     "metadata": {},
     "output_type": "display_data"
    },
    {
     "data": {
      "text/html": [
       "<pre style=\"white-space:pre;overflow-x:auto;line-height:normal;font-family:Menlo,'DejaVu Sans Mono',consolas,'Courier New',monospace\"><span style=\"color: #00ff00; text-decoration-color: #00ff00\">─────────────────────────────────────────────────── </span>API Request<span style=\"color: #00ff00; text-decoration-color: #00ff00\"> ───────────────────────────────────────────────────</span>\n",
       "</pre>\n"
      ],
      "text/plain": [
       "\u001b[92m─────────────────────────────────────────────────── \u001b[0mAPI Request\u001b[92m ───────────────────────────────────────────────────\u001b[0m\n"
      ]
     },
     "metadata": {},
     "output_type": "display_data"
    },
    {
     "data": {
      "text/html": [
       "<pre style=\"white-space:pre;overflow-x:auto;line-height:normal;font-family:Menlo,'DejaVu Sans Mono',consolas,'Courier New',monospace\"><span style=\"font-weight: bold\">{</span>\n",
       "    <span style=\"color: #008000; text-decoration-color: #008000\">'url'</span>: <span style=\"color: #008000; text-decoration-color: #008000\">'http://127.0.0.1:5000/api/user/62608ecc-5809-4534-a97e-246185f8e876'</span>,\n",
       "    <span style=\"color: #008000; text-decoration-color: #008000\">'headers'</span>: <span style=\"font-weight: bold\">{</span><span style=\"color: #008000; text-decoration-color: #008000\">'Accept'</span>: <span style=\"color: #008000; text-decoration-color: #008000\">'application/vnd.api+json'</span><span style=\"font-weight: bold\">}</span>\n",
       "<span style=\"font-weight: bold\">}</span>\n",
       "</pre>\n"
      ],
      "text/plain": [
       "\u001b[1m{\u001b[0m\n",
       "    \u001b[32m'url'\u001b[0m: \u001b[32m'http://127.0.0.1:5000/api/user/62608ecc-5809-4534-a97e-246185f8e876'\u001b[0m,\n",
       "    \u001b[32m'headers'\u001b[0m: \u001b[1m{\u001b[0m\u001b[32m'Accept'\u001b[0m: \u001b[32m'application/vnd.api+json'\u001b[0m\u001b[1m}\u001b[0m\n",
       "\u001b[1m}\u001b[0m\n"
      ]
     },
     "metadata": {},
     "output_type": "display_data"
    },
    {
     "data": {
      "text/html": [
       "<pre style=\"white-space:pre;overflow-x:auto;line-height:normal;font-family:Menlo,'DejaVu Sans Mono',consolas,'Courier New',monospace\"><span style=\"color: #00ff00; text-decoration-color: #00ff00\">──────────────────────────────────────────── </span>API Response status code<span style=\"color: #00ff00; text-decoration-color: #00ff00\"> ─────────────────────────────────────────────</span>\n",
       "</pre>\n"
      ],
      "text/plain": [
       "\u001b[92m──────────────────────────────────────────── \u001b[0mAPI Response status code\u001b[92m ─────────────────────────────────────────────\u001b[0m\n"
      ]
     },
     "metadata": {},
     "output_type": "display_data"
    },
    {
     "data": {
      "text/html": [
       "<pre style=\"white-space:pre;overflow-x:auto;line-height:normal;font-family:Menlo,'DejaVu Sans Mono',consolas,'Courier New',monospace\">response.status_code = <span style=\"color: #008080; text-decoration-color: #008080; font-weight: bold\">200</span>\n",
       "</pre>\n"
      ],
      "text/plain": [
       "response.status_code = \u001b[1;36m200\u001b[0m\n"
      ]
     },
     "metadata": {},
     "output_type": "display_data"
    },
    {
     "data": {
      "text/html": [
       "<pre style=\"white-space:pre;overflow-x:auto;line-height:normal;font-family:Menlo,'DejaVu Sans Mono',consolas,'Courier New',monospace\"><span style=\"color: #00ff00; text-decoration-color: #00ff00\">────────────────────────────────────────────── </span>API Response headers<span style=\"color: #00ff00; text-decoration-color: #00ff00\"> ───────────────────────────────────────────────</span>\n",
       "</pre>\n"
      ],
      "text/plain": [
       "\u001b[92m────────────────────────────────────────────── \u001b[0mAPI Response headers\u001b[92m ───────────────────────────────────────────────\u001b[0m\n"
      ]
     },
     "metadata": {},
     "output_type": "display_data"
    },
    {
     "data": {
      "text/html": [
       "<pre style=\"white-space:pre;overflow-x:auto;line-height:normal;font-family:Menlo,'DejaVu Sans Mono',consolas,'Courier New',monospace\"><span style=\"font-weight: bold\">{</span>\n",
       "    <span style=\"color: #008000; text-decoration-color: #008000\">'Server'</span>: <span style=\"color: #008000; text-decoration-color: #008000\">'Werkzeug/3.0.3 Python/3.8.13'</span>,\n",
       "    <span style=\"color: #008000; text-decoration-color: #008000\">'Date'</span>: <span style=\"color: #008000; text-decoration-color: #008000\">'Sun, 02 Jun 2024 04:44:30 GMT'</span>,\n",
       "    <span style=\"color: #008000; text-decoration-color: #008000\">'Content-Type'</span>: <span style=\"color: #008000; text-decoration-color: #008000\">'application/vnd.api+json'</span>,\n",
       "    <span style=\"color: #008000; text-decoration-color: #008000\">'Content-Length'</span>: <span style=\"color: #008000; text-decoration-color: #008000\">'318'</span>,\n",
       "    <span style=\"color: #008000; text-decoration-color: #008000\">'Connection'</span>: <span style=\"color: #008000; text-decoration-color: #008000\">'close'</span>\n",
       "<span style=\"font-weight: bold\">}</span>\n",
       "</pre>\n"
      ],
      "text/plain": [
       "\u001b[1m{\u001b[0m\n",
       "    \u001b[32m'Server'\u001b[0m: \u001b[32m'Werkzeug/3.0.3 Python/3.8.13'\u001b[0m,\n",
       "    \u001b[32m'Date'\u001b[0m: \u001b[32m'Sun, 02 Jun 2024 04:44:30 GMT'\u001b[0m,\n",
       "    \u001b[32m'Content-Type'\u001b[0m: \u001b[32m'application/vnd.api+json'\u001b[0m,\n",
       "    \u001b[32m'Content-Length'\u001b[0m: \u001b[32m'318'\u001b[0m,\n",
       "    \u001b[32m'Connection'\u001b[0m: \u001b[32m'close'\u001b[0m\n",
       "\u001b[1m}\u001b[0m\n"
      ]
     },
     "metadata": {},
     "output_type": "display_data"
    },
    {
     "data": {
      "text/html": [
       "<pre style=\"white-space:pre;overflow-x:auto;line-height:normal;font-family:Menlo,'DejaVu Sans Mono',consolas,'Courier New',monospace\"><span style=\"color: #00ff00; text-decoration-color: #00ff00\">──────────────────────────────────────────────── </span>API Response data<span style=\"color: #00ff00; text-decoration-color: #00ff00\"> ────────────────────────────────────────────────</span>\n",
       "</pre>\n"
      ],
      "text/plain": [
       "\u001b[92m──────────────────────────────────────────────── \u001b[0mAPI Response data\u001b[92m ────────────────────────────────────────────────\u001b[0m\n"
      ]
     },
     "metadata": {},
     "output_type": "display_data"
    },
    {
     "data": {
      "text/html": [
       "<pre style=\"white-space:pre;overflow-x:auto;line-height:normal;font-family:Menlo,'DejaVu Sans Mono',consolas,'Courier New',monospace\"><span style=\"font-weight: bold\">{</span>\n",
       "    <span style=\"color: #008000; text-decoration-color: #008000\">'data'</span>: <span style=\"font-weight: bold\">{</span>\n",
       "        <span style=\"color: #008000; text-decoration-color: #008000\">'attributes'</span>: <span style=\"font-weight: bold\">{</span>\n",
       "            <span style=\"color: #008000; text-decoration-color: #008000\">'create_at'</span>: <span style=\"color: #008000; text-decoration-color: #008000\">'2024-06-02T04:44:04.906714'</span>,\n",
       "            <span style=\"color: #008000; text-decoration-color: #008000\">'deleted'</span>: <span style=\"color: #008080; text-decoration-color: #008080; font-weight: bold\">0</span>,\n",
       "            <span style=\"color: #008000; text-decoration-color: #008000\">'name'</span>: <span style=\"color: #008000; text-decoration-color: #008000\">'Alice'</span>,\n",
       "            <span style=\"color: #008000; text-decoration-color: #008000\">'update_at'</span>: <span style=\"color: #008000; text-decoration-color: #008000\">'2024-06-02T04:44:04.906714'</span>\n",
       "        <span style=\"font-weight: bold\">}</span>,\n",
       "        <span style=\"color: #008000; text-decoration-color: #008000\">'id'</span>: <span style=\"color: #008000; text-decoration-color: #008000\">'62608ecc-5809-4534-a97e-246185f8e876'</span>,\n",
       "        <span style=\"color: #008000; text-decoration-color: #008000\">'relationships'</span>: <span style=\"font-weight: bold\">{</span><span style=\"color: #008000; text-decoration-color: #008000\">'owned_playlists'</span>: <span style=\"font-weight: bold\">{</span><span style=\"color: #008000; text-decoration-color: #008000\">'data'</span>: <span style=\"font-weight: bold\">[]}</span>, <span style=\"color: #008000; text-decoration-color: #008000\">'owned_videos'</span>: <span style=\"font-weight: bold\">{</span><span style=\"color: #008000; text-decoration-color: #008000\">'data'</span>: <span style=\"font-weight: bold\">[]}}</span>,\n",
       "        <span style=\"color: #008000; text-decoration-color: #008000\">'type'</span>: <span style=\"color: #008000; text-decoration-color: #008000\">'user'</span>\n",
       "    <span style=\"font-weight: bold\">}</span>,\n",
       "    <span style=\"color: #008000; text-decoration-color: #008000\">'jsonapi'</span>: <span style=\"font-weight: bold\">{</span><span style=\"color: #008000; text-decoration-color: #008000\">'version'</span>: <span style=\"color: #008000; text-decoration-color: #008000\">'1.0'</span><span style=\"font-weight: bold\">}</span>\n",
       "<span style=\"font-weight: bold\">}</span>\n",
       "</pre>\n"
      ],
      "text/plain": [
       "\u001b[1m{\u001b[0m\n",
       "    \u001b[32m'data'\u001b[0m: \u001b[1m{\u001b[0m\n",
       "        \u001b[32m'attributes'\u001b[0m: \u001b[1m{\u001b[0m\n",
       "            \u001b[32m'create_at'\u001b[0m: \u001b[32m'2024-06-02T04:44:04.906714'\u001b[0m,\n",
       "            \u001b[32m'deleted'\u001b[0m: \u001b[1;36m0\u001b[0m,\n",
       "            \u001b[32m'name'\u001b[0m: \u001b[32m'Alice'\u001b[0m,\n",
       "            \u001b[32m'update_at'\u001b[0m: \u001b[32m'2024-06-02T04:44:04.906714'\u001b[0m\n",
       "        \u001b[1m}\u001b[0m,\n",
       "        \u001b[32m'id'\u001b[0m: \u001b[32m'62608ecc-5809-4534-a97e-246185f8e876'\u001b[0m,\n",
       "        \u001b[32m'relationships'\u001b[0m: \u001b[1m{\u001b[0m\u001b[32m'owned_playlists'\u001b[0m: \u001b[1m{\u001b[0m\u001b[32m'data'\u001b[0m: \u001b[1m[\u001b[0m\u001b[1m]\u001b[0m\u001b[1m}\u001b[0m, \u001b[32m'owned_videos'\u001b[0m: \u001b[1m{\u001b[0m\u001b[32m'data'\u001b[0m: \u001b[1m[\u001b[0m\u001b[1m]\u001b[0m\u001b[1m}\u001b[0m\u001b[1m}\u001b[0m,\n",
       "        \u001b[32m'type'\u001b[0m: \u001b[32m'user'\u001b[0m\n",
       "    \u001b[1m}\u001b[0m,\n",
       "    \u001b[32m'jsonapi'\u001b[0m: \u001b[1m{\u001b[0m\u001b[32m'version'\u001b[0m: \u001b[32m'1.0'\u001b[0m\u001b[1m}\u001b[0m\n",
       "\u001b[1m}\u001b[0m\n"
      ]
     },
     "metadata": {},
     "output_type": "display_data"
    }
   ],
   "source": [
    "rprint(Panel(\"Get user 1\"))\n",
    "url = f\"{host}/api/{ETE.user.value}/{user_id_1}\"\n",
    "kwargs = dict(\n",
    "    url=url,\n",
    "    headers=get_headers,\n",
    ")\n",
    "response = make_request(requests.get, kwargs)\n",
    "data = json.loads(response.text)\n",
    "assert data[\"data\"][\"id\"] == user_id_1\n",
    "assert data[\"data\"][\"attributes\"][\"name\"] == \"Alice\"\n",
    "assert data[\"data\"][\"attributes\"][\"deleted\"] == 0\n",
    "assert data[\"data\"][\"attributes\"][\"create_at\"] == user_id_1_create_at.isoformat()\n",
    "assert data[\"data\"][\"attributes\"][\"update_at\"] == user_id_1_create_at.isoformat()"
   ]
  },
  {
   "cell_type": "markdown",
   "id": "5a84d730-7236-47f6-94f5-f68c77dd4193",
   "metadata": {},
   "source": [
    "## Update the user 1"
   ]
  },
  {
   "cell_type": "code",
   "execution_count": 6,
   "id": "3e31db10-01ff-4112-89a0-f3db3918d566",
   "metadata": {},
   "outputs": [
    {
     "data": {
      "text/html": [
       "<pre style=\"white-space:pre;overflow-x:auto;line-height:normal;font-family:Menlo,'DejaVu Sans Mono',consolas,'Courier New',monospace\">╭─────────────────────────────────────────────────────────────────────────────────────────────────────────────────╮\n",
       "│ Update the user 1                                                                                               │\n",
       "╰─────────────────────────────────────────────────────────────────────────────────────────────────────────────────╯\n",
       "</pre>\n"
      ],
      "text/plain": [
       "╭─────────────────────────────────────────────────────────────────────────────────────────────────────────────────╮\n",
       "│ Update the user 1                                                                                               │\n",
       "╰─────────────────────────────────────────────────────────────────────────────────────────────────────────────────╯\n"
      ]
     },
     "metadata": {},
     "output_type": "display_data"
    },
    {
     "data": {
      "text/html": [
       "<pre style=\"white-space:pre;overflow-x:auto;line-height:normal;font-family:Menlo,'DejaVu Sans Mono',consolas,'Courier New',monospace\"><span style=\"color: #00ff00; text-decoration-color: #00ff00\">─────────────────────────────────────────────────── </span>API Request<span style=\"color: #00ff00; text-decoration-color: #00ff00\"> ───────────────────────────────────────────────────</span>\n",
       "</pre>\n"
      ],
      "text/plain": [
       "\u001b[92m─────────────────────────────────────────────────── \u001b[0mAPI Request\u001b[92m ───────────────────────────────────────────────────\u001b[0m\n"
      ]
     },
     "metadata": {},
     "output_type": "display_data"
    },
    {
     "data": {
      "text/html": [
       "<pre style=\"white-space:pre;overflow-x:auto;line-height:normal;font-family:Menlo,'DejaVu Sans Mono',consolas,'Courier New',monospace\"><span style=\"font-weight: bold\">{</span>\n",
       "    <span style=\"color: #008000; text-decoration-color: #008000\">'url'</span>: <span style=\"color: #008000; text-decoration-color: #008000\">'http://127.0.0.1:5000/api/user/62608ecc-5809-4534-a97e-246185f8e876'</span>,\n",
       "    <span style=\"color: #008000; text-decoration-color: #008000\">'headers'</span>: <span style=\"font-weight: bold\">{</span><span style=\"color: #008000; text-decoration-color: #008000\">'Content-Type'</span>: <span style=\"color: #008000; text-decoration-color: #008000\">'application/vnd.api+json'</span>, <span style=\"color: #008000; text-decoration-color: #008000\">'Accept'</span>: <span style=\"color: #008000; text-decoration-color: #008000\">'application/vnd.api+json'</span><span style=\"font-weight: bold\">}</span>,\n",
       "    <span style=\"color: #008000; text-decoration-color: #008000\">'json'</span>: <span style=\"font-weight: bold\">{</span>\n",
       "        <span style=\"color: #008000; text-decoration-color: #008000\">'data'</span>: <span style=\"font-weight: bold\">{</span>\n",
       "            <span style=\"color: #008000; text-decoration-color: #008000\">'type'</span>: <span style=\"color: #008000; text-decoration-color: #008000\">'user'</span>,\n",
       "            <span style=\"color: #008000; text-decoration-color: #008000\">'id'</span>: <span style=\"color: #008000; text-decoration-color: #008000\">'62608ecc-5809-4534-a97e-246185f8e876'</span>,\n",
       "            <span style=\"color: #008000; text-decoration-color: #008000\">'attributes'</span>: <span style=\"font-weight: bold\">{</span><span style=\"color: #008000; text-decoration-color: #008000\">'name'</span>: <span style=\"color: #008000; text-decoration-color: #008000\">'Bob'</span>, <span style=\"color: #008000; text-decoration-color: #008000\">'update_at'</span>: <span style=\"color: #008000; text-decoration-color: #008000\">'2024-06-02T04:44:52.987591'</span><span style=\"font-weight: bold\">}</span>\n",
       "        <span style=\"font-weight: bold\">}</span>\n",
       "    <span style=\"font-weight: bold\">}</span>\n",
       "<span style=\"font-weight: bold\">}</span>\n",
       "</pre>\n"
      ],
      "text/plain": [
       "\u001b[1m{\u001b[0m\n",
       "    \u001b[32m'url'\u001b[0m: \u001b[32m'http://127.0.0.1:5000/api/user/62608ecc-5809-4534-a97e-246185f8e876'\u001b[0m,\n",
       "    \u001b[32m'headers'\u001b[0m: \u001b[1m{\u001b[0m\u001b[32m'Content-Type'\u001b[0m: \u001b[32m'application/vnd.api+json'\u001b[0m, \u001b[32m'Accept'\u001b[0m: \u001b[32m'application/vnd.api+json'\u001b[0m\u001b[1m}\u001b[0m,\n",
       "    \u001b[32m'json'\u001b[0m: \u001b[1m{\u001b[0m\n",
       "        \u001b[32m'data'\u001b[0m: \u001b[1m{\u001b[0m\n",
       "            \u001b[32m'type'\u001b[0m: \u001b[32m'user'\u001b[0m,\n",
       "            \u001b[32m'id'\u001b[0m: \u001b[32m'62608ecc-5809-4534-a97e-246185f8e876'\u001b[0m,\n",
       "            \u001b[32m'attributes'\u001b[0m: \u001b[1m{\u001b[0m\u001b[32m'name'\u001b[0m: \u001b[32m'Bob'\u001b[0m, \u001b[32m'update_at'\u001b[0m: \u001b[32m'2024-06-02T04:44:52.987591'\u001b[0m\u001b[1m}\u001b[0m\n",
       "        \u001b[1m}\u001b[0m\n",
       "    \u001b[1m}\u001b[0m\n",
       "\u001b[1m}\u001b[0m\n"
      ]
     },
     "metadata": {},
     "output_type": "display_data"
    },
    {
     "data": {
      "text/html": [
       "<pre style=\"white-space:pre;overflow-x:auto;line-height:normal;font-family:Menlo,'DejaVu Sans Mono',consolas,'Courier New',monospace\"><span style=\"color: #00ff00; text-decoration-color: #00ff00\">──────────────────────────────────────────── </span>API Response status code<span style=\"color: #00ff00; text-decoration-color: #00ff00\"> ─────────────────────────────────────────────</span>\n",
       "</pre>\n"
      ],
      "text/plain": [
       "\u001b[92m──────────────────────────────────────────── \u001b[0mAPI Response status code\u001b[92m ─────────────────────────────────────────────\u001b[0m\n"
      ]
     },
     "metadata": {},
     "output_type": "display_data"
    },
    {
     "data": {
      "text/html": [
       "<pre style=\"white-space:pre;overflow-x:auto;line-height:normal;font-family:Menlo,'DejaVu Sans Mono',consolas,'Courier New',monospace\">response.status_code = <span style=\"color: #008080; text-decoration-color: #008080; font-weight: bold\">204</span>\n",
       "</pre>\n"
      ],
      "text/plain": [
       "response.status_code = \u001b[1;36m204\u001b[0m\n"
      ]
     },
     "metadata": {},
     "output_type": "display_data"
    },
    {
     "data": {
      "text/html": [
       "<pre style=\"white-space:pre;overflow-x:auto;line-height:normal;font-family:Menlo,'DejaVu Sans Mono',consolas,'Courier New',monospace\"><span style=\"color: #00ff00; text-decoration-color: #00ff00\">────────────────────────────────────────────── </span>API Response headers<span style=\"color: #00ff00; text-decoration-color: #00ff00\"> ───────────────────────────────────────────────</span>\n",
       "</pre>\n"
      ],
      "text/plain": [
       "\u001b[92m────────────────────────────────────────────── \u001b[0mAPI Response headers\u001b[92m ───────────────────────────────────────────────\u001b[0m\n"
      ]
     },
     "metadata": {},
     "output_type": "display_data"
    },
    {
     "data": {
      "text/html": [
       "<pre style=\"white-space:pre;overflow-x:auto;line-height:normal;font-family:Menlo,'DejaVu Sans Mono',consolas,'Courier New',monospace\"><span style=\"font-weight: bold\">{</span>\n",
       "    <span style=\"color: #008000; text-decoration-color: #008000\">'Server'</span>: <span style=\"color: #008000; text-decoration-color: #008000\">'Werkzeug/3.0.3 Python/3.8.13'</span>,\n",
       "    <span style=\"color: #008000; text-decoration-color: #008000\">'Date'</span>: <span style=\"color: #008000; text-decoration-color: #008000\">'Sun, 02 Jun 2024 04:44:53 GMT'</span>,\n",
       "    <span style=\"color: #008000; text-decoration-color: #008000\">'Content-Type'</span>: <span style=\"color: #008000; text-decoration-color: #008000\">'application/vnd.api+json'</span>,\n",
       "    <span style=\"color: #008000; text-decoration-color: #008000\">'Connection'</span>: <span style=\"color: #008000; text-decoration-color: #008000\">'close'</span>\n",
       "<span style=\"font-weight: bold\">}</span>\n",
       "</pre>\n"
      ],
      "text/plain": [
       "\u001b[1m{\u001b[0m\n",
       "    \u001b[32m'Server'\u001b[0m: \u001b[32m'Werkzeug/3.0.3 Python/3.8.13'\u001b[0m,\n",
       "    \u001b[32m'Date'\u001b[0m: \u001b[32m'Sun, 02 Jun 2024 04:44:53 GMT'\u001b[0m,\n",
       "    \u001b[32m'Content-Type'\u001b[0m: \u001b[32m'application/vnd.api+json'\u001b[0m,\n",
       "    \u001b[32m'Connection'\u001b[0m: \u001b[32m'close'\u001b[0m\n",
       "\u001b[1m}\u001b[0m\n"
      ]
     },
     "metadata": {},
     "output_type": "display_data"
    },
    {
     "data": {
      "text/html": [
       "<pre style=\"white-space:pre;overflow-x:auto;line-height:normal;font-family:Menlo,'DejaVu Sans Mono',consolas,'Courier New',monospace\"><span style=\"color: #00ff00; text-decoration-color: #00ff00\">──────────────────────────────────────────────── </span>API Response data<span style=\"color: #00ff00; text-decoration-color: #00ff00\"> ────────────────────────────────────────────────</span>\n",
       "</pre>\n"
      ],
      "text/plain": [
       "\u001b[92m──────────────────────────────────────────────── \u001b[0mAPI Response data\u001b[92m ────────────────────────────────────────────────\u001b[0m\n"
      ]
     },
     "metadata": {},
     "output_type": "display_data"
    },
    {
     "name": "stdout",
     "output_type": "stream",
     "text": [
      "No content\n"
     ]
    }
   ],
   "source": [
    "rprint(Panel(\"Update the user 1\"))\n",
    "url = f\"{host}/api/{ETE.user.value}/{user_id_1}\"\n",
    "\n",
    "user_id_1_update_at = get_utc_now()\n",
    "data = {\n",
    "    \"data\": {\n",
    "        \"type\": ETE.user.value,\n",
    "        \"id\": user_id_1,\n",
    "        \"attributes\": {\n",
    "            \"name\": \"Bob\",\n",
    "            \"update_at\": user_id_1_update_at.isoformat(),\n",
    "        },\n",
    "    },\n",
    "}\n",
    "kwargs = dict(\n",
    "    url=url,\n",
    "    headers=post_headers,\n",
    "    json=data,\n",
    ")\n",
    "response = make_request(requests.patch, kwargs)\n",
    "\n",
    "# verify the data in the database\n",
    "with orm.Session(engine) as ses:\n",
    "    user = ses.get(User, user_id_1)\n",
    "    assert user.id == user_id_1\n",
    "    assert user.name == \"Bob\"\n",
    "    assert user.create_at == user_id_1_create_at\n",
    "    assert user.update_at == user_id_1_update_at\n",
    "    assert user.deleted == 0"
   ]
  },
  {
   "cell_type": "markdown",
   "id": "61ce5327-6cf9-4dae-834d-ec97ec029b74",
   "metadata": {},
   "source": [
    "## Create a video"
   ]
  },
  {
   "cell_type": "code",
   "execution_count": 7,
   "id": "b7d0c8bd-f9f8-4223-9262-fdc4f8208e25",
   "metadata": {},
   "outputs": [
    {
     "data": {
      "text/html": [
       "<pre style=\"white-space:pre;overflow-x:auto;line-height:normal;font-family:Menlo,'DejaVu Sans Mono',consolas,'Courier New',monospace\">╭─────────────────────────────────────────────────────────────────────────────────────────────────────────────────╮\n",
       "│ Create a video                                                                                                  │\n",
       "╰─────────────────────────────────────────────────────────────────────────────────────────────────────────────────╯\n",
       "</pre>\n"
      ],
      "text/plain": [
       "╭─────────────────────────────────────────────────────────────────────────────────────────────────────────────────╮\n",
       "│ Create a video                                                                                                  │\n",
       "╰─────────────────────────────────────────────────────────────────────────────────────────────────────────────────╯\n"
      ]
     },
     "metadata": {},
     "output_type": "display_data"
    },
    {
     "data": {
      "text/html": [
       "<pre style=\"white-space:pre;overflow-x:auto;line-height:normal;font-family:Menlo,'DejaVu Sans Mono',consolas,'Courier New',monospace\"><span style=\"color: #00ff00; text-decoration-color: #00ff00\">─────────────────────────────────────────────────── </span>API Request<span style=\"color: #00ff00; text-decoration-color: #00ff00\"> ───────────────────────────────────────────────────</span>\n",
       "</pre>\n"
      ],
      "text/plain": [
       "\u001b[92m─────────────────────────────────────────────────── \u001b[0mAPI Request\u001b[92m ───────────────────────────────────────────────────\u001b[0m\n"
      ]
     },
     "metadata": {},
     "output_type": "display_data"
    },
    {
     "data": {
      "text/html": [
       "<pre style=\"white-space:pre;overflow-x:auto;line-height:normal;font-family:Menlo,'DejaVu Sans Mono',consolas,'Courier New',monospace\"><span style=\"font-weight: bold\">{</span>\n",
       "    <span style=\"color: #008000; text-decoration-color: #008000\">'url'</span>: <span style=\"color: #008000; text-decoration-color: #008000\">'http://127.0.0.1:5000/api/video'</span>,\n",
       "    <span style=\"color: #008000; text-decoration-color: #008000\">'headers'</span>: <span style=\"font-weight: bold\">{</span><span style=\"color: #008000; text-decoration-color: #008000\">'Content-Type'</span>: <span style=\"color: #008000; text-decoration-color: #008000\">'application/vnd.api+json'</span>, <span style=\"color: #008000; text-decoration-color: #008000\">'Accept'</span>: <span style=\"color: #008000; text-decoration-color: #008000\">'application/vnd.api+json'</span><span style=\"font-weight: bold\">}</span>,\n",
       "    <span style=\"color: #008000; text-decoration-color: #008000\">'json'</span>: <span style=\"font-weight: bold\">{</span>\n",
       "        <span style=\"color: #008000; text-decoration-color: #008000\">'data'</span>: <span style=\"font-weight: bold\">{</span>\n",
       "            <span style=\"color: #008000; text-decoration-color: #008000\">'type'</span>: <span style=\"color: #008000; text-decoration-color: #008000\">'video'</span>,\n",
       "            <span style=\"color: #008000; text-decoration-color: #008000\">'id'</span>: <span style=\"color: #008000; text-decoration-color: #008000\">'ca585605-67d8-4e77-becc-8afa09a2fd82'</span>,\n",
       "            <span style=\"color: #008000; text-decoration-color: #008000\">'attributes'</span>: <span style=\"font-weight: bold\">{</span>\n",
       "                <span style=\"color: #008000; text-decoration-color: #008000\">'title'</span>: <span style=\"color: #008000; text-decoration-color: #008000\">'user 1 video 1'</span>,\n",
       "                <span style=\"color: #008000; text-decoration-color: #008000\">'create_at'</span>: <span style=\"color: #008000; text-decoration-color: #008000\">'2024-06-02T04:45:05.647971'</span>,\n",
       "                <span style=\"color: #008000; text-decoration-color: #008000\">'update_at'</span>: <span style=\"color: #008000; text-decoration-color: #008000\">'2024-06-02T04:45:05.647971'</span>,\n",
       "                <span style=\"color: #008000; text-decoration-color: #008000\">'deleted'</span>: <span style=\"color: #008080; text-decoration-color: #008080; font-weight: bold\">0</span>,\n",
       "                <span style=\"color: #008000; text-decoration-color: #008000\">'author_id'</span>: <span style=\"color: #008000; text-decoration-color: #008000\">'62608ecc-5809-4534-a97e-246185f8e876'</span>\n",
       "            <span style=\"font-weight: bold\">}</span>\n",
       "        <span style=\"font-weight: bold\">}</span>\n",
       "    <span style=\"font-weight: bold\">}</span>\n",
       "<span style=\"font-weight: bold\">}</span>\n",
       "</pre>\n"
      ],
      "text/plain": [
       "\u001b[1m{\u001b[0m\n",
       "    \u001b[32m'url'\u001b[0m: \u001b[32m'http://127.0.0.1:5000/api/video'\u001b[0m,\n",
       "    \u001b[32m'headers'\u001b[0m: \u001b[1m{\u001b[0m\u001b[32m'Content-Type'\u001b[0m: \u001b[32m'application/vnd.api+json'\u001b[0m, \u001b[32m'Accept'\u001b[0m: \u001b[32m'application/vnd.api+json'\u001b[0m\u001b[1m}\u001b[0m,\n",
       "    \u001b[32m'json'\u001b[0m: \u001b[1m{\u001b[0m\n",
       "        \u001b[32m'data'\u001b[0m: \u001b[1m{\u001b[0m\n",
       "            \u001b[32m'type'\u001b[0m: \u001b[32m'video'\u001b[0m,\n",
       "            \u001b[32m'id'\u001b[0m: \u001b[32m'ca585605-67d8-4e77-becc-8afa09a2fd82'\u001b[0m,\n",
       "            \u001b[32m'attributes'\u001b[0m: \u001b[1m{\u001b[0m\n",
       "                \u001b[32m'title'\u001b[0m: \u001b[32m'user 1 video 1'\u001b[0m,\n",
       "                \u001b[32m'create_at'\u001b[0m: \u001b[32m'2024-06-02T04:45:05.647971'\u001b[0m,\n",
       "                \u001b[32m'update_at'\u001b[0m: \u001b[32m'2024-06-02T04:45:05.647971'\u001b[0m,\n",
       "                \u001b[32m'deleted'\u001b[0m: \u001b[1;36m0\u001b[0m,\n",
       "                \u001b[32m'author_id'\u001b[0m: \u001b[32m'62608ecc-5809-4534-a97e-246185f8e876'\u001b[0m\n",
       "            \u001b[1m}\u001b[0m\n",
       "        \u001b[1m}\u001b[0m\n",
       "    \u001b[1m}\u001b[0m\n",
       "\u001b[1m}\u001b[0m\n"
      ]
     },
     "metadata": {},
     "output_type": "display_data"
    },
    {
     "data": {
      "text/html": [
       "<pre style=\"white-space:pre;overflow-x:auto;line-height:normal;font-family:Menlo,'DejaVu Sans Mono',consolas,'Courier New',monospace\"><span style=\"color: #00ff00; text-decoration-color: #00ff00\">──────────────────────────────────────────── </span>API Response status code<span style=\"color: #00ff00; text-decoration-color: #00ff00\"> ─────────────────────────────────────────────</span>\n",
       "</pre>\n"
      ],
      "text/plain": [
       "\u001b[92m──────────────────────────────────────────── \u001b[0mAPI Response status code\u001b[92m ─────────────────────────────────────────────\u001b[0m\n"
      ]
     },
     "metadata": {},
     "output_type": "display_data"
    },
    {
     "data": {
      "text/html": [
       "<pre style=\"white-space:pre;overflow-x:auto;line-height:normal;font-family:Menlo,'DejaVu Sans Mono',consolas,'Courier New',monospace\">response.status_code = <span style=\"color: #008080; text-decoration-color: #008080; font-weight: bold\">201</span>\n",
       "</pre>\n"
      ],
      "text/plain": [
       "response.status_code = \u001b[1;36m201\u001b[0m\n"
      ]
     },
     "metadata": {},
     "output_type": "display_data"
    },
    {
     "data": {
      "text/html": [
       "<pre style=\"white-space:pre;overflow-x:auto;line-height:normal;font-family:Menlo,'DejaVu Sans Mono',consolas,'Courier New',monospace\"><span style=\"color: #00ff00; text-decoration-color: #00ff00\">────────────────────────────────────────────── </span>API Response headers<span style=\"color: #00ff00; text-decoration-color: #00ff00\"> ───────────────────────────────────────────────</span>\n",
       "</pre>\n"
      ],
      "text/plain": [
       "\u001b[92m────────────────────────────────────────────── \u001b[0mAPI Response headers\u001b[92m ───────────────────────────────────────────────\u001b[0m\n"
      ]
     },
     "metadata": {},
     "output_type": "display_data"
    },
    {
     "data": {
      "text/html": [
       "<pre style=\"white-space:pre;overflow-x:auto;line-height:normal;font-family:Menlo,'DejaVu Sans Mono',consolas,'Courier New',monospace\"><span style=\"font-weight: bold\">{</span>\n",
       "    <span style=\"color: #008000; text-decoration-color: #008000\">'Server'</span>: <span style=\"color: #008000; text-decoration-color: #008000\">'Werkzeug/3.0.3 Python/3.8.13'</span>,\n",
       "    <span style=\"color: #008000; text-decoration-color: #008000\">'Date'</span>: <span style=\"color: #008000; text-decoration-color: #008000\">'Sun, 02 Jun 2024 04:45:05 GMT'</span>,\n",
       "    <span style=\"color: #008000; text-decoration-color: #008000\">'Location'</span>: <span style=\"color: #008000; text-decoration-color: #008000\">'http://127.0.0.1:5000/api/video/ca585605-67d8-4e77-becc-8afa09a2fd82'</span>,\n",
       "    <span style=\"color: #008000; text-decoration-color: #008000\">'Content-Type'</span>: <span style=\"color: #008000; text-decoration-color: #008000\">'application/vnd.api+json'</span>,\n",
       "    <span style=\"color: #008000; text-decoration-color: #008000\">'Content-Length'</span>: <span style=\"color: #008000; text-decoration-color: #008000\">'377'</span>,\n",
       "    <span style=\"color: #008000; text-decoration-color: #008000\">'Connection'</span>: <span style=\"color: #008000; text-decoration-color: #008000\">'close'</span>\n",
       "<span style=\"font-weight: bold\">}</span>\n",
       "</pre>\n"
      ],
      "text/plain": [
       "\u001b[1m{\u001b[0m\n",
       "    \u001b[32m'Server'\u001b[0m: \u001b[32m'Werkzeug/3.0.3 Python/3.8.13'\u001b[0m,\n",
       "    \u001b[32m'Date'\u001b[0m: \u001b[32m'Sun, 02 Jun 2024 04:45:05 GMT'\u001b[0m,\n",
       "    \u001b[32m'Location'\u001b[0m: \u001b[32m'http://127.0.0.1:5000/api/video/ca585605-67d8-4e77-becc-8afa09a2fd82'\u001b[0m,\n",
       "    \u001b[32m'Content-Type'\u001b[0m: \u001b[32m'application/vnd.api+json'\u001b[0m,\n",
       "    \u001b[32m'Content-Length'\u001b[0m: \u001b[32m'377'\u001b[0m,\n",
       "    \u001b[32m'Connection'\u001b[0m: \u001b[32m'close'\u001b[0m\n",
       "\u001b[1m}\u001b[0m\n"
      ]
     },
     "metadata": {},
     "output_type": "display_data"
    },
    {
     "data": {
      "text/html": [
       "<pre style=\"white-space:pre;overflow-x:auto;line-height:normal;font-family:Menlo,'DejaVu Sans Mono',consolas,'Courier New',monospace\"><span style=\"color: #00ff00; text-decoration-color: #00ff00\">──────────────────────────────────────────────── </span>API Response data<span style=\"color: #00ff00; text-decoration-color: #00ff00\"> ────────────────────────────────────────────────</span>\n",
       "</pre>\n"
      ],
      "text/plain": [
       "\u001b[92m──────────────────────────────────────────────── \u001b[0mAPI Response data\u001b[92m ────────────────────────────────────────────────\u001b[0m\n"
      ]
     },
     "metadata": {},
     "output_type": "display_data"
    },
    {
     "data": {
      "text/html": [
       "<pre style=\"white-space:pre;overflow-x:auto;line-height:normal;font-family:Menlo,'DejaVu Sans Mono',consolas,'Courier New',monospace\"><span style=\"font-weight: bold\">{</span>\n",
       "    <span style=\"color: #008000; text-decoration-color: #008000\">'data'</span>: <span style=\"font-weight: bold\">{</span>\n",
       "        <span style=\"color: #008000; text-decoration-color: #008000\">'attributes'</span>: <span style=\"font-weight: bold\">{</span>\n",
       "            <span style=\"color: #008000; text-decoration-color: #008000\">'create_at'</span>: <span style=\"color: #008000; text-decoration-color: #008000\">'2024-06-02T04:45:05.647971'</span>,\n",
       "            <span style=\"color: #008000; text-decoration-color: #008000\">'deleted'</span>: <span style=\"color: #008080; text-decoration-color: #008080; font-weight: bold\">0</span>,\n",
       "            <span style=\"color: #008000; text-decoration-color: #008000\">'title'</span>: <span style=\"color: #008000; text-decoration-color: #008000\">'user 1 video 1'</span>,\n",
       "            <span style=\"color: #008000; text-decoration-color: #008000\">'update_at'</span>: <span style=\"color: #008000; text-decoration-color: #008000\">'2024-06-02T04:45:05.647971'</span>\n",
       "        <span style=\"font-weight: bold\">}</span>,\n",
       "        <span style=\"color: #008000; text-decoration-color: #008000\">'id'</span>: <span style=\"color: #008000; text-decoration-color: #008000\">'ca585605-67d8-4e77-becc-8afa09a2fd82'</span>,\n",
       "        <span style=\"color: #008000; text-decoration-color: #008000\">'relationships'</span>: <span style=\"font-weight: bold\">{</span>\n",
       "            <span style=\"color: #008000; text-decoration-color: #008000\">'author'</span>: <span style=\"font-weight: bold\">{</span><span style=\"color: #008000; text-decoration-color: #008000\">'data'</span>: <span style=\"font-weight: bold\">{</span><span style=\"color: #008000; text-decoration-color: #008000\">'id'</span>: <span style=\"color: #008000; text-decoration-color: #008000\">'62608ecc-5809-4534-a97e-246185f8e876'</span>, <span style=\"color: #008000; text-decoration-color: #008000\">'type'</span>: <span style=\"color: #008000; text-decoration-color: #008000\">'user'</span><span style=\"font-weight: bold\">}}</span>,\n",
       "            <span style=\"color: #008000; text-decoration-color: #008000\">'playlists'</span>: <span style=\"font-weight: bold\">{</span><span style=\"color: #008000; text-decoration-color: #008000\">'data'</span>: <span style=\"font-weight: bold\">[]}</span>\n",
       "        <span style=\"font-weight: bold\">}</span>,\n",
       "        <span style=\"color: #008000; text-decoration-color: #008000\">'type'</span>: <span style=\"color: #008000; text-decoration-color: #008000\">'video'</span>\n",
       "    <span style=\"font-weight: bold\">}</span>,\n",
       "    <span style=\"color: #008000; text-decoration-color: #008000\">'jsonapi'</span>: <span style=\"font-weight: bold\">{</span><span style=\"color: #008000; text-decoration-color: #008000\">'version'</span>: <span style=\"color: #008000; text-decoration-color: #008000\">'1.0'</span><span style=\"font-weight: bold\">}</span>\n",
       "<span style=\"font-weight: bold\">}</span>\n",
       "</pre>\n"
      ],
      "text/plain": [
       "\u001b[1m{\u001b[0m\n",
       "    \u001b[32m'data'\u001b[0m: \u001b[1m{\u001b[0m\n",
       "        \u001b[32m'attributes'\u001b[0m: \u001b[1m{\u001b[0m\n",
       "            \u001b[32m'create_at'\u001b[0m: \u001b[32m'2024-06-02T04:45:05.647971'\u001b[0m,\n",
       "            \u001b[32m'deleted'\u001b[0m: \u001b[1;36m0\u001b[0m,\n",
       "            \u001b[32m'title'\u001b[0m: \u001b[32m'user 1 video 1'\u001b[0m,\n",
       "            \u001b[32m'update_at'\u001b[0m: \u001b[32m'2024-06-02T04:45:05.647971'\u001b[0m\n",
       "        \u001b[1m}\u001b[0m,\n",
       "        \u001b[32m'id'\u001b[0m: \u001b[32m'ca585605-67d8-4e77-becc-8afa09a2fd82'\u001b[0m,\n",
       "        \u001b[32m'relationships'\u001b[0m: \u001b[1m{\u001b[0m\n",
       "            \u001b[32m'author'\u001b[0m: \u001b[1m{\u001b[0m\u001b[32m'data'\u001b[0m: \u001b[1m{\u001b[0m\u001b[32m'id'\u001b[0m: \u001b[32m'62608ecc-5809-4534-a97e-246185f8e876'\u001b[0m, \u001b[32m'type'\u001b[0m: \u001b[32m'user'\u001b[0m\u001b[1m}\u001b[0m\u001b[1m}\u001b[0m,\n",
       "            \u001b[32m'playlists'\u001b[0m: \u001b[1m{\u001b[0m\u001b[32m'data'\u001b[0m: \u001b[1m[\u001b[0m\u001b[1m]\u001b[0m\u001b[1m}\u001b[0m\n",
       "        \u001b[1m}\u001b[0m,\n",
       "        \u001b[32m'type'\u001b[0m: \u001b[32m'video'\u001b[0m\n",
       "    \u001b[1m}\u001b[0m,\n",
       "    \u001b[32m'jsonapi'\u001b[0m: \u001b[1m{\u001b[0m\u001b[32m'version'\u001b[0m: \u001b[32m'1.0'\u001b[0m\u001b[1m}\u001b[0m\n",
       "\u001b[1m}\u001b[0m\n"
      ]
     },
     "metadata": {},
     "output_type": "display_data"
    }
   ],
   "source": [
    "rprint(Panel(\"Create a video\"))\n",
    "video_id_1 = str(uuid.uuid4())\n",
    "video_id_1_create_at = get_utc_now()\n",
    "\n",
    "url = f\"{host}/api/{ETE.video.value}\"\n",
    "data = {\n",
    "    \"data\": {\n",
    "        \"type\": ETE.video.value,\n",
    "        \"id\": video_id_1,\n",
    "        \"attributes\": {\n",
    "            \"title\": \"user 1 video 1\",\n",
    "            \"create_at\": video_id_1_create_at.isoformat(),\n",
    "            \"update_at\": video_id_1_create_at.isoformat(),\n",
    "            \"deleted\": 0,\n",
    "            \"author_id\": user_id_1,\n",
    "        },\n",
    "    },\n",
    "}\n",
    "kwargs = dict(\n",
    "    url=url,\n",
    "    headers=post_headers,\n",
    "    json=data,\n",
    ")\n",
    "response = make_request(requests.post, kwargs)\n",
    "\n",
    "# verify the data in the database\n",
    "with orm.Session(engine) as ses:\n",
    "    video = ses.get(Video, video_id_1)\n",
    "    assert video.id == video_id_1\n",
    "    assert video.title == \"user 1 video 1\"\n",
    "    assert video.create_at == video_id_1_create_at\n",
    "    assert video.update_at == video_id_1_create_at\n",
    "    assert video.deleted == 0\n",
    "    assert video.author_id == user_id_1\n",
    "    assert video.author.id == user_id_1\n",
    "    assert video.author.name == \"Bob\"\n",
    "\n",
    "    user = ses.get(User, user_id_1)\n",
    "    owned_videos = user.owned_videos\n",
    "    assert len(owned_videos) == 1\n",
    "    video = owned_videos[0]\n",
    "    assert video.id == video_id_1\n",
    "    assert video.title == \"user 1 video 1\"\n",
    "    assert video.create_at == video_id_1_create_at\n",
    "    assert video.update_at == video_id_1_create_at\n",
    "    assert video.deleted == 0"
   ]
  },
  {
   "cell_type": "markdown",
   "id": "bfef75b9-a150-48d2-bee5-886c5e116742",
   "metadata": {},
   "source": [
    "## Update video ownership relationship"
   ]
  },
  {
   "cell_type": "code",
   "execution_count": 8,
   "id": "acd25b83-8822-4ed7-9e1b-a92e89e1d1fd",
   "metadata": {},
   "outputs": [
    {
     "data": {
      "text/html": [
       "<pre style=\"white-space:pre;overflow-x:auto;line-height:normal;font-family:Menlo,'DejaVu Sans Mono',consolas,'Courier New',monospace\">╭─────────────────────────────────────────────────────────────────────────────────────────────────────────────────╮\n",
       "│ Update video ownership relationship                                                                             │\n",
       "╰─────────────────────────────────────────────────────────────────────────────────────────────────────────────────╯\n",
       "</pre>\n"
      ],
      "text/plain": [
       "╭─────────────────────────────────────────────────────────────────────────────────────────────────────────────────╮\n",
       "│ Update video ownership relationship                                                                             │\n",
       "╰─────────────────────────────────────────────────────────────────────────────────────────────────────────────────╯\n"
      ]
     },
     "metadata": {},
     "output_type": "display_data"
    },
    {
     "data": {
      "text/html": [
       "<pre style=\"white-space:pre;overflow-x:auto;line-height:normal;font-family:Menlo,'DejaVu Sans Mono',consolas,'Courier New',monospace\"><span style=\"color: #00ff00; text-decoration-color: #00ff00\">─────────────────────────────────────────────────── </span>API Request<span style=\"color: #00ff00; text-decoration-color: #00ff00\"> ───────────────────────────────────────────────────</span>\n",
       "</pre>\n"
      ],
      "text/plain": [
       "\u001b[92m─────────────────────────────────────────────────── \u001b[0mAPI Request\u001b[92m ───────────────────────────────────────────────────\u001b[0m\n"
      ]
     },
     "metadata": {},
     "output_type": "display_data"
    },
    {
     "data": {
      "text/html": [
       "<pre style=\"white-space:pre;overflow-x:auto;line-height:normal;font-family:Menlo,'DejaVu Sans Mono',consolas,'Courier New',monospace\"><span style=\"font-weight: bold\">{</span>\n",
       "    <span style=\"color: #008000; text-decoration-color: #008000\">'url'</span>: <span style=\"color: #008000; text-decoration-color: #008000\">'http://127.0.0.1:5000/api/video/ca585605-67d8-4e77-becc-8afa09a2fd82/relationships/author'</span>,\n",
       "    <span style=\"color: #008000; text-decoration-color: #008000\">'headers'</span>: <span style=\"font-weight: bold\">{</span><span style=\"color: #008000; text-decoration-color: #008000\">'Content-Type'</span>: <span style=\"color: #008000; text-decoration-color: #008000\">'application/vnd.api+json'</span>, <span style=\"color: #008000; text-decoration-color: #008000\">'Accept'</span>: <span style=\"color: #008000; text-decoration-color: #008000\">'application/vnd.api+json'</span><span style=\"font-weight: bold\">}</span>,\n",
       "    <span style=\"color: #008000; text-decoration-color: #008000\">'json'</span>: <span style=\"font-weight: bold\">{</span><span style=\"color: #008000; text-decoration-color: #008000\">'data'</span>: <span style=\"font-weight: bold\">{</span><span style=\"color: #008000; text-decoration-color: #008000\">'type'</span>: <span style=\"color: #008000; text-decoration-color: #008000\">'user'</span>, <span style=\"color: #008000; text-decoration-color: #008000\">'id'</span>: <span style=\"color: #008000; text-decoration-color: #008000\">'3d8897cd-af7f-4739-9921-069844277f5d'</span><span style=\"font-weight: bold\">}}</span>\n",
       "<span style=\"font-weight: bold\">}</span>\n",
       "</pre>\n"
      ],
      "text/plain": [
       "\u001b[1m{\u001b[0m\n",
       "    \u001b[32m'url'\u001b[0m: \u001b[32m'http://127.0.0.1:5000/api/video/ca585605-67d8-4e77-becc-8afa09a2fd82/relationships/author'\u001b[0m,\n",
       "    \u001b[32m'headers'\u001b[0m: \u001b[1m{\u001b[0m\u001b[32m'Content-Type'\u001b[0m: \u001b[32m'application/vnd.api+json'\u001b[0m, \u001b[32m'Accept'\u001b[0m: \u001b[32m'application/vnd.api+json'\u001b[0m\u001b[1m}\u001b[0m,\n",
       "    \u001b[32m'json'\u001b[0m: \u001b[1m{\u001b[0m\u001b[32m'data'\u001b[0m: \u001b[1m{\u001b[0m\u001b[32m'type'\u001b[0m: \u001b[32m'user'\u001b[0m, \u001b[32m'id'\u001b[0m: \u001b[32m'3d8897cd-af7f-4739-9921-069844277f5d'\u001b[0m\u001b[1m}\u001b[0m\u001b[1m}\u001b[0m\n",
       "\u001b[1m}\u001b[0m\n"
      ]
     },
     "metadata": {},
     "output_type": "display_data"
    },
    {
     "data": {
      "text/html": [
       "<pre style=\"white-space:pre;overflow-x:auto;line-height:normal;font-family:Menlo,'DejaVu Sans Mono',consolas,'Courier New',monospace\"><span style=\"color: #00ff00; text-decoration-color: #00ff00\">──────────────────────────────────────────── </span>API Response status code<span style=\"color: #00ff00; text-decoration-color: #00ff00\"> ─────────────────────────────────────────────</span>\n",
       "</pre>\n"
      ],
      "text/plain": [
       "\u001b[92m──────────────────────────────────────────── \u001b[0mAPI Response status code\u001b[92m ─────────────────────────────────────────────\u001b[0m\n"
      ]
     },
     "metadata": {},
     "output_type": "display_data"
    },
    {
     "data": {
      "text/html": [
       "<pre style=\"white-space:pre;overflow-x:auto;line-height:normal;font-family:Menlo,'DejaVu Sans Mono',consolas,'Courier New',monospace\">response.status_code = <span style=\"color: #008080; text-decoration-color: #008080; font-weight: bold\">204</span>\n",
       "</pre>\n"
      ],
      "text/plain": [
       "response.status_code = \u001b[1;36m204\u001b[0m\n"
      ]
     },
     "metadata": {},
     "output_type": "display_data"
    },
    {
     "data": {
      "text/html": [
       "<pre style=\"white-space:pre;overflow-x:auto;line-height:normal;font-family:Menlo,'DejaVu Sans Mono',consolas,'Courier New',monospace\"><span style=\"color: #00ff00; text-decoration-color: #00ff00\">────────────────────────────────────────────── </span>API Response headers<span style=\"color: #00ff00; text-decoration-color: #00ff00\"> ───────────────────────────────────────────────</span>\n",
       "</pre>\n"
      ],
      "text/plain": [
       "\u001b[92m────────────────────────────────────────────── \u001b[0mAPI Response headers\u001b[92m ───────────────────────────────────────────────\u001b[0m\n"
      ]
     },
     "metadata": {},
     "output_type": "display_data"
    },
    {
     "data": {
      "text/html": [
       "<pre style=\"white-space:pre;overflow-x:auto;line-height:normal;font-family:Menlo,'DejaVu Sans Mono',consolas,'Courier New',monospace\"><span style=\"font-weight: bold\">{</span>\n",
       "    <span style=\"color: #008000; text-decoration-color: #008000\">'Server'</span>: <span style=\"color: #008000; text-decoration-color: #008000\">'Werkzeug/3.0.3 Python/3.8.13'</span>,\n",
       "    <span style=\"color: #008000; text-decoration-color: #008000\">'Date'</span>: <span style=\"color: #008000; text-decoration-color: #008000\">'Sun, 02 Jun 2024 04:45:21 GMT'</span>,\n",
       "    <span style=\"color: #008000; text-decoration-color: #008000\">'Content-Type'</span>: <span style=\"color: #008000; text-decoration-color: #008000\">'application/vnd.api+json'</span>,\n",
       "    <span style=\"color: #008000; text-decoration-color: #008000\">'Connection'</span>: <span style=\"color: #008000; text-decoration-color: #008000\">'close'</span>\n",
       "<span style=\"font-weight: bold\">}</span>\n",
       "</pre>\n"
      ],
      "text/plain": [
       "\u001b[1m{\u001b[0m\n",
       "    \u001b[32m'Server'\u001b[0m: \u001b[32m'Werkzeug/3.0.3 Python/3.8.13'\u001b[0m,\n",
       "    \u001b[32m'Date'\u001b[0m: \u001b[32m'Sun, 02 Jun 2024 04:45:21 GMT'\u001b[0m,\n",
       "    \u001b[32m'Content-Type'\u001b[0m: \u001b[32m'application/vnd.api+json'\u001b[0m,\n",
       "    \u001b[32m'Connection'\u001b[0m: \u001b[32m'close'\u001b[0m\n",
       "\u001b[1m}\u001b[0m\n"
      ]
     },
     "metadata": {},
     "output_type": "display_data"
    },
    {
     "data": {
      "text/html": [
       "<pre style=\"white-space:pre;overflow-x:auto;line-height:normal;font-family:Menlo,'DejaVu Sans Mono',consolas,'Courier New',monospace\"><span style=\"color: #00ff00; text-decoration-color: #00ff00\">──────────────────────────────────────────────── </span>API Response data<span style=\"color: #00ff00; text-decoration-color: #00ff00\"> ────────────────────────────────────────────────</span>\n",
       "</pre>\n"
      ],
      "text/plain": [
       "\u001b[92m──────────────────────────────────────────────── \u001b[0mAPI Response data\u001b[92m ────────────────────────────────────────────────\u001b[0m\n"
      ]
     },
     "metadata": {},
     "output_type": "display_data"
    },
    {
     "name": "stdout",
     "output_type": "stream",
     "text": [
      "No content\n"
     ]
    }
   ],
   "source": [
    "rprint(Panel(\"Update video ownership relationship\"))\n",
    "# create a new user, so we can switch the ownership to this new user\n",
    "user_id_2 = str(uuid.uuid4())\n",
    "user_id_2_create_at = get_utc_now()\n",
    "\n",
    "url = f\"{host}/api/{ETE.user.value}\"\n",
    "data = {\n",
    "    \"data\": {\n",
    "        \"type\": ETE.user.value,\n",
    "        \"id\": user_id_2,\n",
    "        \"attributes\": {\n",
    "            \"name\": \"Bella\",\n",
    "            \"create_at\": user_id_2_create_at.isoformat(),\n",
    "            \"update_at\": user_id_2_create_at.isoformat(),\n",
    "            \"deleted\": 0,\n",
    "        },\n",
    "    },\n",
    "}\n",
    "kwargs = dict(\n",
    "    url=url,\n",
    "    headers=post_headers,\n",
    "    json=data,\n",
    ")\n",
    "requests.post(**kwargs)\n",
    "\n",
    "# update video ownership\n",
    "url = f\"{host}/api/{ETE.video.value}/{video_id_1}/relationships/author\"\n",
    "data = {\n",
    "    \"data\": {\n",
    "        \"type\": ETE.user.value,\n",
    "        \"id\": user_id_2,\n",
    "    },\n",
    "}\n",
    "kwargs = dict(\n",
    "    url=url,\n",
    "    headers=post_headers,\n",
    "    json=data,\n",
    ")\n",
    "response = make_request(requests.patch, kwargs)\n",
    "\n",
    "# verify the data in the database\n",
    "with orm.Session(engine) as ses:\n",
    "    video = ses.get(Video, video_id_1)\n",
    "    assert video.author_id == user_id_2"
   ]
  },
  {
   "cell_type": "markdown",
   "id": "7ed79d80-53c1-4907-b024-b86f8e48474b",
   "metadata": {},
   "source": [
    "## Create playlist video relationship"
   ]
  },
  {
   "cell_type": "code",
   "execution_count": 9,
   "id": "06d34cb6-b9f0-449e-b15e-604268dd9126",
   "metadata": {},
   "outputs": [
    {
     "data": {
      "text/html": [
       "<pre style=\"white-space:pre;overflow-x:auto;line-height:normal;font-family:Menlo,'DejaVu Sans Mono',consolas,'Courier New',monospace\">╭─────────────────────────────────────────────────────────────────────────────────────────────────────────────────╮\n",
       "│ Create playlist video relationship                                                                              │\n",
       "╰─────────────────────────────────────────────────────────────────────────────────────────────────────────────────╯\n",
       "</pre>\n"
      ],
      "text/plain": [
       "╭─────────────────────────────────────────────────────────────────────────────────────────────────────────────────╮\n",
       "│ Create playlist video relationship                                                                              │\n",
       "╰─────────────────────────────────────────────────────────────────────────────────────────────────────────────────╯\n"
      ]
     },
     "metadata": {},
     "output_type": "display_data"
    },
    {
     "data": {
      "text/html": [
       "<pre style=\"white-space:pre;overflow-x:auto;line-height:normal;font-family:Menlo,'DejaVu Sans Mono',consolas,'Courier New',monospace\"><span style=\"color: #00ff00; text-decoration-color: #00ff00\">─────────────────────────────────────────────────── </span>API Request<span style=\"color: #00ff00; text-decoration-color: #00ff00\"> ───────────────────────────────────────────────────</span>\n",
       "</pre>\n"
      ],
      "text/plain": [
       "\u001b[92m─────────────────────────────────────────────────── \u001b[0mAPI Request\u001b[92m ───────────────────────────────────────────────────\u001b[0m\n"
      ]
     },
     "metadata": {},
     "output_type": "display_data"
    },
    {
     "data": {
      "text/html": [
       "<pre style=\"white-space:pre;overflow-x:auto;line-height:normal;font-family:Menlo,'DejaVu Sans Mono',consolas,'Courier New',monospace\"><span style=\"font-weight: bold\">{</span>\n",
       "    <span style=\"color: #008000; text-decoration-color: #008000\">'url'</span>: <span style=\"color: #008000; text-decoration-color: #008000\">'http://127.0.0.1:5000/api/playlist/3e42c410-bf51-4fa2-ab3d-fd19d8ac327a/relationships/videos'</span>,\n",
       "    <span style=\"color: #008000; text-decoration-color: #008000\">'headers'</span>: <span style=\"font-weight: bold\">{</span><span style=\"color: #008000; text-decoration-color: #008000\">'Content-Type'</span>: <span style=\"color: #008000; text-decoration-color: #008000\">'application/vnd.api+json'</span>, <span style=\"color: #008000; text-decoration-color: #008000\">'Accept'</span>: <span style=\"color: #008000; text-decoration-color: #008000\">'application/vnd.api+json'</span><span style=\"font-weight: bold\">}</span>,\n",
       "    <span style=\"color: #008000; text-decoration-color: #008000\">'json'</span>: <span style=\"font-weight: bold\">{</span>\n",
       "        <span style=\"color: #008000; text-decoration-color: #008000\">'data'</span>: <span style=\"font-weight: bold\">[</span>\n",
       "            <span style=\"font-weight: bold\">{</span><span style=\"color: #008000; text-decoration-color: #008000\">'type'</span>: <span style=\"color: #008000; text-decoration-color: #008000\">'video'</span>, <span style=\"color: #008000; text-decoration-color: #008000\">'id'</span>: <span style=\"color: #008000; text-decoration-color: #008000\">'ca585605-67d8-4e77-becc-8afa09a2fd82'</span><span style=\"font-weight: bold\">}</span>,\n",
       "            <span style=\"font-weight: bold\">{</span><span style=\"color: #008000; text-decoration-color: #008000\">'type'</span>: <span style=\"color: #008000; text-decoration-color: #008000\">'video'</span>, <span style=\"color: #008000; text-decoration-color: #008000\">'id'</span>: <span style=\"color: #008000; text-decoration-color: #008000\">'73cc46c0-5aff-47f4-bc1b-4a5a9d816164'</span><span style=\"font-weight: bold\">}</span>\n",
       "        <span style=\"font-weight: bold\">]</span>\n",
       "    <span style=\"font-weight: bold\">}</span>\n",
       "<span style=\"font-weight: bold\">}</span>\n",
       "</pre>\n"
      ],
      "text/plain": [
       "\u001b[1m{\u001b[0m\n",
       "    \u001b[32m'url'\u001b[0m: \u001b[32m'http://127.0.0.1:5000/api/playlist/3e42c410-bf51-4fa2-ab3d-fd19d8ac327a/relationships/videos'\u001b[0m,\n",
       "    \u001b[32m'headers'\u001b[0m: \u001b[1m{\u001b[0m\u001b[32m'Content-Type'\u001b[0m: \u001b[32m'application/vnd.api+json'\u001b[0m, \u001b[32m'Accept'\u001b[0m: \u001b[32m'application/vnd.api+json'\u001b[0m\u001b[1m}\u001b[0m,\n",
       "    \u001b[32m'json'\u001b[0m: \u001b[1m{\u001b[0m\n",
       "        \u001b[32m'data'\u001b[0m: \u001b[1m[\u001b[0m\n",
       "            \u001b[1m{\u001b[0m\u001b[32m'type'\u001b[0m: \u001b[32m'video'\u001b[0m, \u001b[32m'id'\u001b[0m: \u001b[32m'ca585605-67d8-4e77-becc-8afa09a2fd82'\u001b[0m\u001b[1m}\u001b[0m,\n",
       "            \u001b[1m{\u001b[0m\u001b[32m'type'\u001b[0m: \u001b[32m'video'\u001b[0m, \u001b[32m'id'\u001b[0m: \u001b[32m'73cc46c0-5aff-47f4-bc1b-4a5a9d816164'\u001b[0m\u001b[1m}\u001b[0m\n",
       "        \u001b[1m]\u001b[0m\n",
       "    \u001b[1m}\u001b[0m\n",
       "\u001b[1m}\u001b[0m\n"
      ]
     },
     "metadata": {},
     "output_type": "display_data"
    },
    {
     "data": {
      "text/html": [
       "<pre style=\"white-space:pre;overflow-x:auto;line-height:normal;font-family:Menlo,'DejaVu Sans Mono',consolas,'Courier New',monospace\"><span style=\"color: #00ff00; text-decoration-color: #00ff00\">──────────────────────────────────────────── </span>API Response status code<span style=\"color: #00ff00; text-decoration-color: #00ff00\"> ─────────────────────────────────────────────</span>\n",
       "</pre>\n"
      ],
      "text/plain": [
       "\u001b[92m──────────────────────────────────────────── \u001b[0mAPI Response status code\u001b[92m ─────────────────────────────────────────────\u001b[0m\n"
      ]
     },
     "metadata": {},
     "output_type": "display_data"
    },
    {
     "data": {
      "text/html": [
       "<pre style=\"white-space:pre;overflow-x:auto;line-height:normal;font-family:Menlo,'DejaVu Sans Mono',consolas,'Courier New',monospace\">response.status_code = <span style=\"color: #008080; text-decoration-color: #008080; font-weight: bold\">204</span>\n",
       "</pre>\n"
      ],
      "text/plain": [
       "response.status_code = \u001b[1;36m204\u001b[0m\n"
      ]
     },
     "metadata": {},
     "output_type": "display_data"
    },
    {
     "data": {
      "text/html": [
       "<pre style=\"white-space:pre;overflow-x:auto;line-height:normal;font-family:Menlo,'DejaVu Sans Mono',consolas,'Courier New',monospace\"><span style=\"color: #00ff00; text-decoration-color: #00ff00\">────────────────────────────────────────────── </span>API Response headers<span style=\"color: #00ff00; text-decoration-color: #00ff00\"> ───────────────────────────────────────────────</span>\n",
       "</pre>\n"
      ],
      "text/plain": [
       "\u001b[92m────────────────────────────────────────────── \u001b[0mAPI Response headers\u001b[92m ───────────────────────────────────────────────\u001b[0m\n"
      ]
     },
     "metadata": {},
     "output_type": "display_data"
    },
    {
     "data": {
      "text/html": [
       "<pre style=\"white-space:pre;overflow-x:auto;line-height:normal;font-family:Menlo,'DejaVu Sans Mono',consolas,'Courier New',monospace\"><span style=\"font-weight: bold\">{</span>\n",
       "    <span style=\"color: #008000; text-decoration-color: #008000\">'Server'</span>: <span style=\"color: #008000; text-decoration-color: #008000\">'Werkzeug/3.0.3 Python/3.8.13'</span>,\n",
       "    <span style=\"color: #008000; text-decoration-color: #008000\">'Date'</span>: <span style=\"color: #008000; text-decoration-color: #008000\">'Sun, 02 Jun 2024 04:45:38 GMT'</span>,\n",
       "    <span style=\"color: #008000; text-decoration-color: #008000\">'Content-Type'</span>: <span style=\"color: #008000; text-decoration-color: #008000\">'application/vnd.api+json'</span>,\n",
       "    <span style=\"color: #008000; text-decoration-color: #008000\">'Connection'</span>: <span style=\"color: #008000; text-decoration-color: #008000\">'close'</span>\n",
       "<span style=\"font-weight: bold\">}</span>\n",
       "</pre>\n"
      ],
      "text/plain": [
       "\u001b[1m{\u001b[0m\n",
       "    \u001b[32m'Server'\u001b[0m: \u001b[32m'Werkzeug/3.0.3 Python/3.8.13'\u001b[0m,\n",
       "    \u001b[32m'Date'\u001b[0m: \u001b[32m'Sun, 02 Jun 2024 04:45:38 GMT'\u001b[0m,\n",
       "    \u001b[32m'Content-Type'\u001b[0m: \u001b[32m'application/vnd.api+json'\u001b[0m,\n",
       "    \u001b[32m'Connection'\u001b[0m: \u001b[32m'close'\u001b[0m\n",
       "\u001b[1m}\u001b[0m\n"
      ]
     },
     "metadata": {},
     "output_type": "display_data"
    },
    {
     "data": {
      "text/html": [
       "<pre style=\"white-space:pre;overflow-x:auto;line-height:normal;font-family:Menlo,'DejaVu Sans Mono',consolas,'Courier New',monospace\"><span style=\"color: #00ff00; text-decoration-color: #00ff00\">──────────────────────────────────────────────── </span>API Response data<span style=\"color: #00ff00; text-decoration-color: #00ff00\"> ────────────────────────────────────────────────</span>\n",
       "</pre>\n"
      ],
      "text/plain": [
       "\u001b[92m──────────────────────────────────────────────── \u001b[0mAPI Response data\u001b[92m ────────────────────────────────────────────────\u001b[0m\n"
      ]
     },
     "metadata": {},
     "output_type": "display_data"
    },
    {
     "name": "stdout",
     "output_type": "stream",
     "text": [
      "No content\n"
     ]
    },
    {
     "data": {
      "text/html": [
       "<pre style=\"white-space:pre;overflow-x:auto;line-height:normal;font-family:Menlo,'DejaVu Sans Mono',consolas,'Courier New',monospace\"><span style=\"color: #00ff00; text-decoration-color: #00ff00\">─────────────────────────────────────────────────── </span>API Request<span style=\"color: #00ff00; text-decoration-color: #00ff00\"> ───────────────────────────────────────────────────</span>\n",
       "</pre>\n"
      ],
      "text/plain": [
       "\u001b[92m─────────────────────────────────────────────────── \u001b[0mAPI Request\u001b[92m ───────────────────────────────────────────────────\u001b[0m\n"
      ]
     },
     "metadata": {},
     "output_type": "display_data"
    },
    {
     "data": {
      "text/html": [
       "<pre style=\"white-space:pre;overflow-x:auto;line-height:normal;font-family:Menlo,'DejaVu Sans Mono',consolas,'Courier New',monospace\"><span style=\"font-weight: bold\">{</span>\n",
       "    <span style=\"color: #008000; text-decoration-color: #008000\">'url'</span>: <span style=\"color: #008000; text-decoration-color: #008000\">'http://127.0.0.1:5000/api/playlist/18ab3ee2-8f44-45b7-8add-ed4687e43aca/relationships/videos'</span>,\n",
       "    <span style=\"color: #008000; text-decoration-color: #008000\">'headers'</span>: <span style=\"font-weight: bold\">{</span><span style=\"color: #008000; text-decoration-color: #008000\">'Content-Type'</span>: <span style=\"color: #008000; text-decoration-color: #008000\">'application/vnd.api+json'</span>, <span style=\"color: #008000; text-decoration-color: #008000\">'Accept'</span>: <span style=\"color: #008000; text-decoration-color: #008000\">'application/vnd.api+json'</span><span style=\"font-weight: bold\">}</span>,\n",
       "    <span style=\"color: #008000; text-decoration-color: #008000\">'json'</span>: <span style=\"font-weight: bold\">{</span>\n",
       "        <span style=\"color: #008000; text-decoration-color: #008000\">'data'</span>: <span style=\"font-weight: bold\">[</span>\n",
       "            <span style=\"font-weight: bold\">{</span><span style=\"color: #008000; text-decoration-color: #008000\">'type'</span>: <span style=\"color: #008000; text-decoration-color: #008000\">'video'</span>, <span style=\"color: #008000; text-decoration-color: #008000\">'id'</span>: <span style=\"color: #008000; text-decoration-color: #008000\">'73cc46c0-5aff-47f4-bc1b-4a5a9d816164'</span><span style=\"font-weight: bold\">}</span>,\n",
       "            <span style=\"font-weight: bold\">{</span><span style=\"color: #008000; text-decoration-color: #008000\">'type'</span>: <span style=\"color: #008000; text-decoration-color: #008000\">'video'</span>, <span style=\"color: #008000; text-decoration-color: #008000\">'id'</span>: <span style=\"color: #008000; text-decoration-color: #008000\">'4e02748a-21a9-45d7-a0b6-ba41aedfd944'</span><span style=\"font-weight: bold\">}</span>\n",
       "        <span style=\"font-weight: bold\">]</span>\n",
       "    <span style=\"font-weight: bold\">}</span>\n",
       "<span style=\"font-weight: bold\">}</span>\n",
       "</pre>\n"
      ],
      "text/plain": [
       "\u001b[1m{\u001b[0m\n",
       "    \u001b[32m'url'\u001b[0m: \u001b[32m'http://127.0.0.1:5000/api/playlist/18ab3ee2-8f44-45b7-8add-ed4687e43aca/relationships/videos'\u001b[0m,\n",
       "    \u001b[32m'headers'\u001b[0m: \u001b[1m{\u001b[0m\u001b[32m'Content-Type'\u001b[0m: \u001b[32m'application/vnd.api+json'\u001b[0m, \u001b[32m'Accept'\u001b[0m: \u001b[32m'application/vnd.api+json'\u001b[0m\u001b[1m}\u001b[0m,\n",
       "    \u001b[32m'json'\u001b[0m: \u001b[1m{\u001b[0m\n",
       "        \u001b[32m'data'\u001b[0m: \u001b[1m[\u001b[0m\n",
       "            \u001b[1m{\u001b[0m\u001b[32m'type'\u001b[0m: \u001b[32m'video'\u001b[0m, \u001b[32m'id'\u001b[0m: \u001b[32m'73cc46c0-5aff-47f4-bc1b-4a5a9d816164'\u001b[0m\u001b[1m}\u001b[0m,\n",
       "            \u001b[1m{\u001b[0m\u001b[32m'type'\u001b[0m: \u001b[32m'video'\u001b[0m, \u001b[32m'id'\u001b[0m: \u001b[32m'4e02748a-21a9-45d7-a0b6-ba41aedfd944'\u001b[0m\u001b[1m}\u001b[0m\n",
       "        \u001b[1m]\u001b[0m\n",
       "    \u001b[1m}\u001b[0m\n",
       "\u001b[1m}\u001b[0m\n"
      ]
     },
     "metadata": {},
     "output_type": "display_data"
    },
    {
     "data": {
      "text/html": [
       "<pre style=\"white-space:pre;overflow-x:auto;line-height:normal;font-family:Menlo,'DejaVu Sans Mono',consolas,'Courier New',monospace\"><span style=\"color: #00ff00; text-decoration-color: #00ff00\">──────────────────────────────────────────── </span>API Response status code<span style=\"color: #00ff00; text-decoration-color: #00ff00\"> ─────────────────────────────────────────────</span>\n",
       "</pre>\n"
      ],
      "text/plain": [
       "\u001b[92m──────────────────────────────────────────── \u001b[0mAPI Response status code\u001b[92m ─────────────────────────────────────────────\u001b[0m\n"
      ]
     },
     "metadata": {},
     "output_type": "display_data"
    },
    {
     "data": {
      "text/html": [
       "<pre style=\"white-space:pre;overflow-x:auto;line-height:normal;font-family:Menlo,'DejaVu Sans Mono',consolas,'Courier New',monospace\">response.status_code = <span style=\"color: #008080; text-decoration-color: #008080; font-weight: bold\">204</span>\n",
       "</pre>\n"
      ],
      "text/plain": [
       "response.status_code = \u001b[1;36m204\u001b[0m\n"
      ]
     },
     "metadata": {},
     "output_type": "display_data"
    },
    {
     "data": {
      "text/html": [
       "<pre style=\"white-space:pre;overflow-x:auto;line-height:normal;font-family:Menlo,'DejaVu Sans Mono',consolas,'Courier New',monospace\"><span style=\"color: #00ff00; text-decoration-color: #00ff00\">────────────────────────────────────────────── </span>API Response headers<span style=\"color: #00ff00; text-decoration-color: #00ff00\"> ───────────────────────────────────────────────</span>\n",
       "</pre>\n"
      ],
      "text/plain": [
       "\u001b[92m────────────────────────────────────────────── \u001b[0mAPI Response headers\u001b[92m ───────────────────────────────────────────────\u001b[0m\n"
      ]
     },
     "metadata": {},
     "output_type": "display_data"
    },
    {
     "data": {
      "text/html": [
       "<pre style=\"white-space:pre;overflow-x:auto;line-height:normal;font-family:Menlo,'DejaVu Sans Mono',consolas,'Courier New',monospace\"><span style=\"font-weight: bold\">{</span>\n",
       "    <span style=\"color: #008000; text-decoration-color: #008000\">'Server'</span>: <span style=\"color: #008000; text-decoration-color: #008000\">'Werkzeug/3.0.3 Python/3.8.13'</span>,\n",
       "    <span style=\"color: #008000; text-decoration-color: #008000\">'Date'</span>: <span style=\"color: #008000; text-decoration-color: #008000\">'Sun, 02 Jun 2024 04:45:38 GMT'</span>,\n",
       "    <span style=\"color: #008000; text-decoration-color: #008000\">'Content-Type'</span>: <span style=\"color: #008000; text-decoration-color: #008000\">'application/vnd.api+json'</span>,\n",
       "    <span style=\"color: #008000; text-decoration-color: #008000\">'Connection'</span>: <span style=\"color: #008000; text-decoration-color: #008000\">'close'</span>\n",
       "<span style=\"font-weight: bold\">}</span>\n",
       "</pre>\n"
      ],
      "text/plain": [
       "\u001b[1m{\u001b[0m\n",
       "    \u001b[32m'Server'\u001b[0m: \u001b[32m'Werkzeug/3.0.3 Python/3.8.13'\u001b[0m,\n",
       "    \u001b[32m'Date'\u001b[0m: \u001b[32m'Sun, 02 Jun 2024 04:45:38 GMT'\u001b[0m,\n",
       "    \u001b[32m'Content-Type'\u001b[0m: \u001b[32m'application/vnd.api+json'\u001b[0m,\n",
       "    \u001b[32m'Connection'\u001b[0m: \u001b[32m'close'\u001b[0m\n",
       "\u001b[1m}\u001b[0m\n"
      ]
     },
     "metadata": {},
     "output_type": "display_data"
    },
    {
     "data": {
      "text/html": [
       "<pre style=\"white-space:pre;overflow-x:auto;line-height:normal;font-family:Menlo,'DejaVu Sans Mono',consolas,'Courier New',monospace\"><span style=\"color: #00ff00; text-decoration-color: #00ff00\">──────────────────────────────────────────────── </span>API Response data<span style=\"color: #00ff00; text-decoration-color: #00ff00\"> ────────────────────────────────────────────────</span>\n",
       "</pre>\n"
      ],
      "text/plain": [
       "\u001b[92m──────────────────────────────────────────────── \u001b[0mAPI Response data\u001b[92m ────────────────────────────────────────────────\u001b[0m\n"
      ]
     },
     "metadata": {},
     "output_type": "display_data"
    },
    {
     "name": "stdout",
     "output_type": "stream",
     "text": [
      "No content\n"
     ]
    }
   ],
   "source": [
    "rprint(Panel(\"Create playlist video relationship\"))\n",
    "# first, create two more videos and two playlists\n",
    "# now we have 3 videos and 2 playlists\n",
    "video_id_2 = str(uuid.uuid4())\n",
    "video_id_3 = str(uuid.uuid4())\n",
    "playlist_id_1 = str(uuid.uuid4())\n",
    "playlist_id_2 = str(uuid.uuid4())\n",
    "utc_now = get_utc_now()\n",
    "\n",
    "url = f\"{host}/api/{ETE.video.value}\"\n",
    "for ith, video_id in enumerate([video_id_2, video_id_3], start=2):\n",
    "    data = {\n",
    "        \"data\": {\n",
    "            \"type\": ETE.video.value,\n",
    "            \"id\": video_id,\n",
    "            \"attributes\": {\n",
    "                \"title\": f\"user 1 video {ith}\",\n",
    "                \"create_at\": utc_now.isoformat(),\n",
    "                \"update_at\": utc_now.isoformat(),\n",
    "                \"deleted\": 0,\n",
    "                \"author_id\": user_id_1,\n",
    "            },\n",
    "        },\n",
    "    }\n",
    "    kwargs = dict(\n",
    "        url=url,\n",
    "        headers=post_headers,\n",
    "        json=data,\n",
    "    )\n",
    "    requests.post(**kwargs)\n",
    "\n",
    "url = f\"{host}/api/{ETE.playlist.value}\"\n",
    "for ith, playlist_id in enumerate([playlist_id_1, playlist_id_2], start=1):\n",
    "    data = {\n",
    "        \"data\": {\n",
    "            \"type\": ETE.playlist.value,\n",
    "            \"id\": playlist_id,\n",
    "            \"attributes\": {\n",
    "                \"title\": f\"user 1 playlist {ith}\",\n",
    "                \"create_at\": utc_now.isoformat(),\n",
    "                \"update_at\": utc_now.isoformat(),\n",
    "                \"deleted\": 0,\n",
    "                \"owner_id\": user_id_1,\n",
    "            },\n",
    "        },\n",
    "    }\n",
    "    kwargs = dict(\n",
    "        url=url,\n",
    "        headers=post_headers,\n",
    "        json=data,\n",
    "    )\n",
    "    requests.post(**kwargs)\n",
    "\n",
    "# playlist 1 includes video 1 and video 2\n",
    "# playlist 2 includes video 2 and video 3\n",
    "url = f\"{host}/api/{ETE.playlist.value}/{playlist_id_1}/relationships/videos\"\n",
    "data = {\n",
    "    \"data\": [\n",
    "        {\n",
    "            \"type\": ETE.video.value,\n",
    "            \"id\": video_id_1,\n",
    "        },\n",
    "        {\n",
    "            \"type\": ETE.video.value,\n",
    "            \"id\": video_id_2,\n",
    "        },\n",
    "    ],\n",
    "}\n",
    "kwargs = dict(\n",
    "    url=url,\n",
    "    headers=post_headers,\n",
    "    json=data,\n",
    ")\n",
    "response = make_request(requests.patch, kwargs)\n",
    "\n",
    "url = f\"{host}/api/{ETE.playlist.value}/{playlist_id_2}/relationships/videos\"\n",
    "data = {\n",
    "    \"data\": [\n",
    "        {\n",
    "            \"type\": ETE.video.value,\n",
    "            \"id\": video_id_2,\n",
    "        },\n",
    "        {\n",
    "            \"type\": ETE.video.value,\n",
    "            \"id\": video_id_3,\n",
    "        },\n",
    "    ],\n",
    "}\n",
    "kwargs = dict(\n",
    "    url=url,\n",
    "    headers=post_headers,\n",
    "    json=data,\n",
    ")\n",
    "response = make_request(requests.patch, kwargs)\n",
    "\n",
    "# verify the data in the database\n",
    "with orm.Session(engine) as ses:\n",
    "    playlist = ses.get(Playlist, playlist_id_1)\n",
    "    assert {video.id for video in playlist.videos} == {\n",
    "        video_id_1,\n",
    "        video_id_2,\n",
    "    }\n",
    "    video = ses.get(Video, video_id_2)\n",
    "    assert {playlist.id for playlist in video.playlists} == {\n",
    "        playlist_id_1,\n",
    "        playlist_id_2,\n",
    "    }"
   ]
  },
  {
   "cell_type": "markdown",
   "id": "8b063bbd-3e09-40db-b82e-613f067ca002",
   "metadata": {},
   "source": [
    "## Update playlist video relationship"
   ]
  },
  {
   "cell_type": "code",
   "execution_count": 10,
   "id": "982ddaf1-154a-4d9e-b82b-e539918f7933",
   "metadata": {},
   "outputs": [
    {
     "data": {
      "text/html": [
       "<pre style=\"white-space:pre;overflow-x:auto;line-height:normal;font-family:Menlo,'DejaVu Sans Mono',consolas,'Courier New',monospace\">╭─────────────────────────────────────────────────────────────────────────────────────────────────────────────────╮\n",
       "│ Update playlist video relationship                                                                              │\n",
       "╰─────────────────────────────────────────────────────────────────────────────────────────────────────────────────╯\n",
       "</pre>\n"
      ],
      "text/plain": [
       "╭─────────────────────────────────────────────────────────────────────────────────────────────────────────────────╮\n",
       "│ Update playlist video relationship                                                                              │\n",
       "╰─────────────────────────────────────────────────────────────────────────────────────────────────────────────────╯\n"
      ]
     },
     "metadata": {},
     "output_type": "display_data"
    },
    {
     "data": {
      "text/html": [
       "<pre style=\"white-space:pre;overflow-x:auto;line-height:normal;font-family:Menlo,'DejaVu Sans Mono',consolas,'Courier New',monospace\"><span style=\"color: #00ff00; text-decoration-color: #00ff00\">─────────────────────────────────────────────────── </span>API Request<span style=\"color: #00ff00; text-decoration-color: #00ff00\"> ───────────────────────────────────────────────────</span>\n",
       "</pre>\n"
      ],
      "text/plain": [
       "\u001b[92m─────────────────────────────────────────────────── \u001b[0mAPI Request\u001b[92m ───────────────────────────────────────────────────\u001b[0m\n"
      ]
     },
     "metadata": {},
     "output_type": "display_data"
    },
    {
     "data": {
      "text/html": [
       "<pre style=\"white-space:pre;overflow-x:auto;line-height:normal;font-family:Menlo,'DejaVu Sans Mono',consolas,'Courier New',monospace\"><span style=\"font-weight: bold\">{</span>\n",
       "    <span style=\"color: #008000; text-decoration-color: #008000\">'url'</span>: <span style=\"color: #008000; text-decoration-color: #008000\">'http://127.0.0.1:5000/api/playlist/3e42c410-bf51-4fa2-ab3d-fd19d8ac327a/relationships/videos'</span>,\n",
       "    <span style=\"color: #008000; text-decoration-color: #008000\">'headers'</span>: <span style=\"font-weight: bold\">{</span><span style=\"color: #008000; text-decoration-color: #008000\">'Content-Type'</span>: <span style=\"color: #008000; text-decoration-color: #008000\">'application/vnd.api+json'</span>, <span style=\"color: #008000; text-decoration-color: #008000\">'Accept'</span>: <span style=\"color: #008000; text-decoration-color: #008000\">'application/vnd.api+json'</span><span style=\"font-weight: bold\">}</span>,\n",
       "    <span style=\"color: #008000; text-decoration-color: #008000\">'json'</span>: <span style=\"font-weight: bold\">{</span>\n",
       "        <span style=\"color: #008000; text-decoration-color: #008000\">'data'</span>: <span style=\"font-weight: bold\">[</span>\n",
       "            <span style=\"font-weight: bold\">{</span><span style=\"color: #008000; text-decoration-color: #008000\">'type'</span>: <span style=\"color: #008000; text-decoration-color: #008000\">'video'</span>, <span style=\"color: #008000; text-decoration-color: #008000\">'id'</span>: <span style=\"color: #008000; text-decoration-color: #008000\">'ca585605-67d8-4e77-becc-8afa09a2fd82'</span><span style=\"font-weight: bold\">}</span>,\n",
       "            <span style=\"font-weight: bold\">{</span><span style=\"color: #008000; text-decoration-color: #008000\">'type'</span>: <span style=\"color: #008000; text-decoration-color: #008000\">'video'</span>, <span style=\"color: #008000; text-decoration-color: #008000\">'id'</span>: <span style=\"color: #008000; text-decoration-color: #008000\">'4e02748a-21a9-45d7-a0b6-ba41aedfd944'</span><span style=\"font-weight: bold\">}</span>\n",
       "        <span style=\"font-weight: bold\">]</span>\n",
       "    <span style=\"font-weight: bold\">}</span>\n",
       "<span style=\"font-weight: bold\">}</span>\n",
       "</pre>\n"
      ],
      "text/plain": [
       "\u001b[1m{\u001b[0m\n",
       "    \u001b[32m'url'\u001b[0m: \u001b[32m'http://127.0.0.1:5000/api/playlist/3e42c410-bf51-4fa2-ab3d-fd19d8ac327a/relationships/videos'\u001b[0m,\n",
       "    \u001b[32m'headers'\u001b[0m: \u001b[1m{\u001b[0m\u001b[32m'Content-Type'\u001b[0m: \u001b[32m'application/vnd.api+json'\u001b[0m, \u001b[32m'Accept'\u001b[0m: \u001b[32m'application/vnd.api+json'\u001b[0m\u001b[1m}\u001b[0m,\n",
       "    \u001b[32m'json'\u001b[0m: \u001b[1m{\u001b[0m\n",
       "        \u001b[32m'data'\u001b[0m: \u001b[1m[\u001b[0m\n",
       "            \u001b[1m{\u001b[0m\u001b[32m'type'\u001b[0m: \u001b[32m'video'\u001b[0m, \u001b[32m'id'\u001b[0m: \u001b[32m'ca585605-67d8-4e77-becc-8afa09a2fd82'\u001b[0m\u001b[1m}\u001b[0m,\n",
       "            \u001b[1m{\u001b[0m\u001b[32m'type'\u001b[0m: \u001b[32m'video'\u001b[0m, \u001b[32m'id'\u001b[0m: \u001b[32m'4e02748a-21a9-45d7-a0b6-ba41aedfd944'\u001b[0m\u001b[1m}\u001b[0m\n",
       "        \u001b[1m]\u001b[0m\n",
       "    \u001b[1m}\u001b[0m\n",
       "\u001b[1m}\u001b[0m\n"
      ]
     },
     "metadata": {},
     "output_type": "display_data"
    },
    {
     "data": {
      "text/html": [
       "<pre style=\"white-space:pre;overflow-x:auto;line-height:normal;font-family:Menlo,'DejaVu Sans Mono',consolas,'Courier New',monospace\"><span style=\"color: #00ff00; text-decoration-color: #00ff00\">──────────────────────────────────────────── </span>API Response status code<span style=\"color: #00ff00; text-decoration-color: #00ff00\"> ─────────────────────────────────────────────</span>\n",
       "</pre>\n"
      ],
      "text/plain": [
       "\u001b[92m──────────────────────────────────────────── \u001b[0mAPI Response status code\u001b[92m ─────────────────────────────────────────────\u001b[0m\n"
      ]
     },
     "metadata": {},
     "output_type": "display_data"
    },
    {
     "data": {
      "text/html": [
       "<pre style=\"white-space:pre;overflow-x:auto;line-height:normal;font-family:Menlo,'DejaVu Sans Mono',consolas,'Courier New',monospace\">response.status_code = <span style=\"color: #008080; text-decoration-color: #008080; font-weight: bold\">204</span>\n",
       "</pre>\n"
      ],
      "text/plain": [
       "response.status_code = \u001b[1;36m204\u001b[0m\n"
      ]
     },
     "metadata": {},
     "output_type": "display_data"
    },
    {
     "data": {
      "text/html": [
       "<pre style=\"white-space:pre;overflow-x:auto;line-height:normal;font-family:Menlo,'DejaVu Sans Mono',consolas,'Courier New',monospace\"><span style=\"color: #00ff00; text-decoration-color: #00ff00\">────────────────────────────────────────────── </span>API Response headers<span style=\"color: #00ff00; text-decoration-color: #00ff00\"> ───────────────────────────────────────────────</span>\n",
       "</pre>\n"
      ],
      "text/plain": [
       "\u001b[92m────────────────────────────────────────────── \u001b[0mAPI Response headers\u001b[92m ───────────────────────────────────────────────\u001b[0m\n"
      ]
     },
     "metadata": {},
     "output_type": "display_data"
    },
    {
     "data": {
      "text/html": [
       "<pre style=\"white-space:pre;overflow-x:auto;line-height:normal;font-family:Menlo,'DejaVu Sans Mono',consolas,'Courier New',monospace\"><span style=\"font-weight: bold\">{</span>\n",
       "    <span style=\"color: #008000; text-decoration-color: #008000\">'Server'</span>: <span style=\"color: #008000; text-decoration-color: #008000\">'Werkzeug/3.0.3 Python/3.8.13'</span>,\n",
       "    <span style=\"color: #008000; text-decoration-color: #008000\">'Date'</span>: <span style=\"color: #008000; text-decoration-color: #008000\">'Sun, 02 Jun 2024 04:45:49 GMT'</span>,\n",
       "    <span style=\"color: #008000; text-decoration-color: #008000\">'Content-Type'</span>: <span style=\"color: #008000; text-decoration-color: #008000\">'application/vnd.api+json'</span>,\n",
       "    <span style=\"color: #008000; text-decoration-color: #008000\">'Connection'</span>: <span style=\"color: #008000; text-decoration-color: #008000\">'close'</span>\n",
       "<span style=\"font-weight: bold\">}</span>\n",
       "</pre>\n"
      ],
      "text/plain": [
       "\u001b[1m{\u001b[0m\n",
       "    \u001b[32m'Server'\u001b[0m: \u001b[32m'Werkzeug/3.0.3 Python/3.8.13'\u001b[0m,\n",
       "    \u001b[32m'Date'\u001b[0m: \u001b[32m'Sun, 02 Jun 2024 04:45:49 GMT'\u001b[0m,\n",
       "    \u001b[32m'Content-Type'\u001b[0m: \u001b[32m'application/vnd.api+json'\u001b[0m,\n",
       "    \u001b[32m'Connection'\u001b[0m: \u001b[32m'close'\u001b[0m\n",
       "\u001b[1m}\u001b[0m\n"
      ]
     },
     "metadata": {},
     "output_type": "display_data"
    },
    {
     "data": {
      "text/html": [
       "<pre style=\"white-space:pre;overflow-x:auto;line-height:normal;font-family:Menlo,'DejaVu Sans Mono',consolas,'Courier New',monospace\"><span style=\"color: #00ff00; text-decoration-color: #00ff00\">──────────────────────────────────────────────── </span>API Response data<span style=\"color: #00ff00; text-decoration-color: #00ff00\"> ────────────────────────────────────────────────</span>\n",
       "</pre>\n"
      ],
      "text/plain": [
       "\u001b[92m──────────────────────────────────────────────── \u001b[0mAPI Response data\u001b[92m ────────────────────────────────────────────────\u001b[0m\n"
      ]
     },
     "metadata": {},
     "output_type": "display_data"
    },
    {
     "name": "stdout",
     "output_type": "stream",
     "text": [
      "No content\n"
     ]
    }
   ],
   "source": [
    "rprint(Panel(\"Update playlist video relationship\"))\n",
    "\n",
    "url = f\"{host}/api/{ETE.playlist.value}/{playlist_id_1}/relationships/videos\"\n",
    "data = {\n",
    "    \"data\": [\n",
    "        {\n",
    "            \"type\": ETE.video.value,\n",
    "            \"id\": video_id_1,\n",
    "        },\n",
    "        {\n",
    "            \"type\": ETE.video.value,\n",
    "            \"id\": video_id_3,\n",
    "        },\n",
    "    ],\n",
    "}\n",
    "kwargs = dict(\n",
    "    url=url,\n",
    "    headers=post_headers,\n",
    "    json=data,\n",
    ")\n",
    "response = make_request(requests.patch, kwargs)\n",
    "\n",
    "# verify the data in the database\n",
    "with orm.Session(engine) as ses:\n",
    "    playlist = ses.get(Playlist, playlist_id_1)\n",
    "    assert {video.id for video in playlist.videos} == {\n",
    "        video_id_1,\n",
    "        video_id_3,\n",
    "    }\n"
   ]
  },
  {
   "cell_type": "code",
   "execution_count": null,
   "id": "8795a657-5072-4aec-a9a1-4a1556cf7639",
   "metadata": {},
   "outputs": [],
   "source": []
  }
 ],
 "metadata": {
  "kernelspec": {
   "display_name": "Python 3 (ipykernel)",
   "language": "python",
   "name": "python3"
  },
  "language_info": {
   "codemirror_mode": {
    "name": "ipython",
    "version": 3
   },
   "file_extension": ".py",
   "mimetype": "text/x-python",
   "name": "python",
   "nbconvert_exporter": "python",
   "pygments_lexer": "ipython3",
   "version": "3.8.13"
  }
 },
 "nbformat": 4,
 "nbformat_minor": 5
}
